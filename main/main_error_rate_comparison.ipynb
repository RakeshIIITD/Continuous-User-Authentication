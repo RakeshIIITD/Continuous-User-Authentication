{
 "cells": [
  {
   "cell_type": "code",
   "execution_count": 1,
   "metadata": {},
   "outputs": [
    {
     "name": "stderr",
     "output_type": "stream",
     "text": [
      "Using Theano backend.\n"
     ]
    },
    {
     "data": {
      "text/plain": [
       "'1.2.1'"
      ]
     },
     "execution_count": 1,
     "metadata": {},
     "output_type": "execute_result"
    }
   ],
   "source": [
    "import os, sys, getopt \n",
    "os.environ['KERAS_BACKEND'] = 'theano'\n",
    "import yaml\n",
    "import cPickle\n",
    "import numpy as np\n",
    "import keras\n",
    "from matplotlib import pyplot as plt \n",
    "import keras.callbacks\n",
    "from keras.datasets import mnist\n",
    "#from keras.utils.visualize_util import plot\n",
    "from keras.models import Sequential, Model\n",
    "from keras.optimizers import SGD, Adam, RMSprop\n",
    "from model import build_model, MyCallback\n",
    "from keras.callbacks import CSVLogger\n",
    "from data import load\n",
    "from sklearn.model_selection import train_test_split\n",
    "import keras.backend as K\n",
    "import theano.tensor as T\n",
    "from theano import function\n",
    "#np.set_printoptions(threshold=10000000)\n",
    "from theano.printing import return_value,reset_value\n",
    "keras.__version__"
   ]
  },
  {
   "cell_type": "code",
   "execution_count": 2,
   "metadata": {},
   "outputs": [
    {
     "name": "stdout",
     "output_type": "stream",
     "text": [
      "Model Loaded\n"
     ]
    }
   ],
   "source": [
    "%run model_new.ipynb\n",
    "dataset = '990622'\n",
    "old = []\n",
    "open('/home/rakesh/Desktop/zCap/new/log_hbp19_0.acc','w').close()  # clear previous data\n",
    "old_len = 0\n",
    "second_epoch = 15"
   ]
  },
  {
   "cell_type": "code",
   "execution_count": 3,
   "metadata": {},
   "outputs": [],
   "source": [
    "\n",
    "def build_data_dict(in_name, out_name, in_data, out_data):\n",
    "    in_dict = dict()\n",
    "    in_dict[in_name] = in_data\n",
    "    \n",
    "    out_dict = dict((k, out_data) for k in out_name)\n",
    "    return (in_dict, out_dict)\n",
    "\n",
    "def build_loss_weight(config):\n",
    "    if config['hedge'] == False:\n",
    "        w = [1.]\n",
    "    elif config['loss_weight'] == 'ave':\n",
    "        w = [1./ config['n_layers']]* config['n_layers']\n",
    "    return w\n",
    "def eer(y_true, y_pred):\n",
    "    y_true.eval()\n",
    "    #print type(K.mean(y_pred))\n",
    "    x1 = T.dscalar('x')\n",
    "    y1 = T.dscalar('x')\n",
    "    f = function([x], z)\n",
    "    \n",
    "    return K.mean(y_pred)\n",
    "\n",
    "def binary_accuracy(y_true, y_pred):\n",
    "    \n",
    "    '''Calculates the mean accuracy rate across all predictions for binary\n",
    "    classification problems.\n",
    "    '''\n",
    "    if print_mode==1:\n",
    "        y_pred = K.print_tensor(y_pred)\n",
    "    #K.print_tensor(y_pred)\n",
    "    #K.get_value(y_pred)\n",
    "    return K.mean(K.equal(y_true, K.round(y_pred)))"
   ]
  },
  {
   "cell_type": "code",
   "execution_count": 4,
   "metadata": {},
   "outputs": [],
   "source": [
    "def main(arg, idx=0):\n",
    "    config = {'learning_rate': 1e-3,\n",
    "              'optim': 'Adam',\n",
    "              'batch_size': 1,\n",
    "              'nb_epoch': 50,\n",
    "              'n_layers': 10,\n",
    "              'hidden_num': 100,\n",
    "              'activation': 'relu',\n",
    "              'loss_weight': 'ave',\n",
    "              'adaptive_weight': False,\n",
    "              'data': 'mnist',\n",
    "              'hedge': True,\n",
    "              'log': 'mnist_hedge.log'}\n",
    "\n",
    "    configfile = ''\n",
    "    opts = [('-c', 'hb19.yaml')]\n",
    "    args = []\n",
    "    for opt, arg in opts:\n",
    "        if opt == '-h':\n",
    "            print (helpstring)\n",
    "            yamlstring = yaml.dump(config,default_flow_style=False,explicit_start=True)\n",
    "            print(\"YAML configuration file format:\")\n",
    "            print(\"\")\n",
    "            print(\"%YAML 1.2\")\n",
    "            print(yamlstring)\n",
    "            sys.exit()\n",
    "\n",
    "        elif opt in ('-c', '--config'):\n",
    "            configfile = arg\n",
    "\n",
    "        print(\"Config file is %s\" % configfile)\n",
    "\n",
    "    if os.path.exists(configfile):\n",
    "        f = open(configfile)\n",
    "        user_config = yaml.load(f.read())\n",
    "        config.update(user_config)\n",
    "    \n",
    "    print(\"Printing configuration:\")\n",
    "    for key,value in config.iteritems():\n",
    "        print(\"  \",key,\": \",value)\n",
    "        \n",
    "    (X_train, Y_train, X_test, Y_test, nb_classes) = load(dataset)\n",
    "    (_, _, x_test, y_test, nb_classes) = load(dataset)\n",
    "    \n",
    "    print np.array_equal(Y_test,y_test)\n",
    "    \n",
    "    Y_TRAIN = Y_train.reshape(-1)\n",
    "    Y_TEST = Y_test.reshape(-1)\n",
    "    \n",
    "    train_len = Y_TRAIN.shape[0]\n",
    "    test_len = Y_TEST.shape[0]\n",
    "    \n",
    "    Y_train = np.zeros((train_len,2))\n",
    "    Y_test = np.zeros((test_len,2))\n",
    "    \n",
    "    Y_train[np.arange(train_len), Y_TRAIN] = 1\n",
    "    Y_test[np.arange(test_len), Y_TEST] = 1\n",
    "    \n",
    "    \n",
    "    #(X_test, Y_test, X_train, Y_train, nb_classes) = load(config['data'])\n",
    "    #print Y_test\n",
    "    #X_train = X_train[:500000]\n",
    "    #Y_train = Y_train[:500000]\n",
    "    '''\n",
    "    X_test = X_test[:1]\n",
    "    Y_test = Y_test[:1]'''\n",
    "    '''\n",
    "    # data for concept drift data \n",
    "    import numpy as np\n",
    "\n",
    "    X = np.load('/home/rakesh/Desktop/zCap/x_train.npy')\n",
    "    y = np.load('/home/rakesh/Desktop/zCap/y_train.npy')\n",
    "    \n",
    "    X_test, X_train, Y_test, Y_train = train_test_split(X, y,\n",
    "                                                    stratify=y, \n",
    "                                                    test_size=0.211)\n",
    "    '''\n",
    "    model, in_name, out_name = build_model(config)\n",
    "    if len(out_name) == 1:\n",
    "        out_name_loss = ['loss']\n",
    "    else:\n",
    "        out_name_loss = [s + '_loss' for s in out_name]\n",
    "\n",
    "    model.summary()\n",
    "    \n",
    "    #print Y_test[:,1].sum()\n",
    "    \n",
    "    #plot(model, to_file = 'model.png')\n",
    "    \n",
    "    optim = eval(config['optim'])(lr = config['learning_rate'])\n",
    "    in_dict, out_dict = build_data_dict(in_name, out_name, X_train, Y_train)\n",
    "    in_val, out_val = build_data_dict(in_name, out_name, X_test, Y_test)\n",
    "    loss_dict = dict((k, 'categorical_crossentropy') for k in out_name) \n",
    "  \n",
    "    loss_weights = build_loss_weight(config)\n",
    "    my_callback = MyCallback( loss_weights, names = out_name_loss, hedge = config['hedge'], log_name = config['log'])\n",
    "    #csv  = CSVLogger(config['log'])\n",
    "    \n",
    "    \n",
    "    model.compile(optimizer = optim, loss = loss_dict, hedge = config['hedge'],loss_weights = loss_weights, metrics =['accuracy'])#,binary_accuracy]) #['accuracy'])\n",
    "    \n",
    "    history = model.fit(in_dict, out_dict,validation_split=0.05, nb_epoch = config['nb_epoch'], batch_size = config['batch_size'], callbacks=[my_callback] , verbose = 1)\n",
    "    \n",
    "    # ------------------- save details of first training --------------\n",
    "    cumLoss = np.cumsum(my_callback.acc)\n",
    "    indexOfLoss = np.arange(len(cumLoss))+1\n",
    "    cumAverageLoss = cumLoss/indexOfLoss\n",
    "    filename = (config['log'] + '_' + str(idx) + '.acc')\n",
    "    np.savetxt(filename, cumAverageLoss, delimiter=',')\n",
    "    \n",
    "    #--------------------------------------------------------------\n",
    "    hbp = open('/home/rakesh/Desktop/zCap/new/log_hbp19_0.acc','r')\n",
    "    \n",
    "    for line in hbp.readlines():\n",
    "        old.append(float(line))\n",
    "    old_len = len(old)\n",
    "    #open('/home/rakesh/Desktop/zCap/new/log_hbp19_0.acc','w').close()    \n",
    "    history = model.fit(in_val, out_val,\n",
    "                        nb_epoch = second_epoch+config['nb_epoch'],\n",
    "                        \n",
    "                        batch_size = config['batch_size'], callbacks=[my_callback] , \n",
    "                        verbose = 1,\n",
    "                        \n",
    "                        initial_epoch =config['nb_epoch'])\n",
    "    #print history.keys()\n",
    "    #print model.evaluate(X_test,Y_test)\n",
    "    #print my_callback.acc\n",
    "    \n",
    "    k=return_value()\n",
    "    #print(k[0].shape)\n",
    "    \n",
    "    #----------------------   save details of second training  ---------------------\n",
    "    cumLoss = np.cumsum(my_callback.acc)\n",
    "    indexOfLoss = np.arange(len(cumLoss))+1\n",
    "    cumAverageLoss = cumLoss/indexOfLoss\n",
    "    filename = (config['log'] + '_' + str(idx) + '.acc')\n",
    "    np.savetxt(filename, cumAverageLoss, delimiter=',')\n",
    "    \n",
    "    return my_callback,history,model,x_test,y_test,in_val,out_val,k"
   ]
  },
  {
   "cell_type": "code",
   "execution_count": 5,
   "metadata": {
    "scrolled": true
   },
   "outputs": [
    {
     "name": "stdout",
     "output_type": "stream",
     "text": [
      "Config file is hb19.yaml\n",
      "Printing configuration:\n",
      "('  ', 'optim', ': ', 'SGD')\n",
      "('  ', 'activation', ': ', 'relu')\n",
      "('  ', 'n_layers', ': ', 10)\n",
      "('  ', 'batch_size', ': ', 50)\n",
      "('  ', 'hidden_num', ': ', 100)\n",
      "('  ', 'hedge', ': ', True)\n",
      "('  ', 'data', ': ', 'all_21')\n",
      "('  ', 'input_size', ': ', 21)\n",
      "('  ', 'log', ': ', 'log_hbp19')\n",
      "('  ', 'nb_epoch', ': ', 45)\n",
      "('  ', 'adaptive_weight', ': ', True)\n",
      "('  ', 'model', ': ', 'MLP')\n",
      "('  ', 'loss_weight', ': ', 'ave')\n",
      "('  ', 'learning_rate', ': ', 0.005)\n",
      "True\n",
      "____________________________________________________________________________________________________\n",
      "Layer (type)                     Output Shape          Param #     Connected to                     \n",
      "====================================================================================================\n",
      "in0 (InputLayer)                 (None, 21)            0                                            \n",
      "____________________________________________________________________________________________________\n",
      "dense_1 (Dense)                  (None, 100)           2200        in0[0][0]                        \n",
      "____________________________________________________________________________________________________\n",
      "activation_1 (Activation)        (None, 100)           0           dense_1[0][0]                    \n",
      "____________________________________________________________________________________________________\n",
      "dense_2 (Dense)                  (None, 100)           10100       activation_1[0][0]               \n",
      "____________________________________________________________________________________________________\n",
      "activation_2 (Activation)        (None, 100)           0           dense_2[0][0]                    \n",
      "____________________________________________________________________________________________________\n",
      "dense_3 (Dense)                  (None, 100)           10100       activation_2[0][0]               \n",
      "____________________________________________________________________________________________________\n",
      "activation_3 (Activation)        (None, 100)           0           dense_3[0][0]                    \n",
      "____________________________________________________________________________________________________\n",
      "dense_4 (Dense)                  (None, 100)           10100       activation_3[0][0]               \n",
      "____________________________________________________________________________________________________\n",
      "activation_4 (Activation)        (None, 100)           0           dense_4[0][0]                    \n",
      "____________________________________________________________________________________________________\n",
      "dense_5 (Dense)                  (None, 100)           10100       activation_4[0][0]               \n",
      "____________________________________________________________________________________________________\n",
      "activation_5 (Activation)        (None, 100)           0           dense_5[0][0]                    \n",
      "____________________________________________________________________________________________________\n",
      "dense_6 (Dense)                  (None, 100)           10100       activation_5[0][0]               \n",
      "____________________________________________________________________________________________________\n",
      "activation_6 (Activation)        (None, 100)           0           dense_6[0][0]                    \n",
      "____________________________________________________________________________________________________\n",
      "dense_7 (Dense)                  (None, 100)           10100       activation_6[0][0]               \n",
      "____________________________________________________________________________________________________\n",
      "activation_7 (Activation)        (None, 100)           0           dense_7[0][0]                    \n",
      "____________________________________________________________________________________________________\n",
      "dense_8 (Dense)                  (None, 100)           10100       activation_7[0][0]               \n",
      "____________________________________________________________________________________________________\n",
      "activation_8 (Activation)        (None, 100)           0           dense_8[0][0]                    \n",
      "____________________________________________________________________________________________________\n",
      "dense_9 (Dense)                  (None, 100)           10100       activation_8[0][0]               \n",
      "____________________________________________________________________________________________________\n",
      "activation_9 (Activation)        (None, 100)           0           dense_9[0][0]                    \n",
      "____________________________________________________________________________________________________\n",
      "dense_10 (Dense)                 (None, 100)           10100       activation_9[0][0]               \n",
      "____________________________________________________________________________________________________\n",
      "activation_10 (Activation)       (None, 100)           0           dense_10[0][0]                   \n",
      "____________________________________________________________________________________________________\n",
      "out0 (Dense)                     (None, 2)             202         activation_1[0][0]               \n",
      "____________________________________________________________________________________________________\n",
      "out1 (Dense)                     (None, 2)             202         activation_2[0][0]               \n",
      "____________________________________________________________________________________________________\n",
      "out2 (Dense)                     (None, 2)             202         activation_3[0][0]               \n",
      "____________________________________________________________________________________________________\n",
      "out3 (Dense)                     (None, 2)             202         activation_4[0][0]               \n",
      "____________________________________________________________________________________________________\n",
      "out4 (Dense)                     (None, 2)             202         activation_5[0][0]               \n",
      "____________________________________________________________________________________________________\n",
      "out5 (Dense)                     (None, 2)             202         activation_6[0][0]               \n",
      "____________________________________________________________________________________________________\n",
      "out6 (Dense)                     (None, 2)             202         activation_7[0][0]               \n",
      "____________________________________________________________________________________________________\n",
      "out7 (Dense)                     (None, 2)             202         activation_8[0][0]               \n",
      "____________________________________________________________________________________________________\n",
      "out8 (Dense)                     (None, 2)             202         activation_9[0][0]               \n",
      "____________________________________________________________________________________________________\n",
      "out9 (Dense)                     (None, 2)             202         activation_10[0][0]              \n",
      "====================================================================================================\n",
      "Total params: 95,120\n",
      "Trainable params: 95,120\n",
      "Non-trainable params: 0\n",
      "____________________________________________________________________________________________________\n",
      "weighted mode\n",
      "Train on 314735 samples, validate on 16565 samples\n",
      "Epoch 1/45\n"
     ]
    },
    {
     "name": "stdout",
     "output_type": "stream",
     "text": [
      "314735/314735 [==============================] - 41s - loss: 0.7223 - out0_loss: 5.9407 - out1_loss: 2.1556 - out2_loss: 1.0283 - out3_loss: 0.7404 - out4_loss: 0.6483 - out5_loss: 0.6290 - out6_loss: 0.6138 - out7_loss: 0.5989 - out8_loss: 0.5922 - out9_loss: 0.5881 - out0_acc: 0.6114 - out1_acc: 0.6151 - out2_acc: 0.6296 - out3_acc: 0.6510 - out4_acc: 0.6636 - out5_acc: 0.6626 - out6_acc: 0.6649 - out7_acc: 0.6659 - out8_acc: 0.6658 - out9_acc: 0.6692 - weighted_acc: 0.6680 - val_loss: 0.6715 - val_out0_loss: 4.8442 - val_out1_loss: 1.0906 - val_out2_loss: 0.7924 - val_out3_loss: 0.6480 - val_out4_loss: 0.6559 - val_out5_loss: 0.6356 - val_out6_loss: 0.6359 - val_out7_loss: 0.6056 - val_out8_loss: 0.6128 - val_out9_loss: 0.6040 - val_out0_acc: 0.5918 - val_out1_acc: 0.6093 - val_out2_acc: 0.6555 - val_out3_acc: 0.6008 - val_out4_acc: 0.5999 - val_out5_acc: 0.6370 - val_out6_acc: 0.6309 - val_out7_acc: 0.6484 - val_out8_acc: 0.6415 - val_out9_acc: 0.6465 - val_weighted_acc: 0.6375.5855 - out2_acc: 0.5602 - out3_acc: 0. - E - ETA: 28s - loss: 0.9272 - out0_loss: 6.3362 - out1_loss: 4.6348 - out2_loss: 1.7987 - out3_loss: 1.0646 - out4_loss: 0.8063 - out5_loss: 0.7465 - out6_loss: 0.7059 - out7_loss: 0.6630 - out8_loss: 0.6381 - out9_loss: 0.6276 - out0_acc: 0.5986 - out1_acc: 0.5875 - out2_acc: 0.5990 - out3_acc: 0.6263 - out - ETA: 26s - loss: 0.8953 - out0_loss: 6.2946 - out1_loss: 4.3212 - out2_loss: - ETA: 1s - loss: 0.7261 - out0_loss: 5.9682 - out1_loss: 2.2014 - out2_loss: 1.0389 - out3_loss: 0.7457 - out4_loss: 0.6510 - out5_loss: 0.6312 - out6_loss: 0.6156 - out7_loss: 0.6004 - out8_loss: 0.5933 - out9_loss: 0.5892 - out0_acc: 0.6121 - out1_acc: 0.6146 - out2_acc: 0.6293 - out3_acc: 0.6504 - out4_acc:  - ETA: 0s - loss: 0.7237 - out0_loss: 5.9498 - out1_loss: 2.1728 - out2_loss: 1.0321 - out3_loss: 0.7425 - out4_loss: 0.6493 - out5_loss: 0.6298 - out6_loss: 0.6145 - out7_loss: 0.5994 - out8_loss: 0.5926 - out9_loss: 0.5885 - out0_acc: 0.6120 - out1_acc: 0.6150 - out2_acc: 0.6296 - out3_acc: 0.6508 - out4_acc: 0.6634 - out5_acc: 0.6623 - out6_acc: 0.6647 - out7_ac\n",
      "Epoch 2/45\n",
      "314735/314735 [==============================] - 30s - loss: 0.5870 - out0_loss: 2.5213 - out1_loss: 0.7504 - out2_loss: 0.6742 - out3_loss: 0.5961 - out4_loss: 0.5749 - out5_loss: 0.5708 - out6_loss: 0.5653 - out7_loss: 0.5607 - out8_loss: 0.5611 - out9_loss: 0.5594 - out0_acc: 0.6167 - out1_acc: 0.6280 - out2_acc: 0.6396 - out3_acc: 0.6658 - out4_acc: 0.6726 - out5_acc: 0.6754 - out6_acc: 0.6776 - out7_acc: 0.6814 - out8_acc: 0.6814 - out9_acc: 0.6819 - weighted_acc: 0.6807 - val_loss: 0.5927 - val_out0_loss: 0.7570 - val_out1_loss: 0.6474 - val_out2_loss: 0.7226 - val_out3_loss: 0.6393 - val_out4_loss: 0.6116 - val_out5_loss: 0.5922 - val_out6_loss: 0.5904 - val_out7_loss: 0.5848 - val_out8_loss: 0.5879 - val_out9_loss: 0.5876 - val_out0_acc: 0.6486 - val_out1_acc: 0.6656 - val_out2_acc: 0.6049 - val_out3_acc: 0.6421 - val_out4_acc: 0.6521 - val_out5_acc: 0.6728 - val_out6_acc: 0.6644 - val_out7_acc: 0.6660 - val_out8_acc: 0.6600 - val_out9_acc: 0.6628 - val_weighted_acc: 0.6609\n",
      "Epoch 3/45\n",
      "314735/314735 [==============================] - 39s - loss: 0.5517 - out0_loss: 0.8270 - out1_loss: 0.6678 - out2_loss: 0.6390 - out3_loss: 0.5957 - out4_loss: 0.5690 - out5_loss: 0.5648 - out6_loss: 0.5562 - out7_loss: 0.5458 - out8_loss: 0.5466 - out9_loss: 0.5438 - out0_acc: 0.6456 - out1_acc: 0.6519 - out2_acc: 0.6530 - out3_acc: 0.6675 - out4_acc: 0.6775 - out5_acc: 0.6786 - out6_acc: 0.6820 - out7_acc: 0.6904 - out8_acc: 0.6888 - out9_acc: 0.6895 - weighted_acc: 0.6899 - val_loss: 0.5391 - val_out0_loss: 0.8779 - val_out1_loss: 0.6210 - val_out2_loss: 0.6214 - val_out3_loss: 0.5777 - val_out4_loss: 0.5559 - val_out5_loss: 0.5526 - val_out6_loss: 0.5486 - val_out7_loss: 0.5326 - val_out8_loss: 0.5356 - val_out9_loss: 0.5321 - val_out0_acc: 0.6698 - val_out1_acc: 0.6725 - val_out2_acc: 0.6779 - val_out3_acc: 0.6839 - val_out4_acc: 0.7072 - val_out5_acc: 0.7037 - val_out6_acc: 0.6840 - val_out7_acc: 0.7113 - val_out8_acc: 0.6991 - val_out9_acc: 0.7077 - val_weighted_acc: 0.70977 - out6_loss: 0.5545 - out7_loss: 0.5477 - out8_loss: 0.5486 - out9_loss: 0. - ETA: 8s - loss: 0.5525 - out0_loss: 0.8475 - out1_loss: 0.6682 - out2_loss: 0.6402 - out3_loss: 0.5941 - out4_loss: 0.5675 - out5_loss: 0.5631 - out6_loss: 0.5542 - out7_loss: 0.5\n",
      "Epoch 4/45\n",
      "314735/314735 [==============================] - 32s - loss: 0.5332 - out0_loss: 0.7709 - out1_loss: 0.6387 - out2_loss: 0.6203 - out3_loss: 0.5900 - out4_loss: 0.5715 - out5_loss: 0.5647 - out6_loss: 0.5549 - out7_loss: 0.5344 - out8_loss: 0.5337 - out9_loss: 0.5254 - out0_acc: 0.6352 - out1_acc: 0.6529 - out2_acc: 0.6613 - out3_acc: 0.6688 - out4_acc: 0.6813 - out5_acc: 0.6742 - out6_acc: 0.6830 - out7_acc: 0.7001 - out8_acc: 0.6987 - out9_acc: 0.7082 - weighted_acc: 0.7059 - val_loss: 0.5160 - val_out0_loss: 0.6931 - val_out1_loss: 0.5998 - val_out2_loss: 0.6132 - val_out3_loss: 0.5800 - val_out4_loss: 0.5608 - val_out5_loss: 0.5572 - val_out6_loss: 0.5469 - val_out7_loss: 0.5221 - val_out8_loss: 0.5214 - val_out9_loss: 0.5096 - val_out0_acc: 0.6483 - val_out1_acc: 0.6498 - val_out2_acc: 0.6774 - val_out3_acc: 0.6765 - val_out4_acc: 0.7024 - val_out5_acc: 0.7009 - val_out6_acc: 0.7092 - val_out7_acc: 0.7233 - val_out8_acc: 0.7116 - val_out9_acc: 0.7168 - val_weighted_acc: 0.71380 - out9_loss: 0.5260 - out0_acc: 0.6353 - out1_acc: 0.6526 - out2_acc: 0.6610 - out3_acc: 0.6691 - out4_acc: 0.6811 - out5_acc: 0.6741 - out6_acc:  - ETA: 0s - loss: 0.5334 - out0_loss: 0.7706 - out1_loss: 0.6389 - out2_loss: 0.6205 - out3_loss: 0.5899 - out4_loss: 0.5716 - out5_loss: 0.5647 - out6_loss: 0.5550 - out7_loss: 0.5345 - out8_loss: 0.5338 - out9_loss: 0.5257 - out0_acc: 0.6353 - out1_acc: 0.6528 - out2_acc: 0.6609 - out3_acc: 0.6689 - out4_acc: 0.6811 - out5_acc: 0.6\n",
      "Epoch 5/45\n",
      "314735/314735 [==============================] - 34s - loss: 0.5109 - out0_loss: 0.7505 - out1_loss: 0.6234 - out2_loss: 0.6148 - out3_loss: 0.5836 - out4_loss: 0.5680 - out5_loss: 0.5634 - out6_loss: 0.5548 - out7_loss: 0.5276 - out8_loss: 0.5243 - out9_loss: 0.5030 - out0_acc: 0.6329 - out1_acc: 0.6582 - out2_acc: 0.6641 - out3_acc: 0.6708 - out4_acc: 0.6839 - out5_acc: 0.6743 - out6_acc: 0.6829 - out7_acc: 0.7091 - out8_acc: 0.7114 - out9_acc: 0.7353 - weighted_acc: 0.7347 - val_loss: 0.5293 - val_out0_loss: 0.7908 - val_out1_loss: 0.6274 - val_out2_loss: 0.5910 - val_out3_loss: 0.5837 - val_out4_loss: 0.5648 - val_out5_loss: 0.5584 - val_out6_loss: 0.5591 - val_out7_loss: 0.5412 - val_out8_loss: 0.5311 - val_out9_loss: 0.5228 - val_out0_acc: 0.6336 - val_out1_acc: 0.6292 - val_out2_acc: 0.6659 - val_out3_acc: 0.6805 - val_out4_acc: 0.7024 - val_out5_acc: 0.6871 - val_out6_acc: 0.6802 - val_out7_acc: 0.7087 - val_out8_acc: 0.7172 - val_out9_acc: 0.7215 - val_weighted_acc: 0.7242 0.6229  - ETA: 19s - loss: 0.5194 - out0_loss: 0.7504 - out1_loss: 0.6354 - out2_loss: 0.6234 - out3_loss: 0.5891 - out4_loss: 0.5721 - out5_los - ETA: 1s - loss: 0.5114 - out0_loss: 0.7502 - out1_loss: 0.6240 - out2_loss: 0.6151 - out3_loss: 0.5839 - out4_loss: 0.5685 - out5_loss: 0.5638 - out6_loss: 0.5550 - out7_loss: 0.5279 - out8_loss: 0.5246 - out9_loss: 0.5035 - out0_acc: 0.6328 - out1_acc: 0.6581 - out2_acc: 0.\n",
      "Epoch 6/45\n"
     ]
    },
    {
     "name": "stdout",
     "output_type": "stream",
     "text": [
      "314735/314735 [==============================] - 32s - loss: 0.4846 - out0_loss: 0.8260 - out1_loss: 0.5931 - out2_loss: 0.5929 - out3_loss: 0.5746 - out4_loss: 0.5607 - out5_loss: 0.5555 - out6_loss: 0.5490 - out7_loss: 0.5188 - out8_loss: 0.5125 - out9_loss: 0.4744 - out0_acc: 0.6306 - out1_acc: 0.6711 - out2_acc: 0.6719 - out3_acc: 0.6735 - out4_acc: 0.6829 - out5_acc: 0.6738 - out6_acc: 0.6828 - out7_acc: 0.7161 - out8_acc: 0.7254 - out9_acc: 0.7552 - weighted_acc: 0.7553 - val_loss: 0.4747 - val_out0_loss: 0.8855 - val_out1_loss: 0.6492 - val_out2_loss: 0.5914 - val_out3_loss: 0.5756 - val_out4_loss: 0.5698 - val_out5_loss: 0.5674 - val_out6_loss: 0.5655 - val_out7_loss: 0.5235 - val_out8_loss: 0.5094 - val_out9_loss: 0.4619 - val_out0_acc: 0.6630 - val_out1_acc: 0.6456 - val_out2_acc: 0.6846 - val_out3_acc: 0.6730 - val_out4_acc: 0.6774 - val_out5_acc: 0.6577 - val_out6_acc: 0.6871 - val_out7_acc: 0.7166 - val_out8_acc: 0.7424 - val_out9_acc: 0.7808 - val_weighted_acc: 0.7650out1_acc: 0.6684 - out2_acc: 0.6702 - out3_acc: 0.6737 - out4_acc: 0.6841 - out5_acc: 0.6743 - out6_acc: 0.682 - ETA: 12s - loss: 0.4870 - out0_loss: 0.8189 - out1_loss: 0.5939 - out2_loss: 0.5933 - out3_loss: 0.5754 - out4_loss: 0.5600 - out5_loss: 0.5550 - out6_loss: 0.5472 - out7_loss: 0.5196 - out8_loss: 0.5 - ETA: 7s - loss: 0.4862 - out0_loss: 0.8212 - out1_loss: 0.5937 - out2_loss: 0.5933 - out3_loss: 0.5748 - out4_loss: 0.5610 - out5_loss: - ETA: 3s - loss: 0.4854 - out0_loss: 0.8223 - out1_loss: 0.5927 -  - ETA: 0s - loss: 0.4851 - out0_loss: 0.8243 - out1_loss: 0.5930 - out2_loss: 0.5932 - out3_loss: 0.5747 - out4_loss: 0.5609 - out5_loss: 0.5556 - out6_loss: 0.5492 - out7_loss: 0.5190 - out8_loss: 0.5128 - out9_loss: 0.4750 - out0_acc: 0.6302 - out1_acc: 0.6\n",
      "Epoch 7/45\n",
      "314735/314735 [==============================] - 33s - loss: 0.4755 - out0_loss: 0.8795 - out1_loss: 0.6020 - out2_loss: 0.5967 - out3_loss: 0.5829 - out4_loss: 0.5718 - out5_loss: 0.5641 - out6_loss: 0.5549 - out7_loss: 0.5201 - out8_loss: 0.5120 - out9_loss: 0.4634 - out0_acc: 0.6271 - out1_acc: 0.6685 - out2_acc: 0.6716 - out3_acc: 0.6766 - out4_acc: 0.6801 - out5_acc: 0.6726 - out6_acc: 0.6844 - out7_acc: 0.7142 - out8_acc: 0.7257 - out9_acc: 0.7630 - weighted_acc: 0.7623 - val_loss: 0.4475 - val_out0_loss: 0.9188 - val_out1_loss: 0.5684 - val_out2_loss: 0.5846 - val_out3_loss: 0.5701 - val_out4_loss: 0.5693 - val_out5_loss: 0.5586 - val_out6_loss: 0.5574 - val_out7_loss: 0.5154 - val_out8_loss: 0.5008 - val_out9_loss: 0.4330 - val_out0_acc: 0.5626 - val_out1_acc: 0.7253 - val_out2_acc: 0.6854 - val_out3_acc: 0.6655 - val_out4_acc: 0.6787 - val_out5_acc: 0.6717 - val_out6_acc: 0.6776 - val_out7_acc: 0.7228 - val_out8_acc: 0.7332 - val_out9_acc: 0.7955 - val_weighted_acc: 0.7966cc: 0.6766 - out4_acc: \n",
      "Epoch 8/45\n",
      "314735/314735 [==============================] - 32s - loss: 0.4525 - out0_loss: 0.9232 - out1_loss: 0.5852 - out2_loss: 0.5842 - out3_loss: 0.5724 - out4_loss: 0.5613 - out5_loss: 0.5586 - out6_loss: 0.5501 - out7_loss: 0.5127 - out8_loss: 0.5002 - out9_loss: 0.4384 - out0_acc: 0.6258 - out1_acc: 0.6755 - out2_acc: 0.6836 - out3_acc: 0.6833 - out4_acc: 0.6882 - out5_acc: 0.6721 - out6_acc: 0.6848 - out7_acc: 0.7238 - out8_acc: 0.7369 - out9_acc: 0.7792 - weighted_acc: 0.7784 - val_loss: 0.4545 - val_out0_loss: 1.5874 - val_out1_loss: 0.5840 - val_out2_loss: 0.5712 - val_out3_loss: 0.5647 - val_out4_loss: 0.5567 - val_out5_loss: 0.5606 - val_out6_loss: 0.5518 - val_out7_loss: 0.5073 - val_out8_loss: 0.4933 - val_out9_loss: 0.4337 - val_out0_acc: 0.5573 - val_out1_acc: 0.6538 - val_out2_acc: 0.7040 - val_out3_acc: 0.7050 - val_out4_acc: 0.6935 - val_out5_acc: 0.6971 - val_out6_acc: 0.7028 - val_out7_acc: 0.7414 - val_out8_acc: 0.7634 - val_out9_acc: 0.7924 - val_weighted_acc: 0.7890c: 0.7236 - out8_acc: 0.7370 - out9_acc: - ETA: 6s - loss: 0.4541 - out0_loss: 0.9155 - out1_loss: 0.5881 - out2_loss: 0.5861 - out3_loss: 0.5737 - out4_loss: 0.5622 - out5_loss: 0.5599 - out6_loss: 0.5509 - out7_loss: 0.5132 - out8_loss: 0.5009 - out9_loss: 0.4402 - out0_acc: 0.6263 - out1_ - ETA: 5s - loss: 0.4535 - out0_loss: 0.9150 - out1_loss: 0.5872 - out2_loss: 0.5860 - out3_loss: 0.5734 - out4_loss: 0.5620 - out5_loss: 0.5597 - out6_loss: 0.5507 - out7_loss: 0.5129 - out8_loss: 0.5006 - out9_loss: 0.4396 - out0_acc: 0.6266 - out1_acc: 0.6745 - out2_acc: 0.6824 - out3_acc: 0.6835 - out4_acc: 0.6876 - out5_acc: 0.6713 - out6_acc: 0.6852 - out7_acc: 0.7238 - out8_acc: 0.7370 - out9_acc: 0.7784 - weighted_acc: 0.77 - ETA: 5s - loss: 0.4535 - out0_loss: 0.9149 - out1_los - ETA: 0s - loss: 0.4526 - out0_loss: 0.9225 - out1_loss: 0.5852 - out2_loss: 0.5844 - out3_loss: 0.5727 - out4_loss: 0.5616 - out5_loss: 0.5588 - out6_loss: 0.5503 - out7_loss: 0.5128 - out8_loss: 0.5003 - out9_loss: 0.4386 - out0_acc: 0.6258 - out1_acc: 0.6753 - out2_acc: 0.6833 - out3_acc:\n",
      "Epoch 9/45\n"
     ]
    },
    {
     "name": "stdout",
     "output_type": "stream",
     "text": [
      "314735/314735 [==============================] - 36s - loss: 0.4395 - out0_loss: 0.9732 - out1_loss: 0.5745 - out2_loss: 0.5755 - out3_loss: 0.5649 - out4_loss: 0.5589 - out5_loss: 0.5530 - out6_loss: 0.5462 - out7_loss: 0.5093 - out8_loss: 0.4946 - out9_loss: 0.4242 - out0_acc: 0.6256 - out1_acc: 0.6820 - out2_acc: 0.6853 - out3_acc: 0.6847 - out4_acc: 0.6872 - out5_acc: 0.6786 - out6_acc: 0.6853 - out7_acc: 0.7262 - out8_acc: 0.7396 - out9_acc: 0.7882 - weighted_acc: 0.7875 - val_loss: 0.5065 - val_out0_loss: 0.7381 - val_out1_loss: 0.6009 - val_out2_loss: 0.6186 - val_out3_loss: 0.5981 - val_out4_loss: 0.5745 - val_out5_loss: 0.5672 - val_out6_loss: 0.5549 - val_out7_loss: 0.5374 - val_out8_loss: 0.5268 - val_out9_loss: 0.4982 - val_out0_acc: 0.6507 - val_out1_acc: 0.6692 - val_out2_acc: 0.6740 - val_out3_acc: 0.6255 - val_out4_acc: 0.6948 - val_out5_acc: 0.6869 - val_out6_acc: 0.6876 - val_out7_acc: 0.7156 - val_out8_acc: 0.7219 - val_out9_acc: 0.7743 - val_weighted_acc: 0.7705out4_loss: 0.5485 - out5_loss: 0.5474 - out6_loss: 0.5428 - out7_loss: 0.5077 - out8_loss: 0.4940 - out9_loss: 0.4291 - out0_acc: 0.6303 - out1_acc: 0.6759 - out2_acc: 0.6943 - out3_acc: 0.6922 - out4_acc: 0.7021 - out5_acc: 0.6850 - out6_acc: 0.6907 - out7_acc: 0.7245 - out8_acc:  - ETA: 30s - loss: 0.4440 - out0_loss: 0.9266 - out1_loss: 0.5761 - out2_loss: 0.5687 - out3_loss: 0.5648 - out4_loss: 0.5509 - out5_loss: 0.5490 - out6_loss: 0.5435 - out7_loss: 0.5088 - out8_loss: 0.4953 - out9_loss: 0.4298 - out0_acc: 0.6287 - out1_acc: 0.6759 - out2_acc: 0.6949 - out3_acc: 0.6894 - out4_acc: 0.6993 - out5_acc: 0.6844 - out6_acc: 0.6891 - out7_acc: 0.7265 - out8_acc: 0.7372 - out9_acc - ETA: 29s - loss: 0.4445 - out0_loss: 0.9435 - out1_loss: 0.5772 - out2_loss: 0.5716 - out3_loss: 0.5666 - out4_loss: 0.5538 - out5_loss: 0.5521 - out6_loss: 0.5459 - out7_loss: 0.5097 - out8_loss: 0.4959 - out9_loss: 0.4301 - out0_acc: 0.6246 - out1_acc: 0.6762 - out2_acc: 0.6930 - out3_acc: 0.6891 - out4_acc: 0.6981 - out5_acc: 0.6812 - out6_acc: 0.6870 - out7_acc: 0.7262 - out8_acc: 0.7371 - out9_acc: 0.7847 - weig - ETA: 29s - loss: 0.4434 - out0_loss: 0.9483 - out1_loss: 0.5770 - out2_loss: 0.5703 - out3_loss: 0.5657 - out4_loss: 0.5536 - out5_loss: 0.5521 - out6_loss: 0.5458 - out7_loss: 0.5094 - out8_loss: 0.4956 - out9_loss: 0.4288 - out0_acc: 0.6238 - out1_acc: 0.6756 - out2_acc: 0.6930 - out3_acc: 0.6901 - out4_acc: 0.6984 - out5_acc: 0.6806 - out6_acc: 0.6871 - out7_acc: 0.7263 - out8_acc: 0.7378 - out9_acc: 0.7850 - weighted_acc: 0.7 - ETA: 29s - loss: 0.4433 - out0_loss: 0.9457 - out1_loss: 0.5771 - out2_loss: 0.5705 - out3_loss: 0.5659 - out4_loss: 0.5540 - out5_loss: 0.5523 - out6_loss: 0.5461 - ETA: 28s - loss: 0.4426 - out0_loss: 0.9319 - out1_loss: 0.5766 - out2_loss: 0.5743 - out3_loss: 0.5670 - out4_loss: 0.5559 - out5_loss: 0.5535 - out6_loss: 0.5460 - out7_loss: 0.5096 - out8_loss: 0.4955 - out9_loss: 0.4280 - out0_acc: 0.6242 - out1_acc: 0.6786 - out2_acc: 0.6869 - out3_acc: 0.6858 - out4_acc: 0.6932 - o - ETA: 26s - loss: 0.4417 - out0_loss: 0.9480 - out1_loss: 0.5762 - out2_loss: 0.5736 - out3_loss: 0.5651 - out4_loss: 0.5549 - out5_loss: 0.5527 - out6_loss: 0.5452 - out7_loss: 0.5085 - out8_loss: 0.4945 - out9_loss: 0.4270 - out0_acc: 0.6232 - out1_acc: 0.6788 - out2_acc: 0.6884 - out3_acc: 0.6862 - out4_acc: 0.6929 - out5_acc: 0.6805 - out6_acc: 0.6892 - out7_acc: 0.7276 - out8_ac - ETA: 25s - loss: 0.4432 - out0_loss: 0.9453 - out1_loss: 0.5770 - out2_loss: 0.5753 - out3_loss: 0.5663 - out4_loss: 0.5560 - out5_loss: 0.5533 - out6_loss: 0.5460 - out7_loss: 0.5094 - out8_loss: 0.4954 - out9_loss: 0.4286 - out0_acc: 0.6242 - out1_acc: 0.6785 - out2_acc: 0.6873 - out3_acc: 0.6848 - out4_acc: 0.6922 - ETA: 24s - loss: 0.4427 - out0_loss: 0.9473 - out1_loss: 0.5779 - out2_loss: 0.5754 - out3_loss: 0.5663 - out4_loss: 0.5555 - out5_loss: 0.5526 - out6_loss: 0.5453 - out7_loss: 0.5088 - out8_loss: 0.4949 - out9_loss: 0.4279 - out0_acc: 0.6243 - out1_acc: 0.6784 - out2_acc: 0.6866 - out3_acc: 0.6830 - out4_acc: 0.6923 - out5_acc: 0.6797 - ETA: 23s - loss: 0.4417 - out0_loss: 0.9412 - out1_loss: 0.5766 - out2_loss: 0.5750 - out3_loss: 0.5653 - out4_loss: 0.5551 - out5_loss: 0.5516 - out6_loss: 0.5449 - out7_loss: 0.5083 - out8_loss: 0.4943 - out9_loss: 0.4270 - out0_acc: 0.6258 - out1_acc: 0.6792 - out2_acc: 0.6864 - out3_acc: 0.6836 - out4_acc: 0.6924 - out5_acc: 0.6795 - out6_acc: 0.6894 - out7 - ETA: 22s - loss: 0.4417 - out0_loss: 0.9464 - out1_loss: 0.5767 - out2_loss: 0.5752 - out3_loss: 0.5649 - out4_loss: 0.5549 - out5_loss: 0.5513 - out6_loss: 0.5445 - out7_loss: 0.5082 - out8_loss: 0.4943 - out9_loss: 0.4269 - out0_acc: 0.6252 - out1_acc: 0.6791 - out2_acc: 0.6865 - out3_acc - ETA: 20s - loss: 0.4415 - out0_loss: 0.9518 - out1_loss: 0.5756 - out2_loss: 0.5748 - out3_loss: 0.5650 - out4_loss: 0.5556 - out5_loss: 0.5520 - out6_loss: 0.5452 - out7_loss: 0.5086 - out8_loss: 0.4944 - out9_loss: 0.4267 - out0_acc: 0.6246 - out1_acc: 0.6802 - out2_acc: 0.6868 -  - ETA: 18s - loss: 0.4415 - out0_loss: 0.9542 - out1_loss: 0.5764 - out2_loss: 0.5762 - out3_loss: 0.5661 - out4_loss: 0 - ETA: 14s - loss: 0.4419 - out0_loss: 0.9596 - out1_loss: 0.5764 - out2_loss: 0.5770 - out3_loss: 0.5662 - out4_loss: 0.5586 - out5_loss: 0.5538 - out6_loss: 0.5471 - out7_loss: 0.5100 - out8_loss: 0.4955 - out9_loss: 0.4268 - out0_acc: 0.6253 - out1_acc: 0.6797 - out2_acc: 0.6848 - out3_acc: 0.6830 - out4_acc: 0.6877 - out5_acc: 0.6773 - out6 - ETA: 13s - loss: 0.4411 - out0_loss: 0.9562 - out - ETA: 6s - loss: 0.4397 - out0_loss: 0.9681 - out1_loss: 0.5744 - out2_loss: 0.5753 - out3_loss: 0 - ETA: 4s - loss: 0.4389 - out0_loss: 0.9654 - out1_loss: 0.5736 - out2_loss: 0.5751 - out3_loss: 0.5641 - out4_loss: 0.5581 - out5_loss: 0.5526 - out6_loss: 0.5459 - out7_loss: 0.5087 - out8_loss: 0.4939 - out9_loss: 0.4236 - out0_a\n",
      "Epoch 10/45\n"
     ]
    },
    {
     "name": "stdout",
     "output_type": "stream",
     "text": [
      "314735/314735 [==============================] - 33s - loss: 0.4315 - out0_loss: 1.0064 - out1_loss: 0.5689 - out2_loss: 0.5732 - out3_loss: 0.5631 - out4_loss: 0.5613 - out5_loss: 0.5539 - out6_loss: 0.5462 - out7_loss: 0.5085 - out8_loss: 0.4916 - out9_loss: 0.4151 - out0_acc: 0.6270 - out1_acc: 0.6880 - out2_acc: 0.6865 - out3_acc: 0.6876 - out4_acc: 0.6826 - out5_acc: 0.6774 - out6_acc: 0.6833 - out7_acc: 0.7234 - out8_acc: 0.7399 - out9_acc: 0.7946 - weighted_acc: 0.7942 - val_loss: 0.4169 - val_out0_loss: 0.7897 - val_out1_loss: 0.5474 - val_out2_loss: 0.5435 - val_out3_loss: 0.5493 - val_out4_loss: 0.5708 - val_out5_loss: 0.5566 - val_out6_loss: 0.5433 - val_out7_loss: 0.5115 - val_out8_loss: 0.4893 - val_out9_loss: 0.4020 - val_out0_acc: 0.6365 - val_out1_acc: 0.7071 - val_out2_acc: 0.6972 - val_out3_acc: 0.6973 - val_out4_acc: 0.6805 - val_out5_acc: 0.6724 - val_out6_acc: 0.6786 - val_out7_acc: 0.6901 - val_out8_acc: 0.7251 - val_out9_acc: 0.7905 - val_weighted_acc: 0.7927 out6_loss: 0.5607 - out7_loss: 0.5160 - out8_loss: 0.5019 - out9_loss: 0.4309 - out0_acc: 0.6255 - out1_acc: 0.6787 - out2_acc: 0.6800 - out3_acc: 0.6809 - out4_acc: 0.6776 - out5_acc: 0.6755 - out6_acc: 0.6765 - out7_acc: 0.7191 - out8_acc: 0.7374 - out9_acc: 0.7857 - weigh - ETA: 35s - loss: 0.4478 - out0_loss: 1.0299 - out1_loss: 0.6004 - out2_loss: 0.5979 - out3_loss: 0.5811 - out4_loss: 0.5737 - out5_loss: 0.5630 - out6_loss: 0.5602 - out7_loss: 0.5162 - out8_loss: 0.5021 - out9_loss: 0.4313 - out0_acc: 0.6237 - out1_acc: 0.6780 - out2_acc: 0.6799 - out3_acc: 0.6810 - out4_acc: 0.6765 - out5_acc: 0.6744 - out6_acc: 0.6777 - out7_acc: 0.7189 - out8_acc: 0.7365 - out9_acc: 0.7856 - wei - ETA: 34s - loss: 0.4467 - out0_loss: 1.0287 - out1_loss: 0.5992 - out2_loss: 0.5966 - out3_loss: 0.5796 - out4_loss: 0.5727 - out5_loss: 0.5625 - out6_loss: 0.5591 - out7_loss: 0.5153 - out8_loss: 0.5010 - out9_loss: 0.4303 - out0_acc: 0.6230 - out1_acc: 0.6771 - out2_acc: 0.6799 - out3_acc: 0.6811 - out4_acc: 0.6773 - out5_acc: 0.6742 - out6_ac - ETA: 35s - loss: 0.4434 - out0_loss: 1.0271 - out1_loss: 0.5950 - out2_loss: 0.5935 - out3_loss: 0.5770 - out4_loss: 0.5702 - out5_loss: 0.5613 - out6_loss: 0.5571 - out7_loss: 0.5145 - out8_loss: 0.4996 - out9_loss: 0.4268 - out0_acc: 0.6 - ETA: 32s - loss: 0.4430 - out0_loss: 1.0111 - out1_loss: 0.5888 - out2_loss: 0.5884 - out3_loss: 0.5745 - out4_loss: 0.5680 - out5_loss: 0.5596 - out6_loss: 0.5549 - out7_loss: 0.5145 - out8_loss: 0.4993 - out9_loss: 0.4268 - out0_acc: 0.6262 - out1_acc: 0.6794 - out2_acc: 0.6831 - out3_acc: 0.6818 - out4_acc: 0.6790 - out5_acc: 0.6730 - out6_acc: 0.6791 - out7_acc: 0.7189 - out8_acc: 0.7363 - out9_acc: 0.7892 - weight - ETA: 32s - loss: 0.4427 - out0_loss: 1.0090 - out1_loss: 0.5880 - out2_loss: 0.5882 - out3_loss: 0.5745 - out4_loss: 0.5681 - out5_loss: 0.5596 - out6_loss: 0.5547 - out7_loss: 0.5143 - out8_loss: 0.4991 - out9_loss: 0.4265 - out0_acc: 0.6266 - out1_acc: 0.6800 - out2_acc: 0.6835 - out3_acc: 0.6815 - out4_acc: 0.6786 - out5_acc: 0.672 - ETA: 30s - loss: 0.4424 - out0_loss: 1.0193 - out1_loss: 0.5858 - out2_loss: 0.5874 - out3_loss: 0.5732 - out4_loss: 0.5679 - out5_loss: 0.5592 - out6_loss: 0.5544 - out7_loss: 0.5143 - out8_loss: 0.4988 - out9_loss: 0.4262 - out0_acc: 0.6250 - out1_acc: 0.6805 - out2_acc: 0.6833 - out3_acc: 0.6825 - out4_acc: 0.6784 - out5_acc: 0.6726 - out6_acc: 0.6799 - out7_acc: 0.7198 - out8_acc: 0.7372 - out9_acc: 0.7890 - weighted_acc: 0 - ETA: 30s - loss: 0.4425 - out0_loss: 1.0192 - out1_loss: 0.5857 - - ETA: 5s - loss: 0.4332 - out0_loss: 1.0091 - out1_loss: 0.5712 - out2_loss: 0.5748 - out3_loss: 0.5649 - out4_loss: 0.5626 - out5_l - ETA: 0s - loss: 0.4317 - out0_loss: 1.0069 - out1_loss: 0.5692 - out2_loss: 0.5734 - out3_loss: 0.5634 - out4_loss: 0.5614 - out5_loss: 0.5541 - out6_loss: 0.5465 - out7_loss: 0.5087 - out8_loss: 0.4918 - out9_loss: 0.4153 - out0_acc: 0.6268 - out1_acc: 0.6878 - out2_acc: 0.6865 - out3_acc: 0.6874 - out4_acc: 0.6825 - out5_acc: 0.6772 - out6_acc\n",
      "Epoch 11/45\n"
     ]
    },
    {
     "name": "stdout",
     "output_type": "stream",
     "text": [
      "314735/314735 [==============================] - 39s - loss: 0.4216 - out0_loss: 1.0417 - out1_loss: 0.5645 - out2_loss: 0.5709 - out3_loss: 0.5617 - out4_loss: 0.5588 - out5_loss: 0.5513 - out6_loss: 0.5436 - out7_loss: 0.5059 - out8_loss: 0.4872 - out9_loss: 0.4041 - out0_acc: 0.6241 - out1_acc: 0.6892 - out2_acc: 0.6862 - out3_acc: 0.6882 - out4_acc: 0.6835 - out5_acc: 0.6857 - out6_acc: 0.6787 - out7_acc: 0.7219 - out8_acc: 0.7400 - out9_acc: 0.8013 - weighted_acc: 0.8005 - val_loss: 0.3988 - val_out0_loss: 0.9406 - val_out1_loss: 0.5628 - val_out2_loss: 0.5686 - val_out3_loss: 0.5670 - val_out4_loss: 0.5643 - val_out5_loss: 0.5636 - val_out6_loss: 0.5505 - val_out7_loss: 0.5081 - val_out8_loss: 0.4909 - val_out9_loss: 0.3798 - val_out0_acc: 0.6479 - val_out1_acc: 0.7026 - val_out2_acc: 0.6755 - val_out3_acc: 0.6760 - val_out4_acc: 0.6962 - val_out5_acc: 0.6768 - val_out6_acc: 0.6783 - val_out7_acc: 0.7166 - val_out8_acc: 0.7102 - val_out9_acc: 0.8272 - val_weighted_acc: 0.8269: 0.5067 - out8_loss: 0.4879 - out9_loss: 0.4078 - out0_acc: 0.6253 - out1_acc: 0.6900 - out2_acc: 0.6848 - out3_acc: 0.6908 - out4_acc: 0.6870 - out5_acc: 0.6886 - out6_acc: 0.6777 - out7_acc: 0.7233 - out8_acc: 0.7424 - out9_a - ETA: 26s - loss: 0.4257 - out0_loss: 1.0569 - out1_loss: 0.5650 - out2_loss: 0.5697 - out3_loss: 0.5578 - out4_loss: 0.5579 - out5_loss: 0.5506 - out6_loss: 0.5 - ETA: 25s - loss: 0.4240 - out0_loss: 1.0498 - out1_loss: 0.5642 - out2_loss: 0.5679 - out3_loss: 0.5595 - out4_loss: 0.5571 - out5_loss: 0.5504 - out6_loss: 0.5431 - out7_loss: 0.5058 - out8_loss: 0.4870 - out9_loss: 0.4068 - out0_acc: 0.6255 - out1_acc: 0.6905 - out2_acc: 0.6859 - out3_acc: 0.6899 - out4_acc: 0.6866 - out5_acc: 0.6865 - out6_acc: 0.6779 - out7_acc: 0.7229 - out8_acc: 0.7424 - out9_acc: 0.8001 - weight - ETA: 24s - loss: 0.4245 - out0_loss: 1.0505 - out1_loss: 0.5642 - out2_loss: 0.5679 - out3_loss: 0.5596 - out4_loss: 0.5572 - out5_loss: 0.5506 - out6_loss: 0.5432 - out7_loss: 0.5059 - out8_loss: 0.4871 - out9_loss: 0.4073 - out0_acc: 0.6258 - out1_acc: 0.6904 - out2_acc: 0.6856 - out3_acc: 0.6897 - out4_acc: 0.6865 - out5_acc: 0.6863 - out6_acc: 0.6779 - out7_acc: 0.7229 - out8_ - ETA: 25s - loss: 0.4241 - out0_loss: 1.0475 - out1_loss: 0.5632 - out2_loss: 0.5677 - out3_loss: 0.5594 - out4_loss: 0.5571  - ETA: 25s - loss: 0.4236 - out0_loss: 1.0457 - out1_loss: 0.5624 - out2_loss: 0.5678 - out3_loss: 0.5594 - out4_loss: 0.5571 - out5_loss: 0.5506 - out6_loss: 0.5428 - out7_loss: 0.5059 -  - ETA: 20s - loss: 0.4231 - out0_loss: 1.0380 - out1_loss: 0.5616 - out2_loss: 0.5681 - out3_loss: 0.5598 - out4_loss: 0.5579 - out5_loss: 0.5506 - out6_loss: 0.5429 - out7_loss: 0.5059 - out8_loss: 0.4871 - out9_loss: 0.4059 - out0_acc: 0.6254 - out1_acc: 0.6896 - out2_acc: 0.6854 - out3_acc: 0.6884 - out4_acc: 0.6837 - out5_acc: 0.6837 - out6_acc: 0.6767 - out7_acc: 0.7218 - out8_acc: 0.7411 - out9_acc: 0.8000 - weighted_acc: 0.799 - ETA: 20s - loss: 0.4231 - out0_loss: 1.0381 - out1_loss: 0.5616 - out2_loss: 0.5681 - out3_loss: 0.5597 - out4_loss: 0.5578 - out5_loss: 0.5506 - out6_loss: 0.5429 - out7_loss: 0.5059 - out8_loss: 0.4870 - out9_loss: 0.4059 - out0_acc: 0.6254 - out1_acc: 0.6896 - out2_a - ETA: 17s - loss: 0.4237 - out0_loss: 1.0422 - out1_loss: 0.5633 - out2_loss: 0.5714 - out3_loss: 0.5623 - out4_loss: 0.5586 - out5_lo - ETA: 12s - loss: 0.4228 - out0_loss: 1.0376 - out1_loss: 0.5647 - out2_loss: 0.5712 - out3_loss - ETA: 5s - loss: 0.4223 - out0_loss: 1.0399 - out1_loss: 0.5645 - out2_loss: 0.5709 - out3_loss: 0.561 - ETA: 3s - loss: 0.4219 - out0_loss: 1.0418 - out1_loss: 0.5640 - out2_loss: 0.5706 - out3_loss: 0.5617 - out4_loss: 0.5586 - out5_loss: 0.5512 - out6_loss: 0.5435 - out7_los - ETA: 1s - loss: 0.4216 - out0_loss: 1.0401 - out1_loss: 0.5641 - out2_loss: 0.5709 - out3_loss: 0.5617 - out4_loss: 0.5589 - out5_loss: 0.5513 - out6_loss: 0.5436 - out7_loss: 0.5059 - out8 - ETA: 0s - loss: 0.4216 - out0_loss: 1.0418 - out1_loss: 0.5646 - out2_loss: 0.5709 - out3_loss: 0.5618 - out4_loss: 0.5590 - out5_loss: 0.5513 - out6_loss: 0.5437 - out7_loss: 0.5059 - out8_loss: 0.4872 - out9_loss: 0.4041 - out0_acc: 0.6240 - out1_acc: 0.6892 - out2_acc: 0.6862 - out3_acc: 0.6881 - out4_acc: 0.6833 - out5_acc: 0.6855 - out6_acc: 0.6785 - out7_acc: 0.7218 - out8_acc\n",
      "Epoch 12/45\n"
     ]
    },
    {
     "name": "stdout",
     "output_type": "stream",
     "text": [
      "314735/314735 [==============================] - 40s - loss: 0.4211 - out0_loss: 1.1012 - out1_loss: 0.5676 - out2_loss: 0.5745 - out3_loss: 0.5641 - out4_loss: 0.5607 - out5_loss: 0.5528 - out6_loss: 0.5448 - out7_loss: 0.5096 - out8_loss: 0.4906 - out9_loss: 0.4027 - out0_acc: 0.6232 - out1_acc: 0.6873 - out2_acc: 0.6820 - out3_acc: 0.6898 - out4_acc: 0.6813 - out5_acc: 0.6846 - out6_acc: 0.6825 - out7_acc: 0.7183 - out8_acc: 0.7408 - out9_acc: 0.8025 - weighted_acc: 0.8019 - val_loss: 0.4152 - val_out0_loss: 0.8132 - val_out1_loss: 0.5971 - val_out2_loss: 0.5791 - val_out3_loss: 0.5765 - val_out4_loss: 0.5839 - val_out5_loss: 0.5641 - val_out6_loss: 0.5561 - val_out7_loss: 0.5154 - val_out8_loss: 0.4951 - val_out9_loss: 0.3983 - val_out0_acc: 0.6252 - val_out1_acc: 0.6628 - val_out2_acc: 0.6850 - val_out3_acc: 0.7045 - val_out4_acc: 0.6849 - val_out5_acc: 0.6892 - val_out6_acc: 0.6852 - val_out7_acc: 0.7247 - val_out8_acc: 0.7507 - val_out9_acc: 0.8080 - val_weighted_acc: 0.80168 - out8_loss: 0.4857 - out9_loss: 0.4031 - out0_acc: 0.6256 - out1_acc: 0.6905 - out2_acc: 0.6898 - out3_acc: 0.6900 - out4_acc: 0.6851 - out5_acc: 0.6894 - out6_acc: 0.6812 - out7_acc: 0.7229 - out8_acc: 0.7376 - out9_acc: 0.8028 - weight - ETA: 29s - loss: 0.4198 - out0_loss: 1.0443 - out1_loss: 0.5602 - out2_loss: 0.5671 - out3_loss: 0.5582 - out4_loss: 0.5542 - out5_loss: 0.5464 - out6_loss: 0.5406 - out7_loss: 0.5030 - out8_loss: 0.4850 - out9_loss: 0.4025 - out0_acc: 0.6271 - out1_acc: 0.6909 - out2_acc: 0.6900 - out3_acc: 0.6905 - out4_acc: 0.6855 - out5_acc: 0.6901 - out6_acc: 0.6816 - out7_acc: 0.7235 - out8_acc: 0.7385 - out9_acc:  - ETA: 29s - loss: 0.4196 - out0_loss: 1.0419 - out1_loss: 0.5604 - out2_loss: 0.5675 - out3_loss: 0.5590 - out4_loss: 0.5548 - out5_loss: 0.5469 - out6_loss: 0.5412 - out7_loss: 0.5032 - out8_loss: 0.4851 - out9_loss: 0.4022 - out0_acc: 0.6274 - out1_acc: 0.69 - ETA: 30s - loss: 0.4167 - out0_loss: 1.0475 - out1_loss: 0.5599 - out2_loss: 0.5656 - out3_loss: 0.5574 - out4_loss: 0.5543 - out5_loss: 0.5464 - out6_loss: 0.5409 - out7_loss: 0.5024 - out8_loss: 0.4836 - out9_loss: 0.3990 - out0_acc: 0.6277 - out1_acc: 0.6914 - out2_acc: 0.6895 - out - ETA: 28s - loss: 0.4173 - out0_loss: 1.0614 - out1_loss: 0.5609 - out2_loss: 0.5656 - out3_loss: 0.5582 - out4_loss: 0.5542 - out5_loss: 0.5464 - out6_loss: 0.5411 - out7_loss: 0.5028 - out8_loss: 0.4842 - out9_loss: 0.3995 - out0_acc: 0 - ETA: 18s - loss: 0.4168 - out0_loss: 1.0843 - out1_loss: 0.5600 - out2_loss: 0.5662 - out3_loss: 0.5580 - out4_loss: 0.5554 - out5_loss: 0.5470 - out6_loss: 0.5412 - out7_loss: 0.5036 - out8_loss: 0.4847 - out9_loss: 0.3986 - out0_acc: 0.6238 - ou - ETA: 16s - loss: 0.4181 - out0_loss: 1.0928 - out1_loss: 0.5609 - out2_loss: 0.5686 - out3_loss: 0.5590 - out4_loss: 0.5560 - out5_loss: 0.5476 - out6_loss: 0.5421 - out7_loss: 0.5052 - out8_loss: 0.4864 - out9_loss: 0.4000 - out0_acc: 0.6230 - out1_acc: 0.6908 - out2_acc: 0.6880 - out3_acc: 0.6912 - out4_acc: 0.6831 - out5_acc: 0.6869 - out6_acc: 0. - ETA: 15s - loss: 0.4188 - out0_loss: 1.0911 - out1_loss: 0.5609 - out2_loss: 0.5689 - out3_loss: 0.5591 - out4_loss: 0.5559 - out5_loss: 0.5477 - out6_loss: 0.5422 - out7_loss: 0. - ETA: 8s - loss: 0.4193 - out0_loss: 1.0916 - out1_loss: 0.5618 - out2_loss: 0.5701 - out3_loss: 0.5596 - out4_loss: 0.5570 - out5_loss: 0.5497 - out6_loss: 0.5433 - out7_loss: 0.5075 - out8_loss: 0.4887 - out9_loss: 0.4012 - out0_acc: 0.6232 - out1_acc: 0.6894 - out2_acc: 0.68 - ETA: 7s - loss: 0.4197 - out0_loss: 1.0925 - out1_loss: 0.5619 - out2_loss: 0.5701 - out3_loss: 0.5594 - out4_loss: 0.5571 - out5\n",
      "Epoch 13/45\n",
      "314735/314735 [==============================] - 32s - loss: 0.4100 - out0_loss: 1.0568 - out1_loss: 0.5612 - out2_loss: 0.5639 - out3_loss: 0.5596 - out4_loss: 0.5567 - out5_loss: 0.5505 - out6_loss: 0.5439 - out7_loss: 0.5087 - out8_loss: 0.4873 - out9_loss: 0.3913 - out0_acc: 0.6304 - out1_acc: 0.6917 - out2_acc: 0.6865 - out3_acc: 0.6928 - out4_acc: 0.6826 - out5_acc: 0.6869 - out6_acc: 0.6783 - out7_acc: 0.7200 - out8_acc: 0.7482 - out9_acc: 0.8099 - weighted_acc: 0.8096 - val_loss: 0.4487 - val_out0_loss: 0.6363 - val_out1_loss: 0.6394 - val_out2_loss: 0.5603 - val_out3_loss: 0.5766 - val_out4_loss: 0.5677 - val_out5_loss: 0.5594 - val_out6_loss: 0.5559 - val_out7_loss: 0.5338 - val_out8_loss: 0.5078 - val_out9_loss: 0.4366 - val_out0_acc: 0.6743 - val_out1_acc: 0.6334 - val_out2_acc: 0.7061 - val_out3_acc: 0.6790 - val_out4_acc: 0.6589 - val_out5_acc: 0.6691 - val_out6_acc: 0.6866 - val_out7_acc: 0.7065 - val_out8_acc: 0.7117 - val_out9_acc: 0.7677 - val_weighted_acc: 0.7653out - ETA: 2s - loss: 0.4098 - out0_loss: 1.0521 - out1_loss: 0.5614 - out2_loss: 0.5640 - out3_loss: 0.5596 - out4_loss: 0.5567 - out5_loss: 0.5505 - out6_loss: 0.5441 - out7_loss: 0.5087 - out8_loss: 0.4873 - out9_loss: 0.3911 - out0_acc: 0.6305 - out1_acc: 0.6920 - out2_acc: 0.6863 - out3_acc: 0.6930 - out4_acc - ETA: 1s - loss: 0.4099 - out0_loss: 1.0542 - out1_loss: 0.5612 - out2_loss: 0.5639 - out3_loss: 0.5595 - out4_loss: 0.5565 - out5_loss: 0.5504 - out6_loss: 0.5440 - out7_loss: 0.508\n",
      "Epoch 14/45\n",
      "314735/314735 [==============================] - 32s - loss: 0.4032 - out0_loss: 1.0821 - out1_loss: 0.5559 - out2_loss: 0.5604 - out3_loss: 0.5556 - out4_loss: 0.5534 - out5_loss: 0.5466 - out6_loss: 0.5397 - out7_loss: 0.5040 - out8_loss: 0.4821 - out9_loss: 0.3840 - out0_acc: 0.6324 - out1_acc: 0.6939 - out2_acc: 0.6906 - out3_acc: 0.6939 - out4_acc: 0.6866 - out5_acc: 0.6909 - out6_acc: 0.6799 - out7_acc: 0.7232 - out8_acc: 0.7517 - out9_acc: 0.8150 - weighted_acc: 0.8146 - val_loss: 0.3974 - val_out0_loss: 0.9750 - val_out1_loss: 0.5463 - val_out2_loss: 0.5428 - val_out3_loss: 0.5509 - val_out4_loss: 0.5606 - val_out5_loss: 0.5484 - val_out6_loss: 0.5431 - val_out7_loss: 0.5067 - val_out8_loss: 0.4856 - val_out9_loss: 0.3788 - val_out0_acc: 0.6159 - val_out1_acc: 0.7347 - val_out2_acc: 0.7201 - val_out3_acc: 0.6992 - val_out4_acc: 0.6919 - val_out5_acc: 0.6889 - val_out6_acc: 0.6830 - val_out7_acc: 0.7388 - val_out8_acc: 0.7570 - val_out9_acc: 0.8145 - val_weighted_acc: 0.8146\n",
      "Epoch 15/45\n"
     ]
    },
    {
     "name": "stdout",
     "output_type": "stream",
     "text": [
      "314735/314735 [==============================] - 33s - loss: 0.3991 - out0_loss: 1.1285 - out1_loss: 0.5535 - out2_loss: 0.5559 - out3_loss: 0.5531 - out4_loss: 0.5520 - out5_loss: 0.5472 - out6_loss: 0.5393 - out7_loss: 0.4997 - out8_loss: 0.4783 - out9_loss: 0.3792 - out0_acc: 0.6313 - out1_acc: 0.6945 - out2_acc: 0.6952 - out3_acc: 0.6956 - out4_acc: 0.6855 - out5_acc: 0.6899 - out6_acc: 0.6857 - out7_acc: 0.7312 - out8_acc: 0.7563 - out9_acc: 0.8171 - weighted_acc: 0.8167 - val_loss: 0.3544 - val_out0_loss: 0.6326 - val_out1_loss: 0.5324 - val_out2_loss: 0.5343 - val_out3_loss: 0.5423 - val_out4_loss: 0.5503 - val_out5_loss: 0.5432 - val_out6_loss: 0.5367 - val_out7_loss: 0.4931 - val_out8_loss: 0.4674 - val_out9_loss: 0.3364 - val_out0_acc: 0.6723 - val_out1_acc: 0.7128 - val_out2_acc: 0.7205 - val_out3_acc: 0.7216 - val_out4_acc: 0.6950 - val_out5_acc: 0.6980 - val_out6_acc: 0.6980 - val_out7_acc: 0.7265 - val_out8_acc: 0.7746 - val_out9_acc: 0.8439 - val_weighted_acc: 0.8445.4030 - out0_loss: 1.1469 - out1_loss: 0.5545 - out2_loss: 0.5613 - out3_loss: 0.5554 - out4_loss: 0.5538 - out5_ - ETA: 21s - loss: 0.4009 - out0_loss: 1.1349 - out1_loss: 0.5534 - out2_loss: 0.5586 - out3_loss: 0.5540 - out4_loss: 0.5529 - out5_loss: 0.5465 - out6_loss: 0.5404 - out7_loss: 0.5017 - out8_loss: 0.4795 - out9_loss: 0.3809 - out0_acc: 0.6313 - out1_acc: 0.6937 - out2_acc: 0.6947 - out3_acc: 0.6938 - out4_acc: 0.6838 - out5_acc: 0.6914 - out6_acc: 0.6860 - out7_acc: 0.7287 - out8_acc: 0.7554 - out9_acc: 0.8158 - weighted_acc: - ETA: 21s - loss: 0.4012 - out0_loss: 1.1362 - out1_loss: 0.5536 - out2_loss: 0.5588 - out3_loss: 0.5542 - out4_loss: 0.5530 - out5_loss: 0.5467 - out6 - ETA: 14s - loss: 0.4005 - out0_loss: 1.1304 - out1_loss: 0.5534 - out2_loss: 0.5573 - out3_loss: 0.5537 - out4_loss: 0.5517 - out5_loss: 0.5464 - out6_loss:  - ETA: 10s - loss: 0.3998 - out0_l - ETA: 1s - loss: 0.3994 - out0_loss: 1.1283 - out1_loss: 0.5534 - out2_loss: 0.5560 - out3_loss: 0.5529 - out4_loss: 0.5518 - out5_loss: 0.5470 - out6_loss: 0.5393 - out7_loss: 0.4997 - out8_loss: 0.4783 \n",
      "Epoch 16/45\n",
      "314735/314735 [==============================] - 34s - loss: 0.3936 - out0_loss: 1.1322 - out1_loss: 0.5527 - out2_loss: 0.5538 - out3_loss: 0.5531 - out4_loss: 0.5511 - out5_loss: 0.5451 - out6_loss: 0.5369 - out7_loss: 0.4958 - out8_loss: 0.4744 - out9_loss: 0.3733 - out0_acc: 0.6333 - out1_acc: 0.6963 - out2_acc: 0.6987 - out3_acc: 0.6986 - out4_acc: 0.6862 - out5_acc: 0.6920 - out6_acc: 0.6945 - out7_acc: 0.7360 - out8_acc: 0.7603 - out9_acc: 0.8202 - weighted_acc: 0.8200 - val_loss: 0.4699 - val_out0_loss: 0.9702 - val_out1_loss: 0.5515 - val_out2_loss: 0.5624 - val_out3_loss: 0.5575 - val_out4_loss: 0.5611 - val_out5_loss: 0.5481 - val_out6_loss: 0.5435 - val_out7_loss: 0.5199 - val_out8_loss: 0.4997 - val_out9_loss: 0.4580 - val_out0_acc: 0.6457 - val_out1_acc: 0.7128 - val_out2_acc: 0.6971 - val_out3_acc: 0.6909 - val_out4_acc: 0.6790 - val_out5_acc: 0.7230 - val_out6_acc: 0.7102 - val_out7_acc: 0.7148 - val_out8_acc: 0.7506 - val_out9_acc: 0.7809 - val_weighted_acc: 0.78220.5538 - out4_loss: 0.5521 - out5_loss: 0.5460 - out6_loss: 0.5374 - out7_loss: 0.4977 - out8_loss: 0.4767 - out9_loss: 0.3764 - out0_acc: 0.6342 - out1_acc: 0.6964 - out2_acc: 0.6985 - out3_acc: 0.6982 - out4_acc: 0.6849 - out5_acc: 0.6895 -  - ETA: 19s - loss: 0.3963 - out0_loss: 1.1338 - out1_loss: 0.5520 - out2_loss: 0.5524 - out3_loss: 0.5534 - out4_loss: 0.5520 - out5_loss: 0.5458 - out6_loss: 0.5373 - out7_loss: 0.4974 - out8_loss: 0.4763 - out9_loss: 0.3761 - out0_acc: 0.6 - ETA: 9s - loss: 0.3959 - out0_loss: 1.1352 - out1_loss: 0.5526 - out2_loss: 0.5543 - out3_loss: 0.5538 - out4_loss: 0.5522 - out5_loss: 0.5459 - out6_loss: 0.5376 - out7_loss: 0.4971 - out8_loss: 0.4760 - out9_loss: 0.3756 - out0_acc: 0.6332 - out1_acc: 0.6961 - out2_acc: 0.6983 - out3_acc: 0.6984 - out4_acc: 0.6851 - out5_acc: 0.6909 - out6_acc: 0. - ETA: 9s - loss: 0.3957 - out0_loss: 1.1351 - out1_los - ETA: 3s - loss: 0.3946 - out0_loss: 1.1296 - out1_loss: 0.5524 - out2_loss: 0.5534 - out3_loss: 0.5529 - out4_loss: 0.5512 - out5_loss: 0.5452 - out6_loss: 0.5369 - out7_loss: 0.4961 - out8_loss: 0.4749 - out9_loss: 0.3744 - out0_acc: 0.6333 - out1_acc: 0.6966 - out2_acc: 0.6990 - out3_acc: 0.6990 - out4_acc: 0.6860 - ETA: 2s - loss: 0.3945 - out0_loss: 1.1302 - out1_loss: 0.5526 - out2_loss: 0.5538 - out3_loss: 0.5530 - out4_loss: 0.5512 - out5_loss: 0.5452 - out6_loss: 0.5370 - out7_loss: 0.4962 - out8_loss: 0.474 - ETA: 0s - loss: 0.3938 - out0_loss: 1.1315 - out1_loss: 0.5526 - out2_loss: 0.5538 - out3_loss: 0.5529 - out4_loss: 0.5511 - out5_loss: 0.5451 - out6_loss: 0.5369 - out7_loss: 0.4959 - out8_loss: 0.4746 - out9_loss: 0.3735 - out0_acc: 0.6334 - out1_acc: 0.6963 - out2_acc: 0.6987 - out3_acc: 0.6988 - out4_acc: 0.6861 - out5_acc: 0.6918 - out6_acc: 0.6944 - out7_ac\n",
      "Epoch 17/45\n"
     ]
    },
    {
     "name": "stdout",
     "output_type": "stream",
     "text": [
      "314735/314735 [==============================] - 41s - loss: 0.3885 - out0_loss: 1.1565 - out1_loss: 0.5517 - out2_loss: 0.5472 - out3_loss: 0.5484 - out4_loss: 0.5472 - out5_loss: 0.5427 - out6_loss: 0.5350 - out7_loss: 0.4929 - out8_loss: 0.4696 - out9_loss: 0.3676 - out0_acc: 0.6350 - out1_acc: 0.6980 - out2_acc: 0.7042 - out3_acc: 0.6995 - out4_acc: 0.6924 - out5_acc: 0.6977 - out6_acc: 0.6940 - out7_acc: 0.7403 - out8_acc: 0.7633 - out9_acc: 0.8235 - weighted_acc: 0.8231 - val_loss: 0.5199 - val_out0_loss: 1.5192 - val_out1_loss: 0.5378 - val_out2_loss: 0.5589 - val_out3_loss: 0.5661 - val_out4_loss: 0.5485 - val_out5_loss: 0.5421 - val_out6_loss: 0.5353 - val_out7_loss: 0.5100 - val_out8_loss: 0.5042 - val_out9_loss: 0.5073 - val_out0_acc: 0.6586 - val_out1_acc: 0.7125 - val_out2_acc: 0.7166 - val_out3_acc: 0.6836 - val_out4_acc: 0.6954 - val_out5_acc: 0.6843 - val_out6_acc: 0.6892 - val_out7_acc: 0.7086 - val_out8_acc: 0.7017 - val_out9_acc: 0.7197 - val_weighted_acc: 0.720537 - out9_loss: 0.3757 - out0_acc: 0.6346 - out1_acc: 0.6973 - out2_acc: 0.7020 - out3_acc: 0.6989 - out4_acc: 0.6887 - out5_acc: 0.6995 - out6_acc: 0.6959 - out7_acc: 0.7335 - out8_acc: 0.7611 - out9_acc: 0.8199 - we - ETA: 28s - loss: 0.3957 - out0_loss: 1.1634 - out1_loss: 0.5522 - out2_loss: 0.5502 - out3_loss: 0.5500 - out4_loss: 0.5506 - out5_loss: 0.5451 - out6_loss: 0.5364 - out7_loss: 0.4955 - out8_loss: 0.4733 - out9_loss: 0.3753 - out0_acc: 0.6339 - out1_acc: 0.6970 - out2_acc: 0.7026 - out3_acc: 0.6988 - out4_acc: 0.6890 - out5_acc: 0.6994 - out6_acc: 0.6960 - out7_acc: 0.7338 - out8_acc: 0.7614 - out9_acc: 0.8203 - weighte - ETA: 29s - loss: 0.3952 - out0_loss: 1.1710 - out1_loss: 0.5525 - out2_loss: 0.5501 - out3_loss: 0.5498 - out4_loss: 0.5504 - out5_loss: 0.5452 - out6_loss: 0.5365 - out7_loss: 0.4953 - out8_loss: 0.4730 - out9_loss: 0.3746 - out0_acc: 0.6331 - out1_acc: 0.6971  - ETA: 27s - loss: 0.3917 - out0_loss: 1.1549 - out1_loss: - ETA: 24s - loss: 0.3912 - out0_loss: 1.1527 - out1_loss: 0.5516 - out2_loss: 0.5484 - out3_loss: 0.5506 - out4_loss: 0.5483 - out5_loss: 0.5446 - out6_loss:  - ETA: 21s - loss: 0.3907 - out0_loss: 1.1398 - out1_loss: 0.5515 - out2_loss: 0.5488 - out3_loss: 0 - ETA: 18s - loss: 0.3899 - out0_loss: 1.1428 - out1_loss: 0.5511 - out2_loss: 0.5484 - out3_loss: 0.5492 - out4_loss: 0.5473 - out5_loss: 0.5432 - out6_loss: 0.5351 - out7_loss: 0.4935 - out8_loss: 0.4705 - out9_loss: 0.3694 - out0_acc: 0.6359 - out1_acc: 0.6983 - out2_acc: 0.7030 - out3_acc: 0.6977 - out4_acc: 0.6905 - out5_acc: 0.6981  - ETA: 16s - loss: 0.3905 - out0_loss: 1.1479 - out1_loss: 0.5515 \n",
      "Epoch 18/45\n",
      "314735/314735 [==============================] - 42s - loss: 0.3831 - out0_loss: 1.1590 - out1_loss: 0.5500 - out2_loss: 0.5426 - out3_loss: 0.5463 - out4_loss: 0.5454 - out5_loss: 0.5393 - out6_loss: 0.5329 - out7_loss: 0.4892 - out8_loss: 0.4643 - out9_loss: 0.3619 - out0_acc: 0.6357 - out1_acc: 0.6994 - out2_acc: 0.7092 - out3_acc: 0.7021 - out4_acc: 0.6927 - out5_acc: 0.7014 - out6_acc: 0.6989 - out7_acc: 0.7469 - out8_acc: 0.7668 - out9_acc: 0.8277 - weighted_acc: 0.8275 - val_loss: 0.3902 - val_out0_loss: 0.7964 - val_out1_loss: 0.5460 - val_out2_loss: 0.5445 - val_out3_loss: 0.5671 - val_out4_loss: 0.5452 - val_out5_loss: 0.5404 - val_out6_loss: 0.5286 - val_out7_loss: 0.4910 - val_out8_loss: 0.4657 - val_out9_loss: 0.3736 - val_out0_acc: 0.6092 - val_out1_acc: 0.7195 - val_out2_acc: 0.7030 - val_out3_acc: 0.6805 - val_out4_acc: 0.6893 - val_out5_acc: 0.7158 - val_out6_acc: 0.7171 - val_out7_acc: 0.7423 - val_out8_acc: 0.7658 - val_out9_acc: 0.8126 - val_weighted_acc: 0.8126 - out4_loss: 0.5476 - out5_loss: 0.5412 - out6_loss: 0.5358 - out7_loss: 0.4921 - out8_loss: 0.4667 - out9_loss: 0.3636 -  - ETA: 36s - loss: 0.3806 - out0_loss: 1.1508 - out1_loss: 0.5486 - out2_loss: 0.5431 - out3_loss: 0.5450 - out4_loss: 0.5461 - out5_loss: 0.5404 - out6_loss: 0.5334 - out7_loss: 0.4909 - out8_loss: 0.4653 - out9_ - ETA: 20s - loss: 0.3832 - out0_loss: 1.1497 - out1_loss: 0.5494 - out2_loss: 0.5429 - out3_loss: 0.5460 - out4_loss: 0.5451 - out5_loss: 0.5396 - out6_loss: 0.5334 - out7_loss: 0.4906 - out8_loss: 0.4655 - out9_loss: 0.3621 - out0_acc: 0.6360 - out1_acc: 0.7005 - out2_acc: 0.7091 - out3_acc: 0.7032 - out4_acc: 0.6947 - out5_acc: 0.7018 - out6_acc: 0.6960 - out7_acc: 0.7450 - out8_acc: 0.7666 - out9_acc: 0. - ETA: 20s - loss: 0.3833 - out0_loss: 1.1517 - out1_loss: 0.5494 - out2_loss: 0.5431 - out3_loss: 0.5460 - out4_loss: 0.5451 - out5_loss: 0.5397 - out6_loss: 0.5335 - out7_loss: 0.4907 - out8_loss: 0.4656 - out9_loss: 0.3622 - out0_acc: 0.6360 - out1_acc: 0.7005 - out2_acc: 0.7089 - out3_acc: 0.7029 - out4_acc: 0.6947 - out5_acc: 0.7017 - out6_acc: 0.6959 - out7_acc: 0.7450 - out8_acc: 0.7666 - - ETA: 19s - loss: 0.3836 - out0_loss: 1.1471 - out1_loss: 0.5492 - out2_loss: 0.5429 - out3_loss: 0.5459 - out4_loss: 0.5451 - out5_loss: 0.5395 - out6_loss: 0.5334 - out7_loss: 0.4906 - out8_loss: 0.4657 - out9_loss: 0.3627 - out0_acc: 0.6365 - out1_acc: 0.7007 - out2_acc: 0.7091 - out3_acc: 0.7030 - out4_acc: 0.6946 - out5_acc: 0.7022 - out6_acc: 0.6957 - out7_acc: 0.7451 - out8_acc: 0.7666 - out9_acc: 0.8274 - weight - ETA: 19s - loss: 0.3834 - out0_loss: 1.1469 - out1_loss: 0.5491 - out\n",
      "Epoch 19/45\n"
     ]
    },
    {
     "name": "stdout",
     "output_type": "stream",
     "text": [
      "314735/314735 [==============================] - 43s - loss: 0.3793 - out0_loss: 1.1862 - out1_loss: 0.5489 - out2_loss: 0.5419 - out3_loss: 0.5459 - out4_loss: 0.5428 - out5_loss: 0.5369 - out6_loss: 0.5304 - out7_loss: 0.4858 - out8_loss: 0.4602 - out9_loss: 0.3577 - out0_acc: 0.6340 - out1_acc: 0.7002 - out2_acc: 0.7081 - out3_acc: 0.7019 - out4_acc: 0.6947 - out5_acc: 0.7043 - out6_acc: 0.7000 - out7_acc: 0.7499 - out8_acc: 0.7694 - out9_acc: 0.8296 - weighted_acc: 0.8293 - val_loss: 0.4917 - val_out0_loss: 2.1321 - val_out1_loss: 0.6367 - val_out2_loss: 0.5850 - val_out3_loss: 0.5848 - val_out4_loss: 0.5785 - val_out5_loss: 0.5747 - val_out6_loss: 0.5473 - val_out7_loss: 0.5112 - val_out8_loss: 0.4979 - val_out9_loss: 0.4672 - val_out0_acc: 0.6149 - val_out1_acc: 0.6468 - val_out2_acc: 0.6680 - val_out3_acc: 0.6907 - val_out4_acc: 0.6625 - val_out5_acc: 0.6681 - val_out6_acc: 0.6733 - val_out7_acc: 0.7347 - val_out8_acc: 0.7267 - val_out9_acc: 0.7701 - val_weighted_acc: 0.76780.5307 - out7_loss: 0.4862 - out8_loss: 0.4609 - out9_loss: 0.3587 - out0_acc: 0.6357 - out1_acc: 0.7011 - out2_acc: 0.7062 - out3_acc: 0.6987 - out4_acc: 0.6918 - out5_acc: 0.7018 - out - ETA: 28s - loss: 0.3793 - out0_loss: 1.1618 - out1_loss: 0.5485 - out2_loss: 0.5432 - out3_loss: 0.5462 - out4_loss: 0.5416 - out5_loss: 0.5371 - out6_loss: 0.5301 - out7_loss: 0.4857 - out8_loss: 0.4604 - out9_loss: 0.3579 - out0_acc: 0.6360 - out1_acc: 0.7015 - out2_acc: 0.7065 - out3_acc: 0.6990 - out4_acc: 0.6927 - out5_acc: 0.7027 - out6_acc: 0.7004 - out7_acc: 0.7497 - out8_acc: 0.7691 - out9_acc: 0.8288 - weighted_acc: 0 - ETA: 28s - loss: 0.3795 - out0_loss: 1.1630 - out1_loss: 0.5487 - out2_loss: 0. - ETA: 24s - loss: 0.3796 - out0_loss: 1.1669 - out1_loss: 0.5480 - out2_loss: 0.5429 - out3_loss: 0.5462 - out4_loss: 0.5415 - out5_loss: 0.5369 - out6_loss: 0.5303 - out7_loss: 0.4858 - out8_loss: 0.4 - ETA: 2s - loss: 0.3791 - out0_loss: 1.1825 - out1_loss: 0.5485 - out2_loss: 0.5417 - out3_loss: 0.5455 - out4_loss: 0.5427 - out5_loss: 0.5366 - out6_loss: 0.5303 - out7_los\n",
      "Epoch 20/45\n",
      "314735/314735 [==============================] - 42s - loss: 0.3811 - out0_loss: 1.1789 - out1_loss: 0.5489 - out2_loss: 0.5396 - out3_loss: 0.5452 - out4_loss: 0.5415 - out5_loss: 0.5374 - out6_loss: 0.5324 - out7_loss: 0.4861 - out8_loss: 0.4613 - out9_loss: 0.3597 - out0_acc: 0.6379 - out1_acc: 0.6990 - out2_acc: 0.7098 - out3_acc: 0.7020 - out4_acc: 0.6971 - out5_acc: 0.7017 - out6_acc: 0.6999 - out7_acc: 0.7519 - out8_acc: 0.7695 - out9_acc: 0.8294 - weighted_acc: 0.8295 - val_loss: 0.3624 - val_out0_loss: 0.9281 - val_out1_loss: 0.5249 - val_out2_loss: 0.5180 - val_out3_loss: 0.5357 - val_out4_loss: 0.5298 - val_out5_loss: 0.5302 - val_out6_loss: 0.5321 - val_out7_loss: 0.4782 - val_out8_loss: 0.4554 - val_out9_loss: 0.3430 - val_out0_acc: 0.6333 - val_out1_acc: 0.7391 - val_out2_acc: 0.7321 - val_out3_acc: 0.6939 - val_out4_acc: 0.7169 - val_out5_acc: 0.7242 - val_out6_acc: 0.7104 - val_out7_acc: 0.7557 - val_out8_acc: 0.7750 - val_out9_acc: 0.8390 - val_weighted_acc: 0.8403\n",
      "Epoch 21/45\n",
      "314735/314735 [==============================] - 32s - loss: 0.3735 - out0_loss: 1.1836 - out1_loss: 0.5457 - out2_loss: 0.5350 - out3_loss: 0.5405 - out4_loss: 0.5353 - out5_loss: 0.5321 - out6_loss: 0.5308 - out7_loss: 0.4809 - out8_loss: 0.4540 - out9_loss: 0.3518 - out0_acc: 0.6353 - out1_acc: 0.7017 - out2_acc: 0.7137 - out3_acc: 0.7048 - out4_acc: 0.7034 - out5_acc: 0.7088 - out6_acc: 0.7008 - out7_acc: 0.7555 - out8_acc: 0.7752 - out9_acc: 0.8331 - weighted_acc: 0.8329 - val_loss: 0.4045 - val_out0_loss: 1.0443 - val_out1_loss: 0.5163 - val_out2_loss: 0.5249 - val_out3_loss: 0.5316 - val_out4_loss: 0.5290 - val_out5_loss: 0.5256 - val_out6_loss: 0.5336 - val_out7_loss: 0.4855 - val_out8_loss: 0.4674 - val_out9_loss: 0.3879 - val_out0_acc: 0.6482 - val_out1_acc: 0.7355 - val_out2_acc: 0.7285 - val_out3_acc: 0.7220 - val_out4_acc: 0.7166 - val_out5_acc: 0.7282 - val_out6_acc: 0.6970 - val_out7_acc: 0.7506 - val_out8_acc: 0.7682 - val_out9_acc: 0.8053 - val_weighted_acc: 0.8048: 1.1781 - out1_loss: 0.5470 - out2_loss: 0.5355 - out3_loss: 0.5453 - out4_loss: 0.5370 - out5_loss: 0.5352 - out6_loss: 0.5323 - out7_loss: 0.4831 - out8_loss: 0.4578 - out9_loss: 0.3562 - out0_acc: 0.6377 - out1_acc: 0.7008 - out2_acc: 0.7155 - out3_acc: 0.7029 - out4_acc: 0.7030 - out5_acc: 0.7061 - out6_acc: 0.7031 - out7_acc: 0.7561 - out8_acc: 0.7723 - ou - ETA: 25s - loss: 0.3772 - out0_loss: 1.1724 - out1_loss: 0.5467 - out2_loss: 0.5354 - out3_loss: 0.5452 - out4_loss: 0.5371 - out5_loss: 0.5352 - out6_loss: 0.5322 - out7_loss: 0.4831 - out8_loss: 0.4576 - out9_loss: 0.3558 - out0_acc: 0.6380 - out1_acc: 0.7010 - out2_acc: 0.7149 - out3_acc: 0.7025 - out4_acc: 0.7028 - - ETA: 24s - loss: 0.3765 - out0_loss: 1.1749 - out1_loss: 0.5461 - out2_loss: 0.5356 - out3_loss: 0.5441 - out4_loss: 0.5360 - out5_loss: 0.5338 - out6_loss: 0.5317 - out7_loss: 0.4821 - out8_loss: 0.4566 - out9_loss: 0.3551 - out0_acc: 0.6381 - out1_acc: 0.7011 - out2_acc: 0.7147 - out3_acc: 0.7027 - out4_acc: 0.7035 - out5_acc: 0.7065 - out6_acc: 0.7010 - out7_acc: 0.7573 - out8_acc: 0.7739 - out9_acc: 0.8 - ETA: 24s - loss: 0.3764 - out0_loss: 1.1725 - out1_loss: 0.5451 - out2_loss: 0.5350 - out3_loss: 0.5436 - out4_loss: 0.5354 - out5_loss: 0.5332 - out6_loss: 0.5311 - out7_loss: 0.4817 - out8_loss: 0.4561 - out9_loss: 0.3550 - out0_acc: 0.6384 - out1_acc: 0.7018 - out2_acc: 0.7149 - out3_acc: 0.7029 - out4_acc: 0.7038 - out5_acc: 0.7069 - out6_acc: 0.7012 - out7_acc: 0.7573 - out8_acc: 0.7742 - out9 - ETA: 23s - loss: 0.3762 - out0_loss: 1.1701 - out1_loss: 0.5444 - out2_loss: 0.5346 - out3_loss: 0.5427 - out4_loss: 0.5348 - out5_los\n",
      "Epoch 22/45\n"
     ]
    },
    {
     "name": "stdout",
     "output_type": "stream",
     "text": [
      "314735/314735 [==============================] - 35s - loss: 0.3695 - out0_loss: 1.2028 - out1_loss: 0.5434 - out2_loss: 0.5300 - out3_loss: 0.5357 - out4_loss: 0.5311 - out5_loss: 0.5286 - out6_loss: 0.5266 - out7_loss: 0.4770 - out8_loss: 0.4493 - out9_loss: 0.3475 - out0_acc: 0.6372 - out1_acc: 0.7036 - out2_acc: 0.7164 - out3_acc: 0.7067 - out4_acc: 0.7065 - out5_acc: 0.7084 - out6_acc: 0.7040 - out7_acc: 0.7576 - out8_acc: 0.7789 - out9_acc: 0.8358 - weighted_acc: 0.8356 - val_loss: 0.3755 - val_out0_loss: 3.2372 - val_out1_loss: 0.5910 - val_out2_loss: 0.5180 - val_out3_loss: 0.5194 - val_out4_loss: 0.5245 - val_out5_loss: 0.5198 - val_out6_loss: 0.5233 - val_out7_loss: 0.4685 - val_out8_loss: 0.4396 - val_out9_loss: 0.3319 - val_out0_acc: 0.5344 - val_out1_acc: 0.6790 - val_out2_acc: 0.7373 - val_out3_acc: 0.7221 - val_out4_acc: 0.7215 - val_out5_acc: 0.7222 - val_out6_acc: 0.7177 - val_out7_acc: 0.7543 - val_out8_acc: 0.7896 - val_out9_acc: 0.8308 - val_weighted_acc: 0.830765 - out1_loss: 0.5457 - out2_loss: 0.5324 - out3_loss: 0.5401 - out4_loss: 0.5355 - out5_loss: 0.5317 - out6_loss: 0.5302 - out7_loss: 0.4811 - out8_loss: 0.4528 - out9_loss: 0.3491 - out0_acc: 0.6355 - out1_acc: 0.7031 - out2_acc: 0.7160 - out3_acc: 0.7065 - out4_acc: 0.7024 - out5_acc: 0.7063 - out6_acc: 0.6974 - out7_acc: 0.7558 - out8_acc: 0.7771 - out9_acc: - ETA: 22s - loss: 0.3714 - out0_loss: 1.2091 - out1_loss: 0.5455 - out2_loss: 0.5322 - out3_loss: 0.5397 - out4_loss: 0.5354 - out5_loss: 0.5316 - out6_loss: 0.5301 - out7_loss: 0.4810 - out8_loss: 0.4528 - out9_loss: 0.3492 - out0_acc: 0.6357 - out1_acc: 0.7032 - out2_acc: 0.7158 - out3_acc: 0.7067 - out4_acc: 0.7025 - out5_acc: 0.7062 - o - ETA: 21s - loss: 0.3710 - out0_loss: 1.2057 - out1_loss: 0.5455 - out2_loss: 0.5318 - out3_loss: 0.5397 - out4_loss: 0.5348 - out5_loss: 0.5316 - out6_loss: 0.5296 - out - ETA: 17s - loss: 0.3702 - out0_loss: 1.1978 - out1_loss: 0.5442 - out2_loss: 0.5301 - out3_loss: 0.5376 - out4_loss: 0.5325 - out5_loss: 0.5302 - out6_loss: 0.5283 - out7_loss: 0.4790 - out8_loss: 0.4508 - out9_loss: 0.3482 - out0_acc: 0.6372 - out1_acc: 0.7037 - out2_acc: 0.7171 - out3_acc: 0.7074 - out4_acc: 0.7047 - out5_acc: 0.7080 - out6_acc: 0.7008  - ETA: 17s - loss: 0.3702 - out0_loss: 1.1971 - out1_loss: 0.5440 - out2_loss: 0.5303 - out3_loss: 0.5375 - out4_loss: 0.5324 - out5_loss: 0.5301 - out6_loss: 0.5281 - out7_loss: 0.4787 - out8_loss: 0.4507 - out9_loss: 0.3482 - out0_acc: 0.6374 - out1_acc: 0.7036 - out2_acc: 0.7170 - out3_acc: 0.7073 - out4_acc: 0.7046 - out5_acc: 0.7081 - out6_acc: 0.7010 - out7_acc: 0.7561 - out8_acc: 0.7781 - out9_acc: 0.835 - ETA: 17s - loss: 0.3700 - out0_loss: 1.1967 - out1_loss: 0.5437 - out2_loss: 0.5302 - out3_loss: 0.5373 - out4_loss: 0.5322 - out5_loss: 0.5298 - out6_loss: 0.5279 - out7_loss: 0.4785 - out8_loss: 0.4504 - out9_loss: 0.3480 - out0_acc: 0.6375 - out1_acc: 0.7038 - out2_acc: 0.7172 - out3_acc: 0.7074 - out4_acc: 0.7048 - out5_acc: 0.7082  - ETA: 16s - loss: 0.3700 - out0_loss: 1.1915 - out1_loss: 0.5438 - out2_loss: 0.5307 - out3_loss: 0.5370 - out4_loss: 0.5323 - out5_loss: 0.5299 - out6_loss: 0.5278 - out7_loss: 0.4783 - out8_loss: 0.4504 - out9_loss: 0.3481 - out0_acc: 0.6378 - out1_acc: 0.7038 - out2_acc: 0.7169 - out3_acc: 0.7072 - out4_acc: 0 - ETA: 1 - ETA: 8s - loss: 0.3698 - out0_loss: 1.1976 - out1_loss: 0.5440 - out2_loss: 0.5312 - out3_loss: 0.5368 - out4_loss: 0.5325 - out5_los - ETA: 6s - loss: 0.3699 - out0_loss: 1.2003 - out1_loss: 0.5435 - out2_loss: 0.5305 - out3_loss: 0.5364 - out4_loss: 0.5319 - out5_loss: 0.5292 - out6_loss: 0.5272 - out7_loss: 0.4777 - out8_loss: 0.4500 - out9_loss: 0.3479 - out0 - ETA: 0s - loss: 0.3696 - out0_loss: 1.2031 - out1_loss: 0.5435 - out2_loss: 0.5301 - out3_loss: 0.5357 - out4_loss: 0.5312 - out5_loss: 0.5287 - out6_loss: 0.5266 - out7_loss: 0.4770 - out8_loss: 0.4494 - out9_loss: 0.3477 - out0_acc: 0.6372 - out1_acc: 0.7035 - out2_acc: 0.7164 - out3_acc: 0.7067 - out4_acc: 0.7065 - out5_acc: 0.7083 - out6_acc: 0.7040 - out7_acc: 0.7575 - out8_acc: 0.7789 - out9_acc: 0.8357 - \n",
      "Epoch 23/45\n",
      "314735/314735 [==============================] - 36s - loss: 0.3656 - out0_loss: 1.2127 - out1_loss: 0.5437 - out2_loss: 0.5291 - out3_loss: 0.5307 - out4_loss: 0.5301 - out5_loss: 0.5263 - out6_loss: 0.5244 - out7_loss: 0.4732 - out8_loss: 0.4451 - out9_loss: 0.3434 - out0_acc: 0.6372 - out1_acc: 0.7051 - out2_acc: 0.7174 - out3_acc: 0.7110 - out4_acc: 0.7067 - out5_acc: 0.7094 - out6_acc: 0.7068 - out7_acc: 0.7610 - out8_acc: 0.7803 - out9_acc: 0.8382 - weighted_acc: 0.8379 - val_loss: 0.3828 - val_out0_loss: 2.3750 - val_out1_loss: 0.5101 - val_out2_loss: 0.5140 - val_out3_loss: 0.5085 - val_out4_loss: 0.5166 - val_out5_loss: 0.5102 - val_out6_loss: 0.5169 - val_out7_loss: 0.4661 - val_out8_loss: 0.4384 - val_out9_loss: 0.3508 - val_out0_acc: 0.5475 - val_out1_acc: 0.7253 - val_out2_acc: 0.7323 - val_out3_acc: 0.7209 - val_out4_acc: 0.7408 - val_out5_acc: 0.7367 - val_out6_acc: 0.7222 - val_out7_acc: 0.7731 - val_out8_acc: 0.7926 - val_out9_acc: 0.8426 - val_weighted_acc: 0.8426s - loss: 0.3650 - out0_loss: 1.2060 - out1_loss: 0.5438 - out2_loss: 0.5293 - out3_loss: 0.5304 - out4_loss: 0.5299 - out5_loss: 0.5267 - out6_loss: 0.5247 - out7_loss: 0.4730 - out8_loss: 0.4452 - out9_loss: 0.3428 - out0_acc: 0.6370 - out1_acc: 0.7054 - out2_acc: 0 - ETA: 9s - loss: 0.3653 - out0_loss: 1.2139 - out1_loss: 0.5443 - out2_loss: 0.5294 - out3_loss: 0.5301 - out4_loss: 0.5298 - out5_loss: 0.5267 - out6_loss: 0.5247 - out7_loss: 0.4730 - out8_loss: 0.4451 - out9_loss: 0.3430 - out0_acc: 0.6366 - out1_acc: 0.7049 - out2_acc: 0.7174 - out3_acc: 0.7117 - out4_acc: 0.7061 - out5_acc: 0.708 - ETA: 9s - loss: 0.3651 - out0_loss: 1.2129 - out1_loss: 0.5445 - out2_loss: 0.5295 - out3_loss: 0.5303 - out4_loss: 0.5300 - out5_loss: 0.5267 - out6_loss: 0.5248 - out7_loss: 0.4731 - out8_loss: 0.4451 - out9_loss: 0.3428 - out0_acc: 0.6368 - out1_acc: 0.7048 - out2_acc: 0.7172 - out3_acc: 0.7117 - out4_acc: 0.7061 - out5_acc: 0.7085 - out6_acc: 0.7058 - out - ETA: 8s - loss: 0.3651 - out0_loss: 1.2113 - out1_loss: 0.5444 - out2_loss: 0.5297 - out3_loss: 0.5306 - out4_loss: 0.5302 - out5_loss: 0.5268 - out6_loss: 0.5249 - out7_loss: 0.4731 - out8 - ETA: 6s - loss: 0.3654 - out0_loss: 1.2146 - out1_loss: 0.5440 - out2_loss: 0.5293 - out3_loss: 0.5304 - out4_loss: 0.5300 - out5_loss: 0.5266 - out6_loss: 0.5247 - out7_loss: 0.4730 - out8_loss: 0.4450 - out9_loss: 0.3431 - out0_acc: 0. - ETA: 5s - loss: 0.3653 - out0_loss: 1.2130 - out1_loss: 0.5438 - out2_loss: 0.5294 - out3_loss: 0.5304 - out4_loss: 0.5298 - out5_loss: 0.5264 - out6_loss: 0.5244 - out7_loss: 0.4728 - out8_los - ETA: 1s - loss: 0.3656 - out0_loss: 1.2154 - out1_loss: 0.5440 - out2_loss: 0.5296 - out3_loss: 0.5309 - out4_loss: 0.5304 - out5_loss: 0.5266 - out6_loss: 0.5247 - out7_loss: 0.4734 - out8_loss: 0.4453 - out9_loss: 0.3433 \n",
      "Epoch 24/45\n"
     ]
    },
    {
     "name": "stdout",
     "output_type": "stream",
     "text": [
      "314735/314735 [==============================] - 37s - loss: 0.3614 - out0_loss: 1.2220 - out1_loss: 0.5401 - out2_loss: 0.5254 - out3_loss: 0.5255 - out4_loss: 0.5243 - out5_loss: 0.5205 - out6_loss: 0.5185 - out7_loss: 0.4684 - out8_loss: 0.4388 - out9_loss: 0.3390 - out0_acc: 0.6387 - out1_acc: 0.7077 - out2_acc: 0.7193 - out3_acc: 0.7144 - out4_acc: 0.7118 - out5_acc: 0.7153 - out6_acc: 0.7122 - out7_acc: 0.7648 - out8_acc: 0.7859 - out9_acc: 0.8397 - weighted_acc: 0.8394 - val_loss: 0.3467 - val_out0_loss: 1.0588 - val_out1_loss: 0.5584 - val_out2_loss: 0.5209 - val_out3_loss: 0.5218 - val_out4_loss: 0.5319 - val_out5_loss: 0.5199 - val_out6_loss: 0.5153 - val_out7_loss: 0.4663 - val_out8_loss: 0.4348 - val_out9_loss: 0.3247 - val_out0_acc: 0.6103 - val_out1_acc: 0.6803 - val_out2_acc: 0.7084 - val_out3_acc: 0.7108 - val_out4_acc: 0.7092 - val_out5_acc: 0.7150 - val_out6_acc: 0.7314 - val_out7_acc: 0.7710 - val_out8_acc: 0.8016 - val_out9_acc: 0.8629 - val_weighted_acc: 0.8630ss: 1.2302 - out1_loss: 0.5412 - out2_loss: 0.5265 - out3_loss: 0.5283 - out4_loss: 0.5269 - out5_loss: 0.5222 - out6_loss: 0.5205 - out7_loss: 0.4693 - out8_loss: 0.4403 - out9_loss: 0.3404 - out0_acc: 0.6365 - out1_acc: 0.7057 - out2_acc: 0.7178 - out3_acc: 0.7115 - out4_acc: 0.7100 - out5_acc: 0.7143 - out6_acc: 0.7113 - out7_acc: 0.7645 - out8_acc: 0.7841 - out9_acc: 0.8384 - weighted_acc: 0.83 - ETA: 23s - loss: 0.3625 - out0_loss: 1.2293 - out1_loss: 0.5410 - out2_loss: 0.5263 - out3_loss: 0.5282 - out4_loss: 0.5268 - out5_loss: 0.5221 - out6_loss: 0.5204 - out7_loss: 0.4692 - out8_loss: 0.4402 - out9_loss: 0.3400 - out0_acc: 0.6367 - out1_acc: 0.7058 - out2_a - ETA: 14s - loss: 0.3612 - out0_loss: 1.2100 - out1_loss: 0.5395 - out2_loss: 0.5257 - out3_loss: 0.5260 - out4_loss: 0.5250 - out5_loss: 0.5212 - out6_loss: 0.5193 - out7_loss: 0.4686 - out8_loss: 0.4394 - out9_loss: 0.3390 - out0_acc: 0.6393 - out1_acc: 0.7075 - - ETA: 12s - loss: 0.3609 - out0_loss: 1.2104 - out1_loss: 0.5396 - out2_loss: 0.5257 - out3_loss: 0.5258 - out4_loss: 0.5249 - out5_loss: 0.5211 - out6_loss: 0.5191 - out7_loss: 0.4683 - out8 - ETA: 6s - loss: 0.3617 - out0_loss: 1.2160 - out1_loss: 0.5399 - out2_loss: 0.5255 - out3_loss: 0.5260 - out4_loss: 0.5244 - out5_loss: 0.5208 - out6_loss: 0.5188  - ETA: 4s - loss: 0.3620 - out0_loss: 1.2170 - out1_loss: 0.5404 - out2_loss: 0.5259 - out3_loss: 0.5262 - out4_loss: 0.5249 - out5_loss: 0.5212 - out6_loss: 0.5190 - out7_loss: 0.4689 - out8_loss: 0.4393 - out9_loss: 0.3397 - out0_acc: 0.6393 - out1_ - ETA: 2s - loss: 0.3618 - out0_loss: 1.2179 - out1_loss: 0.5400 - out2_loss: 0.5256 - out3_loss: 0.5258 - out4_loss: 0.5246 - out5_loss: 0.5208 - out6_loss: 0.5186 - out7_loss: 0.4686  - ETA: 1s - loss: 0.3617 - out0_loss: 1.2219 - out1_loss: 0.5401 - out2_loss: 0.5256 - out3_loss: 0.5257 - out4_loss: 0.5245 - out5_loss: 0.5207 - out6_loss: 0.5186 - out7_loss: 0.4685 - out8_loss: 0.4390 - out9_loss: 0.3394 - out0_acc: 0.6390 - out1_acc: 0.7077 - out2_acc: 0.\n",
      "Epoch 25/45\n",
      "314735/314735 [==============================] - 33s - loss: 0.3588 - out0_loss: 1.2106 - out1_loss: 0.5404 - out2_loss: 0.5247 - out3_loss: 0.5233 - out4_loss: 0.5217 - out5_loss: 0.5180 - out6_loss: 0.5149 - out7_loss: 0.4656 - out8_loss: 0.4353 - out9_loss: 0.3366 - out0_acc: 0.6410 - out1_acc: 0.7090 - out2_acc: 0.7208 - out3_acc: 0.7155 - out4_acc: 0.7145 - out5_acc: 0.7184 - out6_acc: 0.7169 - out7_acc: 0.7679 - out8_acc: 0.7885 - out9_acc: 0.8418 - weighted_acc: 0.8416 - val_loss: 0.3776 - val_out0_loss: 1.4192 - val_out1_loss: 0.5433 - val_out2_loss: 0.5252 - val_out3_loss: 0.5224 - val_out4_loss: 0.5263 - val_out5_loss: 0.5230 - val_out6_loss: 0.5222 - val_out7_loss: 0.4781 - val_out8_loss: 0.4566 - val_out9_loss: 0.3543 - val_out0_acc: 0.6350 - val_out1_acc: 0.6834 - val_out2_acc: 0.7171 - val_out3_acc: 0.7088 - val_out4_acc: 0.7312 - val_out5_acc: 0.7145 - val_out6_acc: 0.7268 - val_out7_acc: 0.7721 - val_out8_acc: 0.7441 - val_out9_acc: 0.8360 - val_weighted_acc: 0.8362\n",
      "Epoch 26/45\n",
      "314735/314735 [==============================] - 33s - loss: 0.3563 - out0_loss: 1.2243 - out1_loss: 0.5405 - out2_loss: 0.5206 - out3_loss: 0.5194 - out4_loss: 0.5189 - out5_loss: 0.5144 - out6_loss: 0.5114 - out7_loss: 0.4625 - out8_loss: 0.4320 - out9_loss: 0.3339 - out0_acc: 0.6403 - out1_acc: 0.7096 - out2_acc: 0.7230 - out3_acc: 0.7189 - out4_acc: 0.7177 - out5_acc: 0.7216 - out6_acc: 0.7220 - out7_acc: 0.7697 - out8_acc: 0.7905 - out9_acc: 0.8433 - weighted_acc: 0.8430 - val_loss: 0.3365 - val_out0_loss: 0.9110 - val_out1_loss: 0.5279 - val_out2_loss: 0.4980 - val_out3_loss: 0.4945 - val_out4_loss: 0.5129 - val_out5_loss: 0.5025 - val_out6_loss: 0.5073 - val_out7_loss: 0.4620 - val_out8_loss: 0.4270 - val_out9_loss: 0.3166 - val_out0_acc: 0.6794 - val_out1_acc: 0.7442 - val_out2_acc: 0.7708 - val_out3_acc: 0.7550 - val_out4_acc: 0.7308 - val_out5_acc: 0.7403 - val_out6_acc: 0.7439 - val_out7_acc: 0.7812 - val_out8_acc: 0.7985 - val_out9_acc: 0.8522 - val_weighted_acc: 0.8561\n",
      "Epoch 27/45\n",
      "314735/314735 [==============================] - 32s - loss: 0.3508 - out0_loss: 1.2317 - out1_loss: 0.5359 - out2_loss: 0.5200 - out3_loss: 0.5152 - out4_loss: 0.5133 - out5_loss: 0.5106 - out6_loss: 0.5076 - out7_loss: 0.4583 - out8_loss: 0.4265 - out9_loss: 0.3281 - out0_acc: 0.6431 - out1_acc: 0.7155 - out2_acc: 0.7255 - out3_acc: 0.7231 - out4_acc: 0.7204 - out5_acc: 0.7248 - out6_acc: 0.7241 - out7_acc: 0.7756 - out8_acc: 0.7967 - out9_acc: 0.8458 - weighted_acc: 0.8457 - val_loss: 0.3905 - val_out0_loss: 1.4373 - val_out1_loss: 0.5492 - val_out2_loss: 0.5713 - val_out3_loss: 0.5942 - val_out4_loss: 0.5733 - val_out5_loss: 0.5533 - val_out6_loss: 0.5284 - val_out7_loss: 0.4813 - val_out8_loss: 0.4571 - val_out9_loss: 0.3660 - val_out0_acc: 0.6050 - val_out1_acc: 0.7020 - val_out2_acc: 0.6765 - val_out3_acc: 0.6787 - val_out4_acc: 0.6756 - val_out5_acc: 0.6877 - val_out6_acc: 0.7026 - val_out7_acc: 0.7440 - val_out8_acc: 0.7570 - val_out9_acc: 0.8324 - val_weighted_acc: 0.8310\n",
      "Epoch 28/45\n"
     ]
    },
    {
     "name": "stdout",
     "output_type": "stream",
     "text": [
      "314735/314735 [==============================] - 31s - loss: 0.3489 - out0_loss: 1.2395 - out1_loss: 0.5344 - out2_loss: 0.5173 - out3_loss: 0.5127 - out4_loss: 0.5130 - out5_loss: 0.5070 - out6_loss: 0.5033 - out7_loss: 0.4553 - out8_loss: 0.4224 - out9_loss: 0.3262 - out0_acc: 0.6431 - out1_acc: 0.7180 - out2_acc: 0.7268 - out3_acc: 0.7258 - out4_acc: 0.7225 - out5_acc: 0.7276 - out6_acc: 0.7261 - out7_acc: 0.7765 - out8_acc: 0.7992 - out9_acc: 0.8475 - weighted_acc: 0.8475 - val_loss: 0.2968 - val_out0_loss: 0.8517 - val_out1_loss: 0.4990 - val_out2_loss: 0.4888 - val_out3_loss: 0.4850 - val_out4_loss: 0.4826 - val_out5_loss: 0.4867 - val_out6_loss: 0.4891 - val_out7_loss: 0.4393 - val_out8_loss: 0.3979 - val_out9_loss: 0.2753 - val_out0_acc: 0.6312 - val_out1_acc: 0.7591 - val_out2_acc: 0.7619 - val_out3_acc: 0.7382 - val_out4_acc: 0.7469 - val_out5_acc: 0.7448 - val_out6_acc: 0.7473 - val_out7_acc: 0.7970 - val_out8_acc: 0.8229 - val_out9_acc: 0.8715 - val_weighted_acc: 0.8713 - out1_acc: 0.7188 - out2_acc: 0.7232 - out3_acc: 0.7211 - out4_acc: 0.7195 - out5_acc: 0.7254 - out6_acc: 0.7184 - out7_acc: 0.7748 - out8_acc: 0.7984 - out9_acc: 0.8 - ETA: 26s - loss: 0.3503 - out0_loss: 1.1869 - out1_loss: 0.5367 - out2_loss: 0.5204 - out3_loss: 0.5150 - out4_loss: 0.5154 - out5_loss: 0.5085 - out6_loss: 0.5060 - out7_loss: 0.4573 - out8_loss: 0.4251 - out9_loss: 0.3281 - out0_acc: 0.6487 - out1_acc: 0.7182 - out2_acc: - ETA: 25s - loss: 0.3481 - out0_loss: 1.1902 - out1_loss: 0.5364 - out2_loss: 0.5204 - out3_loss: 0.5141 - out4_loss: 0.5144 - out5_loss: 0.5084 - out6_loss: 0.5052 - out7_loss: 0.4563 - out8_loss: 0.4237 - out9_loss: 0.3257 - out0_acc: 0.6469 - out1_acc: 0.7181 - out2_acc: 0.7226 - ou - ETA: 23s - loss: 0.3499 - out0_loss: 1.2230 - out1_loss: 0.5369 - out2_loss: 0.5202 - out3_loss: 0.5144 - out4_loss: 0.5142 - out5_loss: 0.5085 - out6_loss: 0.5062 - out7_loss: 0.4570 - out8_loss: 0.4246 - out9_loss: 0.3273 - out0_acc: 0.6429 - out1_acc: 0.7174 - out2_acc: 0.7228 - out3_acc: 0.7214 - out4_a - ETA: 21s - loss: 0.3493 - out0_loss: 1.2190 - out1_loss: 0.5360 - out2_loss: 0.5196 - out3_loss: 0.5135 - out4_loss: 0.5135 - out5_loss: 0.5080 - out6_loss: 0.5057 - out7_loss: 0.4570 - out8_loss: 0.4243 - out9_loss: 0.3267 - out0_acc: 0.6439 - out1_acc: 0.7176 - out2_acc: 0.7232 - o - ETA: 19s - loss: 0.3490 - out0_loss: 1.2219 - out1_loss: 0.5357 - out2_loss: 0.5192 - out3_loss: 0.5138 - out4_loss: 0.5135 - out5_loss: 0.5080 - out6_loss: 0.5053 - out7_loss: 0.4563 - out8_loss: 0.4237 - out9_loss: 0.3264 - out0_acc: 0.6448 - out1_acc: 0.7178 - out2_acc: 0.7241 - out3_acc: 0.7239 - out4_acc: 0.7214 - out5_acc: 0.7243 - out6_acc: 0.7226 - out7_acc: - ETA: 18s - loss: 0.3481 - out0_loss: 1.2171 - out1_loss: 0.5341 - out2_loss: 0.5177 - out3_loss: 0.5126 - out4_loss: 0.5123 - out5_loss: 0.5070 - out6_loss: 0.5039 - out7_loss: 0.4 - ETA: 3s - loss: 0.3492 - out0_loss: 1.2388 - out1_loss: 0.5344 - out2_loss: 0.5179 - out3_loss: 0.5131 - out4_loss: 0.5133 - out5_loss: 0.5077 - out6_loss: 0.5038 - out7_los - ETA: 2s - loss: 0.3493 - out0_loss: 1.2369 - out1_loss: 0.5343 - out2_loss: 0.5177 - out3_loss: 0.5131 - out4_loss: 0.5133 - out5_loss: 0\n",
      "Epoch 29/45\n",
      "314735/314735 [==============================] - 33s - loss: 0.3469 - out0_loss: 1.2484 - out1_loss: 0.5349 - out2_loss: 0.5145 - out3_loss: 0.5115 - out4_loss: 0.5096 - out5_loss: 0.5045 - out6_loss: 0.4996 - out7_loss: 0.4521 - out8_loss: 0.4192 - out9_loss: 0.3241 - out0_acc: 0.6433 - out1_acc: 0.7192 - out2_acc: 0.7290 - out3_acc: 0.7263 - out4_acc: 0.7249 - out5_acc: 0.7329 - out6_acc: 0.7311 - out7_acc: 0.7775 - out8_acc: 0.8013 - out9_acc: 0.8487 - weighted_acc: 0.8484 - val_loss: 0.3332 - val_out0_loss: 1.2455 - val_out1_loss: 0.5211 - val_out2_loss: 0.5087 - val_out3_loss: 0.4954 - val_out4_loss: 0.4920 - val_out5_loss: 0.4913 - val_out6_loss: 0.4980 - val_out7_loss: 0.4547 - val_out8_loss: 0.4212 - val_out9_loss: 0.3098 - val_out0_acc: 0.6629 - val_out1_acc: 0.7344 - val_out2_acc: 0.7409 - val_out3_acc: 0.7349 - val_out4_acc: 0.7640 - val_out5_acc: 0.7584 - val_out6_acc: 0.7483 - val_out7_acc: 0.7743 - val_out8_acc: 0.8206 - val_out9_acc: 0.8660 - val_weighted_acc: 0.8666\n",
      "Epoch 30/45\n",
      "314735/314735 [==============================] - 30s - loss: 0.3442 - out0_loss: 1.2434 - out1_loss: 0.5341 - out2_loss: 0.5145 - out3_loss: 0.5059 - out4_loss: 0.5053 - out5_loss: 0.5019 - out6_loss: 0.4958 - out7_loss: 0.4478 - out8_loss: 0.4141 - out9_loss: 0.3215 - out0_acc: 0.6447 - out1_acc: 0.7189 - out2_acc: 0.7289 - out3_acc: 0.7307 - out4_acc: 0.7294 - out5_acc: 0.7346 - out6_acc: 0.7361 - out7_acc: 0.7827 - out8_acc: 0.8052 - out9_acc: 0.8505 - weighted_acc: 0.8502 - val_loss: 0.3058 - val_out0_loss: 1.5497 - val_out1_loss: 0.4995 - val_out2_loss: 0.4850 - val_out3_loss: 0.4846 - val_out4_loss: 0.4949 - val_out5_loss: 0.4865 - val_out6_loss: 0.4797 - val_out7_loss: 0.4278 - val_out8_loss: 0.3910 - val_out9_loss: 0.2778 - val_out0_acc: 0.6420 - val_out1_acc: 0.7596 - val_out2_acc: 0.7400 - val_out3_acc: 0.7251 - val_out4_acc: 0.7189 - val_out5_acc: 0.7376 - val_out6_acc: 0.7627 - val_out7_acc: 0.8164 - val_out8_acc: 0.8414 - val_out9_acc: 0.8790 - val_weighted_acc: 0.8797\n",
      "Epoch 31/45\n",
      "314735/314735 [==============================] - 32s - loss: 0.3416 - out0_loss: 1.2415 - out1_loss: 0.5331 - out2_loss: 0.5126 - out3_loss: 0.5046 - out4_loss: 0.5034 - out5_loss: 0.4986 - out6_loss: 0.4921 - out7_loss: 0.4441 - out8_loss: 0.4100 - out9_loss: 0.3189 - out0_acc: 0.6481 - out1_acc: 0.7198 - out2_acc: 0.7299 - out3_acc: 0.7332 - out4_acc: 0.7296 - out5_acc: 0.7368 - out6_acc: 0.7407 - out7_acc: 0.7845 - out8_acc: 0.8071 - out9_acc: 0.8521 - weighted_acc: 0.8520 - val_loss: 0.3465 - val_out0_loss: 1.5270 - val_out1_loss: 0.5466 - val_out2_loss: 0.4991 - val_out3_loss: 0.4851 - val_out4_loss: 0.4899 - val_out5_loss: 0.4811 - val_out6_loss: 0.4846 - val_out7_loss: 0.4368 - val_out8_loss: 0.4075 - val_out9_loss: 0.3219 - val_out0_acc: 0.6398 - val_out1_acc: 0.7005 - val_out2_acc: 0.7610 - val_out3_acc: 0.7388 - val_out4_acc: 0.7244 - val_out5_acc: 0.7448 - val_out6_acc: 0.7468 - val_out7_acc: 0.7971 - val_out8_acc: 0.8123 - val_out9_acc: 0.8487 - val_weighted_acc: 0.8478c: 0.7290 - out5_acc: 0.7378 - out6_acc: 0.7402 - out7_acc: 0.7855 - out8_acc: 0.8071 - out9_acc: 0.8515 - weighted_acc: 0.85 - ETA: 21s - loss: 0.3427 - out0_loss: 1.2567 - out1_loss: 0.5341 - out2_loss: 0.5125  - ETA: 16s - loss: 0.3438 - out0_loss: 1.2510 - out1_loss: 0.5338 - out2_loss: 0.5131 - out3_loss: 0.5059 - out4_loss: 0.5037 - out5_loss: 0.4998 - out6_loss: 0.4931 - out7_loss: 0.4449 - out8_loss: 0.4111 - out9_loss: 0.3212 - out0_acc: 0.6465 - out1_acc: 0.7200 - out2_acc: 0.729 - ETA: 14s - loss: 0.3441 - out0_loss: 1.2453 - out1_loss: 0.5337 - out2_loss: 0.5135 - out3_loss: 0.5061 - out4_loss: 0.5035 - out5_loss: 0.4996 - out6_loss: 0.4928 - out7_loss: 0.4447 - out8_loss: 0.4113 - out9_loss: 0.3215 - out0_acc: 0.6472 - out1_acc: 0.7197 - out2_acc: 0.7290 - out3_acc: 0.7318 - out4_acc: 0.7289 - out5_acc: 0.7367 - out6_acc: 0.7404 - out7_acc: 0.7846 - out8_acc: 0.8066 - out9_acc: 0.8509 - wei - ETA: 14s - loss: 0.3438 - out0_loss: 1.2453 - out1_loss: 0.5337 - out2_loss: 0.5134 - out3_loss: 0.5059 - out4_loss: 0.5034 - out5_loss: 0.4995 - out6_loss: 0.4928 - out7_loss: 0.4447 - out8_loss: 0.4112 - out9_loss: 0.3212 - out0_acc: 0.6473 - out1_acc: 0.7198 - out2_acc: 0.7292 - out3_acc: 0.7320 - out4_acc: 0.7289 - out5_acc: 0.7367 - out6_acc: 0.7 - ETA: 13s  - ETA: 5s - loss: 0.3422 - out0_loss: 1.2429 - out1_loss: 0.5335 - out2_loss: 0.5130 - out3_loss: 0.5055 - out4_loss: 0.5035 - out5_loss: 0.4989  - ETA: 3s - loss: 0.3423 - out0_loss: 1.2419 -  - ETA: 1s - loss: 0.3416 - out0_loss: 1.2419 - out1_loss: 0.5334 - out2_loss: 0.5126 - out3_loss: 0.5048 - out4_loss: 0.5036 - out5_loss: 0.4988 - out6_loss: 0.4923 - out7_loss: 0.4442 - out8_loss: 0.4101 - out9_loss: 0.3189 - out0_acc: 0.\n",
      "Epoch 32/45\n"
     ]
    },
    {
     "name": "stdout",
     "output_type": "stream",
     "text": [
      "314735/314735 [==============================] - 32s - loss: 0.3465 - out0_loss: 1.2567 - out1_loss: 0.5353 - out2_loss: 0.5125 - out3_loss: 0.5076 - out4_loss: 0.5072 - out5_loss: 0.5011 - out6_loss: 0.4961 - out7_loss: 0.4467 - out8_loss: 0.4132 - out9_loss: 0.3239 - out0_acc: 0.6479 - out1_acc: 0.7178 - out2_acc: 0.7317 - out3_acc: 0.7288 - out4_acc: 0.7305 - out5_acc: 0.7368 - out6_acc: 0.7406 - out7_acc: 0.7845 - out8_acc: 0.8059 - out9_acc: 0.8502 - weighted_acc: 0.8497 - val_loss: 0.3508 - val_out0_loss: 0.7662 - val_out1_loss: 0.5658 - val_out2_loss: 0.5245 - val_out3_loss: 0.5415 - val_out4_loss: 0.5316 - val_out5_loss: 0.5238 - val_out6_loss: 0.5117 - val_out7_loss: 0.4585 - val_out8_loss: 0.4236 - val_out9_loss: 0.3322 - val_out0_acc: 0.6706 - val_out1_acc: 0.6840 - val_out2_acc: 0.7014 - val_out3_acc: 0.6871 - val_out4_acc: 0.6976 - val_out5_acc: 0.6923 - val_out6_acc: 0.7014 - val_out7_acc: 0.7908 - val_out8_acc: 0.8202 - val_out9_acc: 0.8555 - val_weighted_acc: 0.8569out1_loss: 0.5356 - out2_loss: 0.5134 - out3_loss: 0.5084 - out4_loss: 0.5075 - out5_loss: 0.5015 - out6_loss: 0.4959 - out7_loss: 0.4471 - out8_loss: 0.4140 - out9_loss: 0.3249  - ETA: 9s - loss: 0.3473 - out0_loss: 1.2636 - out1_loss: 0.5356 - out2_loss: 0.5137 - out3_loss: 0.5081 - out4_loss: 0.5076 - out5_loss: 0.5014 - out6_loss: 0.4960 - out7_loss: 0.4470 - out8_loss: 0.4138 - out9_loss: 0.3246 - out0_acc: 0.6473 - out1_acc: 0.7176 - out2_acc: 0.7315 - out3_acc: 0.7289 - out4_acc: 0.7296 - out5_acc: 0.7364 - out6_acc: 0.7399 - out7_acc: 0.7840 - out8_acc: 0.8045 - out9_acc: 0.8498 - we - ETA: 6s - loss: 0.3471 - out0_loss: 1.2589 - out1_loss: 0.5359 - out2_loss: 0.5135 - out3_loss: 0.508 - ETA: 2s - loss: 0.3464 - out0_loss: 1.2558 - out1_loss: 0.5355 - out2_loss: 0.5127 - out3_loss: 0.5078 - out4_loss: 0.5072 - out5_loss: 0.5010 - out6_loss: 0.4962 - out7_loss: 0.4468 - out8_loss: 0.4133 - out9_loss: 0.3238 - out0_acc: 0.6479 - out1_acc: 0.7178 - out2_acc: 0.7316 - out3_acc: 0 - ETA: 1s - loss: 0.3461 - out0_loss: 1.2565 - out1_loss: 0.5354 - out2_loss: 0.5125 - out3_loss: 0.5075 - out4_loss: 0.5069 - out5_loss: 0.5008 - ou - ETA: 0s - loss: 0.3465 - out0_loss: 1.2555 - out1_loss: 0.5353 - out2_loss: 0.5124 - out3_loss: 0.5074 - out4_loss: 0.5071 - out5_loss: 0.5010 - out6_loss: 0.4960 - out7_loss: 0.4467 - out8_loss: 0.4132 - out9_loss: 0.3239 - out0_acc: 0.6481 - out1_acc: 0.7179 - out2_acc: 0.7319 -\n",
      "Epoch 33/45\n",
      "314735/314735 [==============================] - 33s - loss: 0.3419 - out0_loss: 1.2599 - out1_loss: 0.5325 - out2_loss: 0.5096 - out3_loss: 0.5032 - out4_loss: 0.5009 - out5_loss: 0.4963 - out6_loss: 0.4920 - out7_loss: 0.4442 - out8_loss: 0.4088 - out9_loss: 0.3192 - out0_acc: 0.6486 - out1_acc: 0.7215 - out2_acc: 0.7329 - out3_acc: 0.7335 - out4_acc: 0.7382 - out5_acc: 0.7431 - out6_acc: 0.7447 - out7_acc: 0.7859 - out8_acc: 0.8092 - out9_acc: 0.8522 - weighted_acc: 0.8522 - val_loss: 0.3311 - val_out0_loss: 0.7634 - val_out1_loss: 0.4994 - val_out2_loss: 0.4774 - val_out3_loss: 0.4714 - val_out4_loss: 0.4777 - val_out5_loss: 0.4803 - val_out6_loss: 0.4728 - val_out7_loss: 0.4284 - val_out8_loss: 0.3977 - val_out9_loss: 0.3147 - val_out0_acc: 0.6490 - val_out1_acc: 0.7446 - val_out2_acc: 0.7641 - val_out3_acc: 0.7696 - val_out4_acc: 0.7647 - val_out5_acc: 0.7621 - val_out6_acc: 0.7787 - val_out7_acc: 0.8077 - val_out8_acc: 0.8191 - val_out9_acc: 0.8487 - val_weighted_acc: 0.8501ut6_loss: 0.4959 - out7_loss: 0.4439 - out8_loss: 0.4088 - out9_loss: 0.3165 - out0_acc: 0.6436 - out1_acc: 0.7230 - out2_acc: 0.7332 - out3_acc: 0.7293 - out4_acc: 0.7343 - out5_acc: 0.7391 - ETA: 41s - loss: 0.3418 - out0_loss: 1.2253 - out1_loss: 0.5324 - out2_loss: 0.5082 - out3_loss: 0.5052 - out4_loss: 0.5014 - out5_loss: 0.4991 - out6_loss: 0.4944 - out7_loss: 0.4472 - out8_loss: 0.4113 - out9_loss: 0.3193 - out0_acc: 0.6471 - out1_acc: 0.7237 - out2_acc: 0.7342 - out3_acc: 0.7312 - out4_acc: 0.7382 - out5_acc: 0.7407 - out6_acc: 0.7422 - out7_acc: 0.7818 - out8_acc: 0.8065 - out9_acc:  - ETA: 39s - loss: 0.3406 - out0_loss: 1.2209 - out1_loss: 0.5319 - out2_loss: 0.5072 - out3_loss: 0.5034 - out4_loss: 0.5012 - out5_loss: 0.4991 - out6_loss: 0.4934 - out7_loss: 0.4463 - out8_loss: 0.4108 - out9_loss: 0.3180 - out0_acc: 0.6484 - out1_acc: 0.7229 - out2_acc: 0.7347 - out3_acc - ETA: 32s - loss: 0.3418 - out0_loss: 1.2421 - out1_loss: 0.5323 - out2_loss: 0.5079 - out3_loss: 0.5025 - out4_loss: 0.5024 - out5_loss: 0.4999 - out6_loss: 0.4938 - out7_loss: 0.4455 - out8_loss: 0.4106 - out - ETA: 28s - loss: 0.3428 - out0_loss: 1.2619 - out1_loss: 0.5337 - out2_loss: 0.5089 - out3_loss: 0.5046 - out4_loss: 0 - ETA: 25s - loss: 0 - ETA - ETA: 1s - loss: 0.3417 - out0_loss: 1.2599 - out1_loss: 0.5320 - out2_loss: 0.5095 - out3_loss: 0.5028 - out4_loss: 0.5006 - out5_loss: 0.4961 - out6_loss: 0.4919 - out7_loss: 0.4441 - out8_loss: 0.4088 - out9_loss: 0.3190 - out0_acc: 0.64\n",
      "Epoch 34/45\n",
      "314735/314735 [==============================] - 32s - loss: 0.3400 - out0_loss: 1.2820 - out1_loss: 0.5321 - out2_loss: 0.5088 - out3_loss: 0.5017 - out4_loss: 0.4984 - out5_loss: 0.4933 - out6_loss: 0.4877 - out7_loss: 0.4407 - out8_loss: 0.4037 - out9_loss: 0.3171 - out0_acc: 0.6482 - out1_acc: 0.7219 - out2_acc: 0.7341 - out3_acc: 0.7361 - out4_acc: 0.7388 - out5_acc: 0.7441 - out6_acc: 0.7482 - out7_acc: 0.7883 - out8_acc: 0.8118 - out9_acc: 0.8535 - weighted_acc: 0.8530 - val_loss: 0.5127 - val_out0_loss: 1.0452 - val_out1_loss: 0.6969 - val_out2_loss: 0.6087 - val_out3_loss: 0.6432 - val_out4_loss: 0.5878 - val_out5_loss: 0.6014 - val_out6_loss: 0.5446 - val_out7_loss: 0.5145 - val_out8_loss: 0.5026 - val_out9_loss: 0.5003 - val_out0_acc: 0.6897 - val_out1_acc: 0.6685 - val_out2_acc: 0.6959 - val_out3_acc: 0.6883 - val_out4_acc: 0.6855 - val_out5_acc: 0.6883 - val_out6_acc: 0.6934 - val_out7_acc: 0.7222 - val_out8_acc: 0.7382 - val_out9_acc: 0.7636 - val_weighted_acc: 0.7617\n",
      "Epoch 35/45\n",
      "314735/314735 [==============================] - 29s - loss: 0.3374 - out0_loss: 1.2774 - out1_loss: 0.5290 - out2_loss: 0.5053 - out3_loss: 0.4976 - out4_loss: 0.4929 - out5_loss: 0.4904 - out6_loss: 0.4836 - out7_loss: 0.4367 - out8_loss: 0.3995 - out9_loss: 0.3146 - out0_acc: 0.6493 - out1_acc: 0.7244 - out2_acc: 0.7360 - out3_acc: 0.7409 - out4_acc: 0.7416 - out5_acc: 0.7473 - out6_acc: 0.7526 - out7_acc: 0.7898 - out8_acc: 0.8157 - out9_acc: 0.8548 - weighted_acc: 0.8548 - val_loss: 0.3288 - val_out0_loss: 0.6748 - val_out1_loss: 0.5101 - val_out2_loss: 0.5011 - val_out3_loss: 0.5016 - val_out4_loss: 0.5079 - val_out5_loss: 0.4876 - val_out6_loss: 0.4789 - val_out7_loss: 0.4262 - val_out8_loss: 0.3956 - val_out9_loss: 0.3120 - val_out0_acc: 0.7363 - val_out1_acc: 0.7300 - val_out2_acc: 0.7173 - val_out3_acc: 0.7309 - val_out4_acc: 0.7090 - val_out5_acc: 0.7438 - val_out6_acc: 0.7458 - val_out7_acc: 0.8149 - val_out8_acc: 0.8307 - val_out9_acc: 0.8513 - val_weighted_acc: 0.8520\n",
      "Epoch 36/45\n"
     ]
    },
    {
     "name": "stdout",
     "output_type": "stream",
     "text": [
      "314735/314735 [==============================] - 27s - loss: 0.3329 - out0_loss: 1.2798 - out1_loss: 0.5273 - out2_loss: 0.5031 - out3_loss: 0.4918 - out4_loss: 0.4887 - out5_loss: 0.4856 - out6_loss: 0.4777 - out7_loss: 0.4301 - out8_loss: 0.3922 - out9_loss: 0.3100 - out0_acc: 0.6505 - out1_acc: 0.7264 - out2_acc: 0.7382 - out3_acc: 0.7436 - out4_acc: 0.7470 - out5_acc: 0.7500 - out6_acc: 0.7599 - out7_acc: 0.7956 - out8_acc: 0.8195 - out9_acc: 0.8573 - weighted_acc: 0.8569 - val_loss: 0.3378 - val_out0_loss: 2.5800 - val_out1_loss: 0.5717 - val_out2_loss: 0.5200 - val_out3_loss: 0.4987 - val_out4_loss: 0.4777 - val_out5_loss: 0.4813 - val_out6_loss: 0.4690 - val_out7_loss: 0.4261 - val_out8_loss: 0.3930 - val_out9_loss: 0.3006 - val_out0_acc: 0.5934 - val_out1_acc: 0.6598 - val_out2_acc: 0.7104 - val_out3_acc: 0.7126 - val_out4_acc: 0.7433 - val_out5_acc: 0.7527 - val_out6_acc: 0.7748 - val_out7_acc: 0.7973 - val_out8_acc: 0.8322 - val_out9_acc: 0.8698 - val_weighted_acc: 0.8722\n",
      "Epoch 37/45\n",
      "314735/314735 [==============================] - 29s - loss: 0.3335 - out0_loss: 1.2748 - out1_loss: 0.5255 - out2_loss: 0.5013 - out3_loss: 0.4897 - out4_loss: 0.4860 - out5_loss: 0.4845 - out6_loss: 0.4758 - out7_loss: 0.4276 - out8_loss: 0.3910 - out9_loss: 0.3110 - out0_acc: 0.6512 - out1_acc: 0.7288 - out2_acc: 0.7404 - out3_acc: 0.7468 - out4_acc: 0.7474 - out5_acc: 0.7506 - out6_acc: 0.7621 - out7_acc: 0.7998 - out8_acc: 0.8213 - out9_acc: 0.8561 - weighted_acc: 0.8557 - val_loss: 0.3782 - val_out0_loss: 0.9105 - val_out1_loss: 0.5560 - val_out2_loss: 0.5314 - val_out3_loss: 0.4910 - val_out4_loss: 0.4856 - val_out5_loss: 0.4822 - val_out6_loss: 0.4750 - val_out7_loss: 0.4318 - val_out8_loss: 0.4013 - val_out9_loss: 0.3633 - val_out0_acc: 0.7153 - val_out1_acc: 0.6644 - val_out2_acc: 0.7199 - val_out3_acc: 0.7729 - val_out4_acc: 0.7442 - val_out5_acc: 0.7588 - val_out6_acc: 0.7704 - val_out7_acc: 0.7832 - val_out8_acc: 0.8078 - val_out9_acc: 0.8310 - val_weighted_acc: 0.8319\n",
      "Epoch 38/45\n",
      "314735/314735 [==============================] - 28s - loss: 0.3349 - out0_loss: 1.3064 - out1_loss: 0.5257 - out2_loss: 0.5010 - out3_loss: 0.4923 - out4_loss: 0.4903 - out5_loss: 0.4893 - out6_loss: 0.4800 - out7_loss: 0.4270 - out8_loss: 0.3927 - out9_loss: 0.3119 - out0_acc: 0.6530 - out1_acc: 0.7280 - out2_acc: 0.7408 - out3_acc: 0.7453 - out4_acc: 0.7453 - out5_acc: 0.7456 - out6_acc: 0.7572 - out7_acc: 0.7997 - out8_acc: 0.8187 - out9_acc: 0.8568 - weighted_acc: 0.8564 - val_loss: 0.2953 - val_out0_loss: 1.0242 - val_out1_loss: 0.4859 - val_out2_loss: 0.4656 - val_out3_loss: 0.4554 - val_out4_loss: 0.4728 - val_out5_loss: 0.4751 - val_out6_loss: 0.4637 - val_out7_loss: 0.4114 - val_out8_loss: 0.3783 - val_out9_loss: 0.2736 - val_out0_acc: 0.6491 - val_out1_acc: 0.7436 - val_out2_acc: 0.7705 - val_out3_acc: 0.7800 - val_out4_acc: 0.7320 - val_out5_acc: 0.7516 - val_out6_acc: 0.7693 - val_out7_acc: 0.8202 - val_out8_acc: 0.8491 - val_out9_acc: 0.8869 - val_weighted_acc: 0.8886\n",
      "Epoch 39/45\n",
      "314735/314735 [==============================] - 29s - loss: 0.3293 - out0_loss: 1.2604 - out1_loss: 0.5227 - out2_loss: 0.4961 - out3_loss: 0.4851 - out4_loss: 0.4847 - out5_loss: 0.4834 - out6_loss: 0.4732 - out7_loss: 0.4219 - out8_loss: 0.3854 - out9_loss: 0.3068 - out0_acc: 0.6561 - out1_acc: 0.7299 - out2_acc: 0.7438 - out3_acc: 0.7496 - out4_acc: 0.7485 - out5_acc: 0.7475 - out6_acc: 0.7651 - out7_acc: 0.8009 - out8_acc: 0.8201 - out9_acc: 0.8585 - weighted_acc: 0.8584 - val_loss: 0.3628 - val_out0_loss: 1.7168 - val_out1_loss: 0.5266 - val_out2_loss: 0.5151 - val_out3_loss: 0.4825 - val_out4_loss: 0.4848 - val_out5_loss: 0.4832 - val_out6_loss: 0.4660 - val_out7_loss: 0.4317 - val_out8_loss: 0.3994 - val_out9_loss: 0.3382 - val_out0_acc: 0.6410 - val_out1_acc: 0.6876 - val_out2_acc: 0.6946 - val_out3_acc: 0.7391 - val_out4_acc: 0.7430 - val_out5_acc: 0.7471 - val_out6_acc: 0.7724 - val_out7_acc: 0.7938 - val_out8_acc: 0.8197 - val_out9_acc: 0.8321 - val_weighted_acc: 0.8334oss: 0.3344 - out0_loss: 1.2510 - out1_loss: 0.5261 - out2_loss: 0.4983 - out3_loss: 0.4900 - out4_loss: 0.4888 - out5_loss: 0.4890 - out6_loss: 0.4767 - out7_loss: 0.4266 -  - ETA: 9s - loss: 0.3306 - out0_loss: 1.2575 - out1_loss: 0.5235 - out2_loss: 0.4958 - out3_loss: 0.4863  - ETA: 7s - loss: 0.3308 - out0_loss: 1.2604 - out1_loss: 0.5236 - out2_loss: 0.4961 - out3_loss: 0.4862 - out4_loss: 0.4856 - out5_loss: 0.4850 - out6_loss: 0.4747 - out7_loss: 0.4236 - out8_loss: 0.3873 - out9_loss: 0.3083 - out0_acc: 0.6558 - out1_acc: 0.7290 - out2_acc: 0.7434 - out3_acc: 0.7486 - out4_acc: 0.74 - ETA: 4s - loss: 0.3296 - out0_loss: 1.2575 - out1_loss: 0.5224 - out2_loss: 0.4957 - out3_loss: 0.4850 - out4_loss: 0.4850 - out5_loss: 0.4839 - out6_loss: 0.4738 - out7_loss: 0.4225 - out8_loss: 0.3862 - out9_loss: 0.3072 - out0_acc: 0.6560 - out1_acc: 0.7301 - out2_acc: 0.7438 - out3_acc: 0.7494 - out4_acc: 0.7482 - out5_acc: 0.7471 - out6_acc: 0.7652 - out7_acc: 0.8006 - out8_acc: 0.8199 - out9_acc: 0.8584 - weight - ETA: 3s - loss: 0.3297 - out0_loss: 1.2580 - out1_loss: 0.5224 - out2_loss: 0.4957 - out3_loss: 0.4850 - out4_loss: 0.4850 - out5_loss: 0.4840 - out6_loss: 0.4738 - out7_loss: 0.4225 - out8_loss: 0.3862 - out9_loss: 0.3072 - out0_acc: 0.6560 - out1_acc: 0.7301 - out2_acc: 0.7438 - out3_acc: 0.7494 - out4_acc: 0.7482 - out5_acc: 0.7472 - out6_acc: 0.7652 - out7_acc: 0.8006 - out8_acc: 0.8199 - out9_acc: - ETA: 3s - loss: 0.3296 - out0_loss: 1.2575 - out1_loss: 0.5223 - out2_loss: 0.4955 -  - ETA: 1s - loss: 0.3293 - out0_loss: 1.2599 - out1_loss: 0.5226 - out2_loss: 0.4960 - out3_loss: 0.4850 - out4_loss: 0.4848 - out5_loss: 0.4837 - out6\n",
      "Epoch 40/45\n"
     ]
    },
    {
     "name": "stdout",
     "output_type": "stream",
     "text": [
      "314735/314735 [==============================] - 28s - loss: 0.3262 - out0_loss: 1.2764 - out1_loss: 0.5204 - out2_loss: 0.4928 - out3_loss: 0.4798 - out4_loss: 0.4781 - out5_loss: 0.4759 - out6_loss: 0.4677 - out7_loss: 0.4170 - out8_loss: 0.3803 - out9_loss: 0.3037 - out0_acc: 0.6544 - out1_acc: 0.7320 - out2_acc: 0.7452 - out3_acc: 0.7536 - out4_acc: 0.7533 - out5_acc: 0.7538 - out6_acc: 0.7694 - out7_acc: 0.8019 - out8_acc: 0.8237 - out9_acc: 0.8613 - weighted_acc: 0.8609 - val_loss: 0.2868 - val_out0_loss: 1.1719 - val_out1_loss: 0.4718 - val_out2_loss: 0.4548 - val_out3_loss: 0.4542 - val_out4_loss: 0.4561 - val_out5_loss: 0.4649 - val_out6_loss: 0.4499 - val_out7_loss: 0.3953 - val_out8_loss: 0.3535 - val_out9_loss: 0.2638 - val_out0_acc: 0.6756 - val_out1_acc: 0.7704 - val_out2_acc: 0.7964 - val_out3_acc: 0.7678 - val_out4_acc: 0.7759 - val_out5_acc: 0.7410 - val_out6_acc: 0.7726 - val_out7_acc: 0.8278 - val_out8_acc: 0.8526 - val_out9_acc: 0.8963 - val_weighted_acc: 0.8953\n",
      "Epoch 41/45\n",
      "314735/314735 [==============================] - 29s - loss: 0.3218 - out0_loss: 1.2607 - out1_loss: 0.5172 - out2_loss: 0.4895 - out3_loss: 0.4759 - out4_loss: 0.4742 - out5_loss: 0.4716 - out6_loss: 0.4607 - out7_loss: 0.4128 - out8_loss: 0.3742 - out9_loss: 0.2993 - out0_acc: 0.6560 - out1_acc: 0.7345 - out2_acc: 0.7480 - out3_acc: 0.7562 - out4_acc: 0.7565 - out5_acc: 0.7582 - out6_acc: 0.7748 - out7_acc: 0.8064 - out8_acc: 0.8280 - out9_acc: 0.8632 - weighted_acc: 0.8630 - val_loss: 0.3417 - val_out0_loss: 1.0612 - val_out1_loss: 0.5733 - val_out2_loss: 0.5412 - val_out3_loss: 0.5019 - val_out4_loss: 0.5352 - val_out5_loss: 0.5103 - val_out6_loss: 0.4950 - val_out7_loss: 0.4314 - val_out8_loss: 0.3950 - val_out9_loss: 0.3200 - val_out0_acc: 0.6701 - val_out1_acc: 0.7121 - val_out2_acc: 0.7302 - val_out3_acc: 0.7394 - val_out4_acc: 0.7175 - val_out5_acc: 0.7333 - val_out6_acc: 0.7508 - val_out7_acc: 0.7681 - val_out8_acc: 0.7805 - val_out9_acc: 0.8375 - val_weighted_acc: 0.8363ut3_loss: 0.4759 - out4_loss: 0.4736 - out5_loss: 0.4718 - out6_loss: 0.4611 - out7_loss: 0.41\n",
      "Epoch 42/45\n",
      "314735/314735 [==============================] - 28s - loss: 0.3220 - out0_loss: 1.2795 - out1_loss: 0.5181 - out2_loss: 0.4876 - out3_loss: 0.4726 - out4_loss: 0.4704 - out5_loss: 0.4698 - out6_loss: 0.4597 - out7_loss: 0.4109 - out8_loss: 0.3717 - out9_loss: 0.2995 - out0_acc: 0.6545 - out1_acc: 0.7348 - out2_acc: 0.7485 - out3_acc: 0.7589 - out4_acc: 0.7596 - out5_acc: 0.7614 - out6_acc: 0.7756 - out7_acc: 0.8073 - out8_acc: 0.8288 - out9_acc: 0.8629 - weighted_acc: 0.8626 - val_loss: 0.3150 - val_out0_loss: 1.2648 - val_out1_loss: 0.4795 - val_out2_loss: 0.4737 - val_out3_loss: 0.4599 - val_out4_loss: 0.4650 - val_out5_loss: 0.4531 - val_out6_loss: 0.4507 - val_out7_loss: 0.4010 - val_out8_loss: 0.3655 - val_out9_loss: 0.2933 - val_out0_acc: 0.6714 - val_out1_acc: 0.7569 - val_out2_acc: 0.7499 - val_out3_acc: 0.7609 - val_out4_acc: 0.7676 - val_out5_acc: 0.7699 - val_out6_acc: 0.7995 - val_out7_acc: 0.7970 - val_out8_acc: 0.8190 - val_out9_acc: 0.8697 - val_weighted_acc: 0.8686\n",
      "Epoch 43/45\n",
      "314735/314735 [==============================] - 28s - loss: 0.3234 - out0_loss: 1.2641 - out1_loss: 0.5176 - out2_loss: 0.4898 - out3_loss: 0.4747 - out4_loss: 0.4698 - out5_loss: 0.4689 - out6_loss: 0.4566 - out7_loss: 0.4090 - out8_loss: 0.3711 - out9_loss: 0.3013 - out0_acc: 0.6579 - out1_acc: 0.7371 - out2_acc: 0.7520 - out3_acc: 0.7575 - out4_acc: 0.7620 - out5_acc: 0.7629 - out6_acc: 0.7772 - out7_acc: 0.8074 - out8_acc: 0.8307 - out9_acc: 0.8624 - weighted_acc: 0.8621 - val_loss: 0.3221 - val_out0_loss: 0.8274 - val_out1_loss: 0.4635 - val_out2_loss: 0.4828 - val_out3_loss: 0.4664 - val_out4_loss: 0.4476 - val_out5_loss: 0.4442 - val_out6_loss: 0.4449 - val_out7_loss: 0.4060 - val_out8_loss: 0.3697 - val_out9_loss: 0.3061 - val_out0_acc: 0.6966 - val_out1_acc: 0.7809 - val_out2_acc: 0.7608 - val_out3_acc: 0.7567 - val_out4_acc: 0.7794 - val_out5_acc: 0.8083 - val_out6_acc: 0.7913 - val_out7_acc: 0.8149 - val_out8_acc: 0.8452 - val_out9_acc: 0.8733 - val_weighted_acc: 0.87324 - out7_loss: 0.4090 - out8_loss: 0.3711 - out9_loss: 0.3015 - out0_acc: 0.6579 - out1_acc: 0.7374 - out2_acc: 0.7522 - out3_acc: 0.7580 - out4_acc: 0.7623 - out5_acc: 0.7630 - out6_acc: 0.7773 - out7_acc: 0.8073 - out8_acc: 0.8306 - ETA: 1s - loss: 0.3235 - out0_loss: 1.2646 - out1_loss: 0.5173 - out2_loss: 0.4895 - out3_loss: 0.4744 - out4_loss: 0.4697 - out5_loss: 0.4687 - out6_loss: 0.4564 - out7_loss: 0.4090 - out8_loss: 0.3711 - out9_loss: 0.3015 - out0_acc: 0.65\n",
      "Epoch 44/45\n",
      "314735/314735 [==============================] - 29s - loss: 0.3276 - out0_loss: 1.2574 - out1_loss: 0.5205 - out2_loss: 0.4916 - out3_loss: 0.4822 - out4_loss: 0.4801 - out5_loss: 0.4807 - out6_loss: 0.4676 - out7_loss: 0.4206 - out8_loss: 0.3797 - out9_loss: 0.3053 - out0_acc: 0.6536 - out1_acc: 0.7327 - out2_acc: 0.7487 - out3_acc: 0.7518 - out4_acc: 0.7545 - out5_acc: 0.7571 - out6_acc: 0.7701 - out7_acc: 0.7982 - out8_acc: 0.8194 - out9_acc: 0.8607 - weighted_acc: 0.8605 - val_loss: 0.3749 - val_out0_loss: 0.8852 - val_out1_loss: 0.5925 - val_out2_loss: 0.4969 - val_out3_loss: 0.5012 - val_out4_loss: 0.5083 - val_out5_loss: 0.5255 - val_out6_loss: 0.4933 - val_out7_loss: 0.4613 - val_out8_loss: 0.4165 - val_out9_loss: 0.3583 - val_out0_acc: 0.6420 - val_out1_acc: 0.6881 - val_out2_acc: 0.7305 - val_out3_acc: 0.7210 - val_out4_acc: 0.7271 - val_out5_acc: 0.7234 - val_out6_acc: 0.7382 - val_out7_acc: 0.7366 - val_out8_acc: 0.7780 - val_out9_acc: 0.8211 - val_weighted_acc: 0.8200\n",
      "Epoch 45/45\n",
      "314735/314735 [==============================] - 28s - loss: 0.3221 - out0_loss: 1.2728 - out1_loss: 0.5186 - out2_loss: 0.4873 - out3_loss: 0.4769 - out4_loss: 0.4721 - out5_loss: 0.4752 - out6_loss: 0.4653 - out7_loss: 0.4154 - out8_loss: 0.3723 - out9_loss: 0.2995 - out0_acc: 0.6561 - out1_acc: 0.7353 - out2_acc: 0.7517 - out3_acc: 0.7568 - out4_acc: 0.7594 - out5_acc: 0.7610 - out6_acc: 0.7728 - out7_acc: 0.7989 - out8_acc: 0.8248 - out9_acc: 0.8638 - weighted_acc: 0.8634 - val_loss: 0.2827 - val_out0_loss: 0.7344 - val_out1_loss: 0.6035 - val_out2_loss: 0.4664 - val_out3_loss: 0.4530 - val_out4_loss: 0.4524 - val_out5_loss: 0.4611 - val_out6_loss: 0.4526 - val_out7_loss: 0.4047 - val_out8_loss: 0.3610 - val_out9_loss: 0.2624 - val_out0_acc: 0.7099 - val_out1_acc: 0.6630 - val_out2_acc: 0.7383 - val_out3_acc: 0.7620 - val_out4_acc: 0.7570 - val_out5_acc: 0.7646 - val_out6_acc: 0.7755 - val_out7_acc: 0.8070 - val_out8_acc: 0.8478 - val_out9_acc: 0.8869 - val_weighted_acc: 0.8864.5185 - out2_loss: 0.4873 - out3_loss: 0.4771 - out4_loss: 0.4721 - out5_loss: 0.4752 - out6_loss: 0.4653 - out7_loss: 0.4153 - out8_loss: 0.3723 - out9_loss: 0.2995 - out0_acc: 0.6561 - out1_acc: 0.7352 - out2_acc: 0.7516 - out3_acc: 0.7567 - out4_acc: 0.7595 - out5_acc: 0.7611 - out6_acc: 0.7728\n",
      "Epoch 46/60\n"
     ]
    },
    {
     "name": "stdout",
     "output_type": "stream",
     "text": [
      "58465/58465 [==============================] - 5s - loss: 0.3221 - out0_loss: 1.2698 - out1_loss: 0.5133 - out2_loss: 0.4880 - out3_loss: 0.4749 - out4_loss: 0.4710 - out5_loss: 0.4722 - out6_loss: 0.4622 - out7_loss: 0.4153 - out8_loss: 0.3713 - out9_loss: 0.2997 - out0_acc: 0.6543 - out1_acc: 0.7383 - out2_acc: 0.7497 - out3_acc: 0.7569 - out4_acc: 0.7600 - out5_acc: 0.7626 - out6_acc: 0.7726 - out7_acc: 0.7976 - out8_acc: 0.8273 - out9_acc: 0.8614 - weighted_acc: 0.8616      ETA: 4s - loss: 0.3226 - out0_loss: 1.2740 - out1_loss: 0.5201 - out2_loss: 0.4900 - out3_loss: 0.4764 - out4_loss: 0.4719 - out5_loss: 0.4737 - out6_loss: 0.4634 - out7_loss: 0.4159 - out8_loss: 0.3705 - out9_loss: 0.3000 - out0_acc: 0.6463 - out1_acc: 0.7325 - out2_acc: 0.7472 - out3_acc: 0.7562 - out4_acc: 0.7628 - out5_acc: 0.7595 - out6_acc: 0.7705 - out7_acc: 0.7958 - out8_acc: 0. - ETA: 4s - loss: 0.3248 - out0_loss: 1.2719 -  - ETA: 1s - loss: 0.3227 - out0_loss: 1.3074 - out1_loss: 0.5149 - out2_loss: 0.4880 - out3_loss: 0.4758 - out4_loss: 0.4720 - out5_loss: 0.4729 - out6_loss: 0.4642 - ou\n",
      "Epoch 47/60\n",
      "58465/58465 [==============================] - 5s - loss: 0.3200 - out0_loss: 1.3007 - out1_loss: 0.5142 - out2_loss: 0.4861 - out3_loss: 0.4719 - out4_loss: 0.4698 - out5_loss: 0.4723 - out6_loss: 0.4603 - out7_loss: 0.4133 - out8_loss: 0.3691 - out9_loss: 0.2972 - out0_acc: 0.6546 - out1_acc: 0.7395 - out2_acc: 0.7533 - out3_acc: 0.7621 - out4_acc: 0.7614 - out5_acc: 0.7618 - out6_acc: 0.7777 - out7_acc: 0.8010 - out8_acc: 0.8315 - out9_acc: 0.8634 - weighted_acc: 0.8632      ETA: 2s - loss: 0.3209 - out0_loss: 1.2676 - out1_loss: 0.5132 - out2_loss: 0.4860 - out3_loss: 0.4744 - out4_loss: 0.4700 - out5_loss: 0.4713 - out6_loss: 0.4581 - out7_loss: 0.4112 - out8_loss: 0.3685 - out9_loss: 0.2986 - out0_acc: 0.6573 - out1_acc: 0.7409 - out2_acc: 0.7523 - out3_acc: 0.7610 - out4_acc: 0.7612 - out5_acc: 0.7624 - out6_acc: 0.7794 - out7_acc: 0.8 - ETA: 2s - loss: 0.3206 - out0_loss: 1.2758 - out1_loss:\n",
      "Epoch 48/60\n",
      "58465/58465 [==============================] - 5s - loss: 0.3175 - out0_loss: 1.2727 - out1_loss: 0.5165 - out2_loss: 0.4861 - out3_loss: 0.4713 - out4_loss: 0.4695 - out5_loss: 0.4723 - out6_loss: 0.4612 - out7_loss: 0.4110 - out8_loss: 0.3669 - out9_loss: 0.2948 - out0_acc: 0.6561 - out1_acc: 0.7390 - out2_acc: 0.7532 - out3_acc: 0.7608 - out4_acc: 0.7621 - out5_acc: 0.7641 - out6_acc: 0.7768 - out7_acc: 0.8037 - out8_acc: 0.8324 - out9_acc: 0.8662 - weighted_acc: 0.8660      ETA: 4s - loss: 0.3151 - out0_loss: 1.2593 - out1_loss: 0.5073 - out2_loss: 0.4746 - out3_loss: 0.4671 - out4_loss: 0.4599 - \n",
      "Epoch 49/60\n",
      "58465/58465 [==============================] - 5s - loss: 0.3205 - out0_loss: 1.2590 - out1_loss: 0.5161 - out2_loss: 0.4836 - out3_loss: 0.4726 - out4_loss: 0.4682 - out5_loss: 0.4691 - out6_loss: 0.4586 - out7_loss: 0.4110 - out8_loss: 0.3694 - out9_loss: 0.2983 - out0_acc: 0.6590 - out1_acc: 0.7390 - out2_acc: 0.7517 - out3_acc: 0.7585 - out4_acc: 0.7611 - out5_acc: 0.7653 - out6_acc: 0.7782 - out7_acc: 0.8025 - out8_acc: 0.8289 - out9_acc: 0.8630 - weighted_acc: 0.8631      ETA: 5s - loss: 0.2891 - out0_loss: 1.1977 - out1_loss: 0.4735 - out2_loss: 0.4373 - out3_loss: 0.4297 - out4_loss: 0.4350 - ou - ETA: 3s - loss: 0.3270 - out0_loss: 1.3000 - out1_loss: 0.5235 - out2_loss: 0.4911 - out3_loss: 0.4791 - out4_loss: 0.4753 - out5_loss: 0.4764 - out6_loss: 0.4641 - out7_loss: 0.4149 - out8_loss: 0.3736 - out9_loss: 0.3044 - out0_acc: 0.6564 - out1_ac - ETA: 2s - loss: 0.3236 - \n",
      "Epoch 50/60\n",
      "58465/58465 [==============================] - 5s - loss: 0.3206 - out0_loss: 1.3096 - out1_loss: 0.5143 - out2_loss: 0.4843 - out3_loss: 0.4740 - out4_loss: 0.4712 - out5_loss: 0.4713 - out6_loss: 0.4587 - out7_loss: 0.4083 - out8_loss: 0.3672 - out9_loss: 0.2978 - out0_acc: 0.6573 - out1_acc: 0.7405 - out2_acc: 0.7532 - out3_acc: 0.7604 - out4_acc: 0.7604 - out5_acc: 0.7649 - out6_acc: 0.7789 - out7_acc: 0.8042 - out8_acc: 0.8298 - out9_acc: 0.8640 - weighted_acc: 0.8636      ETA: 0s - loss: 0.3210 - out0_loss: 1.3128 - out1_loss: 0.5152 - out2_loss: 0.4849 - out3_loss: 0.4744 - out4_loss: 0.4717 - out5_loss: 0.4719 - out6_loss: 0.4592 - out7_loss: 0.4087 - out8_loss: 0.3675 - out9_loss: 0.2981 - out0_acc: 0.6570 - out1_acc: 0.7401 - out2_acc: 0.7530 - out3_acc: 0.7604 - out4_acc: 0.7600 - out5_acc: 0.7645 - out6_acc: 0.7787 - out7_acc: 0.8040 - out8_acc: 0.8296 - out9_acc: 0.8638 - we\n",
      "Epoch 51/60\n",
      "58465/58465 [==============================] - 5s - loss: 0.3208 - out0_loss: 1.2386 - out1_loss: 0.5131 - out2_loss: 0.4863 - out3_loss: 0.4707 - out4_loss: 0.4711 - out5_loss: 0.4717 - out6_loss: 0.4584 - out7_loss: 0.4104 - out8_loss: 0.3688 - out9_loss: 0.2988 - out0_acc: 0.6635 - out1_acc: 0.7415 - out2_acc: 0.7522 - out3_acc: 0.7604 - out4_acc: 0.7588 - out5_acc: 0.7671 - out6_acc: 0.7793 - out7_acc: 0.8040 - out8_acc: 0.8313 - out9_acc: 0.8659 - weighted_acc: 0.8655      ETA: 1s - loss: 0.3203 - out0_loss: 1.2393 - out1_loss: 0.5116 - out2_loss: 0.4858 - out3_loss: 0.4701 - out4_loss: 0.4703 - out5_loss: 0.4707 - out6_loss: 0.4579 - out7_loss: 0.4096 - out8_loss: 0.3677 - out9_loss: 0.2983 - out0_acc: 0.6633 - out1_acc: 0.7423 - out2_acc: 0.7516 - out3_acc: 0.7608 - out4_acc: 0.7584 - ETA: 0s - loss: 0.3205 - out0_loss: 1.2342 - out1_loss: 0.5116 - out2_loss: 0.4842 - out3_loss: 0.4694 - out4_loss: 0.4702 - out5_loss: 0.4708 - out6_loss: 0.4579 - out7_loss: 0.4098 - out8_loss: 0.3683 - out9_loss: 0.2986 - out0_acc: 0.6638 - out1_acc: 0.7420 - out2_acc: 0.7528 - out3_acc: 0.7611 - out4_acc: 0.7591 - out5_acc: 0.7677 - out6_acc: 0.7796 - o\n",
      "Epoch 52/60\n",
      "58465/58465 [==============================] - 7s - loss: 0.3215 - out0_loss: 1.2678 - out1_loss: 0.5165 - out2_loss: 0.4837 - out3_loss: 0.4712 - out4_loss: 0.4703 - out5_loss: 0.4709 - out6_loss: 0.4579 - out7_loss: 0.4109 - out8_loss: 0.3684 - out9_loss: 0.2992 - out0_acc: 0.6620 - out1_acc: 0.7404 - out2_acc: 0.7532 - out3_acc: 0.7601 - out4_acc: 0.7600 - out5_acc: 0.7653 - out6_acc: 0.7787 - out7_acc: 0.8034 - out8_acc: 0.8302 - out9_acc: 0.8638 - weighted_acc: 0.8632      ETA: 9s - loss: 0.3179 - out0_loss: 1.5136 - out1_loss: 0.4756 - out2_loss: 0.4792 - out3_loss: 0.4483 - out4_loss: 0.4344 - out5_loss: 0.4483 - out6_loss: 0.4467 - out7_loss: 0.3951 - out8_loss: 0.3500 - out9_loss: 0.2945 - out0_acc: 0.6486 - out1_acc: 0.7714 - out2_acc - ETA: 8s - loss: 0.3045 - out0_loss: 1.2237 - out1_loss: 0.5038 - out2_loss: 0.4785 - out3_loss: 0.4650 - out4_loss: 0.4597 - out5_loss: 0.4645 - out6_loss: 0.4526 - out7_loss: 0.4008 - out8_loss: 0.3568 - out9_loss: 0.2818 - out0_acc: 0.6637 - out1_acc: 0.7452 - out2_acc: 0.7584 - out3_acc: 0.7679 - out4_acc: 0.7663 - out5_acc: 0.7732 - out6_acc: 0.7854 - out7_acc: 0.8153 - out8_acc: 0.8407 - out9_acc: 0.8755  - ETA: 7s - loss: 0.3051 - out0_loss: 1.2089 - ou\n",
      "Epoch 53/60\n",
      "58465/58465 [==============================] - 5s - loss: 0.3177 - out0_loss: 1.2994 - out1_loss: 0.5158 - out2_loss: 0.4862 - out3_loss: 0.4735 - out4_loss: 0.4683 - out5_loss: 0.4683 - out6_loss: 0.4554 - out7_loss: 0.4067 - out8_loss: 0.3647 - out9_loss: 0.2949 - out0_acc: 0.6549 - out1_acc: 0.7428 - out2_acc: 0.7521 - out3_acc: 0.7593 - out4_acc: 0.7608 - out5_acc: 0.7667 - out6_acc: 0.7778 - out7_acc: 0.8050 - out8_acc: 0.8337 - out9_acc: 0.8654 - weighted_acc: 0.8650      ETA: 1s - loss: 0.3187 - out0_loss: 1.3290 - out1_loss: 0.5144 - out2_loss: 0.4846 - out3_loss: 0.4731 - out4_loss: 0.4687 - out5_loss: 0.4685 - \n",
      "Epoch 54/60\n"
     ]
    },
    {
     "name": "stdout",
     "output_type": "stream",
     "text": [
      "58465/58465 [==============================] - 5s - loss: 0.3184 - out0_loss: 1.2864 - out1_loss: 0.5192 - out2_loss: 0.4862 - out3_loss: 0.4735 - out4_loss: 0.4688 - out5_loss: 0.4692 - out6_loss: 0.4553 - out7_loss: 0.4058 - out8_loss: 0.3650 - out9_loss: 0.2957 - out0_acc: 0.6584 - out1_acc: 0.7389 - out2_acc: 0.7523 - out3_acc: 0.7602 - out4_acc: 0.7610 - out5_acc: 0.7664 - out6_acc: 0.7770 - out7_acc: 0.8071 - out8_acc: 0.8328 - out9_acc: 0.8656 - weighted_acc: 0.8652      ETA: 1s - loss: 0.3159 - out0_loss: 1.2644 - out1_loss: 0.5124 - out2_loss: 0.4835 - out3_loss: 0.4713 - out4_loss: 0.4659 - out5_loss: 0.4650 - out6_loss: 0.4527 - out7_loss: 0.4032 \n",
      "Epoch 55/60\n",
      "58465/58465 [==============================] - 5s - loss: 0.3148 - out0_loss: 1.2582 - out1_loss: 0.5156 - out2_loss: 0.4785 - out3_loss: 0.4658 - out4_loss: 0.4619 - out5_loss: 0.4637 - out6_loss: 0.4512 - out7_loss: 0.4019 - out8_loss: 0.3602 - out9_loss: 0.2926 - out0_acc: 0.6626 - out1_acc: 0.7401 - out2_acc: 0.7559 - out3_acc: 0.7635 - out4_acc: 0.7673 - out5_acc: 0.7697 - out6_acc: 0.7803 - out7_acc: 0.8093 - out8_acc: 0.8370 - out9_acc: 0.8657 - weighted_acc: 0.8651     \n",
      "Epoch 56/60\n",
      "58465/58465 [==============================] - 5s - loss: 0.3141 - out0_loss: 1.3113 - out1_loss: 0.5135 - out2_loss: 0.4838 - out3_loss: 0.4713 - out4_loss: 0.4640 - out5_loss: 0.4636 - out6_loss: 0.4516 - out7_loss: 0.4029 - out8_loss: 0.3602 - out9_loss: 0.2911 - out0_acc: 0.6558 - out1_acc: 0.7422 - out2_acc: 0.7538 - out3_acc: 0.7605 - out4_acc: 0.7657 - out5_acc: 0.7692 - out6_acc: 0.7804 - out7_acc: 0.8073 - out8_acc: 0.8364 - out9_acc: 0.8660 - weighted_acc: 0.8662      ETA: 3s - loss: 0.3165 - out0_loss: 1.3178 - out1_loss: 0.5158 - out2_loss: 0.4908 - out3_loss: 0.4726 - out4_loss: 0.4701 - out5_loss: 0.4688 - out6_loss: 0.4567 - ou - ETA: 2s - loss: 0.3137 - out0_loss: 1.3011 - out1_loss: 0.5139 - out2_loss: 0.4842 - out3_loss: 0.4693 - out4_loss:\n",
      "Epoch 57/60\n",
      "58465/58465 [==============================] - 5s - loss: 0.3165 - out0_loss: 1.2936 - out1_loss: 0.5162 - out2_loss: 0.4852 - out3_loss: 0.4713 - out4_loss: 0.4650 - out5_loss: 0.4664 - out6_loss: 0.4527 - out7_loss: 0.4037 - out8_loss: 0.3608 - out9_loss: 0.2938 - out0_acc: 0.6609 - out1_acc: 0.7416 - out2_acc: 0.7528 - out3_acc: 0.7606 - out4_acc: 0.7659 - out5_acc: 0.7695 - out6_acc: 0.7803 - out7_acc: 0.8080 - out8_acc: 0.8368 - out9_acc: 0.8642 - weighted_acc: 0.8643     \n",
      "Epoch 58/60\n",
      "58465/58465 [==============================] - 5s - loss: 0.3194 - out0_loss: 1.2896 - out1_loss: 0.5169 - out2_loss: 0.4853 - out3_loss: 0.4741 - out4_loss: 0.4660 - out5_loss: 0.4693 - out6_loss: 0.4522 - out7_loss: 0.4058 - out8_loss: 0.3626 - out9_loss: 0.2969 - out0_acc: 0.6618 - out1_acc: 0.7395 - out2_acc: 0.7537 - out3_acc: 0.7604 - out4_acc: 0.7630 - out5_acc: 0.7634 - out6_acc: 0.7807 - out7_acc: 0.8064 - out8_acc: 0.8358 - out9_acc: 0.8634 - weighted_acc: 0.8630      ETA: 4s - loss: 0.2974 - out0_loss: 1.3286 - out1_loss: 0.4988 - \n",
      "Epoch 59/60\n",
      "58465/58465 [==============================] - 5s - loss: 0.3193 - out0_loss: 1.3007 - out1_loss: 0.5156 - out2_loss: 0.4854 - out3_loss: 0.4747 - out4_loss: 0.4669 - out5_loss: 0.4676 - out6_loss: 0.4543 - out7_loss: 0.4066 - out8_loss: 0.3635 - out9_loss: 0.2966 - out0_acc: 0.6567 - out1_acc: 0.7407 - out2_acc: 0.7526 - out3_acc: 0.7593 - out4_acc: 0.7612 - out5_acc: 0.7659 - out6_acc: 0.7808 - out7_acc: 0.8065 - out8_acc: 0.8350 - out9_acc: 0.8642 - weighted_acc: 0.8639      ETA: 0s - loss: 0.3185 - out0_loss: 1.3067 - out1_loss: 0.5136 - out2_loss: 0.4846 - out3_loss: 0.4732 - out4_loss: 0.4656 - out5_loss: 0.4669 - out6_loss: 0.4538 - out7_loss: 0.4060 - out8_loss: 0.3632 - out9_loss: 0.2958 - out0_acc: 0.6568 - out1_acc: 0.7413 - out2_acc: 0.7522 - out3_acc: 0.7594 - out4_acc: 0.7612 - out5_acc: 0.7654 - out6_acc: 0.7807 - out7_\n",
      "Epoch 60/60\n",
      "58465/58465 [==============================] - 5s - loss: 0.3186 - out0_loss: 1.2934 - out1_loss: 0.5154 - out2_loss: 0.4812 - out3_loss: 0.4702 - out4_loss: 0.4664 - out5_loss: 0.4651 - out6_loss: 0.4521 - out7_loss: 0.4028 - out8_loss: 0.3600 - out9_loss: 0.2961 - out0_acc: 0.6609 - out1_acc: 0.7410 - out2_acc: 0.7547 - out3_acc: 0.7612 - out4_acc: 0.7615 - out5_acc: 0.7670 - out6_acc: 0.7812 - out7_acc: 0.8091 - out8_acc: 0.8382 - out9_acc: 0.8634 - weighted_acc: 0.8635      ETA: 4s - loss: 0.3239 - out0_loss: 1.3319 - out1_loss: 0.5191 - out2_loss: 0.4890 - out3_loss: 0.4743 - out4_loss: 0.4706 - out5_loss: 0.4696 - out6_loss: 0.4568 - out7_loss: 0.4067 - out8_loss: 0.3661 - out9_loss: 0.3012 - out0_acc: 0.6572 - out1_acc: 0.7378 - out2_acc: 0.7477 - out3_acc: 0.7595 - out4_acc: 0.7562 - out5_acc: 0.7641 - out6_acc: 0.7768 - out7_acc: 0.8070 - out8_acc: 0.8335 - out9_acc: 0.8626 - weighted_acc: 0. - ETA: 4s - loss: 0.3230 - out0_loss: 1.3319 - out1_loss: 0.5177 - out2_loss: 0.4882 - out3_loss: 0.474 - ETA: 1s - loss: 0.3215 - out0_loss: 1.3142 - out1_loss: 0.5168 - out2_loss: 0.4842 - out3_loss: 0.4734 - out4_loss: 0.4676 - out5_loss: 0.4681 - out6_loss: 0.4547 - out7_loss: 0.4046 - out8_loss: 0.3629 - out9_loss: 0.2990 - out0_acc: 0.6594 - out1_acc: 0.7400 - out2_acc: 0.7518 - out3_acc: 0.7602 - out4_acc: 0.7600 - out5_acc: 0.7644 - out6_acc: 0.7791 - out7_acc: 0.8078 - out8_acc: 0.8375 - out9_ac - ETA: 1s - loss: 0.3205 - out0_loss: 1.3096 - out1_loss: 0.5150 - out2_loss: 0.4825 - out3_loss: 0.4719 - out4_loss: 0.4668 - out5_loss: 0.4669 - out6_loss: 0.4534 - out7_loss: 0.4034 - out8_loss: 0.3616 - out9_loss: 0.2980 - out0_acc: 0.6601 - out1_ac - ETA: 0s - loss: 0.3190 - out0_loss: 1.2991 - out1_loss: 0.5136 - out2_loss: 0.4811 - out3_loss: 0.4702 - out4_loss: 0.4664 - out5_loss: 0.4657 - out6_loss: 0.4526 - out7_loss: 0.4033 - out8_loss: 0.3606 - out9_loss: 0.2966 - out0_acc: 0.6609 - out1_acc: 0.7411 - out2_acc: 0.7545 - out3_acc: 0.7614 - out4_acc: 0.7616 - out5_acc: 0.7666 \n"
     ]
    }
   ],
   "source": [
    "history = None\n",
    "Model1 = None\n",
    "X_test = None\n",
    "Y_test = None\n",
    "in_val = None\n",
    "out_val = None\n",
    "my_callback = None\n",
    "k=None\n",
    "if __name__ == '__main__':\n",
    "    #for i in range(5):\n",
    "    my_callback,history,Model1,X_test,Y_test,in_val,out_val,k = main(sys.argv[1:], 0)"
   ]
  },
  {
   "cell_type": "code",
   "execution_count": null,
   "metadata": {},
   "outputs": [],
   "source": []
  },
  {
   "cell_type": "code",
   "execution_count": null,
   "metadata": {},
   "outputs": [],
   "source": [
    "reset_value()\n",
    "print return_value()\n",
    "metrics = Model1.evaluate(in_val,out_val,verbose=1)\n",
    "k=return_value()"
   ]
  },
  {
   "cell_type": "code",
   "execution_count": null,
   "metadata": {},
   "outputs": [],
   "source": [
    "metrics"
   ]
  },
  {
   "cell_type": "code",
   "execution_count": null,
   "metadata": {},
   "outputs": [],
   "source": [
    "y_pred = np.concatenate(k)\n",
    "y_true = out_val[out_val.keys()[-1]]"
   ]
  },
  {
   "cell_type": "markdown",
   "metadata": {},
   "source": [
    "## ROC"
   ]
  },
  {
   "cell_type": "code",
   "execution_count": null,
   "metadata": {},
   "outputs": [],
   "source": [
    "from sklearn.metrics import roc_auc_score,roc_curve,auc"
   ]
  },
  {
   "cell_type": "code",
   "execution_count": null,
   "metadata": {},
   "outputs": [],
   "source": [
    "y_scores = y_pred[:,1]\n",
    "y_true = y_true[:,1]\n",
    "y_true.shape"
   ]
  },
  {
   "cell_type": "code",
   "execution_count": null,
   "metadata": {},
   "outputs": [],
   "source": [
    "fpr, tpr, thresholds = roc_curve(y_true, y_scores, pos_label=1)\n",
    "fnr = 1 - tpr\n",
    "EER = fpr[np.nanargmin(np.absolute((fnr - fpr)))]"
   ]
  },
  {
   "cell_type": "code",
   "execution_count": null,
   "metadata": {},
   "outputs": [],
   "source": [
    "print \"FPR\",fpr.shape\n",
    "print \"TPR\",tpr.shape\n",
    "print \"thresholds\",thresholds"
   ]
  },
  {
   "cell_type": "code",
   "execution_count": null,
   "metadata": {},
   "outputs": [],
   "source": [
    "print \"AUC\",roc_auc_score(y_true, y_scores)\n",
    "print \"EER\",EER"
   ]
  },
  {
   "cell_type": "code",
   "execution_count": null,
   "metadata": {},
   "outputs": [],
   "source": [
    "fnr[np.nanargmin(np.absolute((fnr - fpr)))]"
   ]
  },
  {
   "cell_type": "markdown",
   "metadata": {},
   "source": [
    "## ROC Curve"
   ]
  },
  {
   "cell_type": "code",
   "execution_count": null,
   "metadata": {},
   "outputs": [],
   "source": [
    "from scipy.optimize import brentq\n",
    "from scipy.interpolate import interp1d\n",
    "eer = brentq(lambda x : 1. - x - interp1d(fpr, tpr)(x), 0., 1.)\n",
    "thresh = interp1d(fpr, thresholds)(eer)\n",
    "print \"EER\",eer"
   ]
  },
  {
   "cell_type": "code",
   "execution_count": null,
   "metadata": {},
   "outputs": [],
   "source": [
    "figure = plt.gcf() # get current figure\n",
    "figure.set_size_inches(8, 6)\n",
    "plt.plot(fpr, tpr, 'b', label = 'AUC = %0.2f' % roc_auc_score(y_true, y_scores))\n",
    "\n",
    "plt.plot(fpr, tpr, 'b', label = 'EER = %0.2f' % eer)\n",
    "plt.legend(loc = 'lower right')\n",
    "plt.plot([0, 1], [0, 1],'r--')\n",
    "plt.xlim([-0.02, 1.02])\n",
    "plt.ylim([-0.02, 1.02])\n",
    "plt.xlabel('False Positive Rate')\n",
    "plt.ylabel('True Positive Rate')\n",
    "plt.title(dataset+' ROC - 50ms ')\n",
    "plt.legend(loc=\"lower right\")\n",
    "plt.savefig(dataset+'_plot_hbp_roc.png',dpi=100)\n",
    "\n",
    "plt.clf() "
   ]
  },
  {
   "cell_type": "markdown",
   "metadata": {},
   "source": [
    "## Error rate while whole training"
   ]
  },
  {
   "cell_type": "code",
   "execution_count": 6,
   "metadata": {},
   "outputs": [
    {
     "name": "stdout",
     "output_type": "stream",
     "text": [
      "old len :  283275\n",
      "new len :  300825\n"
     ]
    },
    {
     "data": {
      "text/plain": [
       "<Figure size 576x432 with 0 Axes>"
      ]
     },
     "metadata": {},
     "output_type": "display_data"
    }
   ],
   "source": [
    "hbp = open('/home/rakesh/Desktop/zCap/new/log_hbp19_0.acc','r')\n",
    "\n",
    "print \"old len : \",len(old)\n",
    "\n",
    "xhbp = []\n",
    "\n",
    "for line in hbp.readlines():\n",
    "    xhbp.append(float(line))\n",
    "print \"new len : \",len(xhbp)    \n",
    "#train_acc,_= get_metrics()    \n",
    "    \n",
    "figure = plt.gcf() # get current figure\n",
    "figure.set_size_inches(8, 6)\n",
    "\n",
    "\n",
    "plt.plot(1-np.array(xhbp), label = 'online',color = 'r',linestyle='--')\n",
    "plt.plot(1-np.array(old), label = 'initial train',color = 'b')\n",
    "plt.legend()\n",
    "plt.title(dataset+' 50ms 21 features HBP')\n",
    "plt.ylabel('Error Rate')\n",
    "#plt.show()\n",
    "plt.savefig(dataset+'_plot_online_45_15_hbp.png',dpi=100)\n",
    "\n",
    "plt.clf()  "
   ]
  },
  {
   "cell_type": "code",
   "execution_count": null,
   "metadata": {},
   "outputs": [],
   "source": [
    "model = Model1\n",
    "Model1.fit(in_val, out_val, nb_epoch = 1, batch_size = 1, callbacks=[my_callback] , verbose = 1)"
   ]
  },
  {
   "cell_type": "code",
   "execution_count": null,
   "metadata": {
    "scrolled": true
   },
   "outputs": [],
   "source": [
    "hbp = open('/home/rakesh/Desktop/zCap/new/log_hbp19_0.acc','r')\n",
    "\n",
    "x1hbp = []\n",
    "\n",
    "for line in hbp.readlines():\n",
    "    x1hbp.append(float(line))\n",
    "    \n",
    "    \n",
    "figure = plt.gcf() # get current figure\n",
    "figure.set_size_inches(8, 6)\n",
    "\n",
    "plt.plot(1-np.array(xhbp), label = 'online',color = 'r')\n",
    "plt.plot(1-np.array(old), label = 'train',color = 'b')\n",
    "plt.legend()\n",
    "plt.title(dataset+' 50ms 21 features HBP')\n",
    "plt.ylabel('Error Rate')\n",
    "#plt.show()\n",
    "plt.savefig(dataset+'_plot_hbp_cd.png',dpi=100)\n",
    "\n",
    "plt.clf()  "
   ]
  },
  {
   "cell_type": "code",
   "execution_count": null,
   "metadata": {},
   "outputs": [],
   "source": [
    "##v  train and val curve\n",
    "figure = plt.gcf() # get current figure\n",
    "figure.set_size_inches(8, 6)\n",
    "\n",
    "plt.plot(np.array(history.history['weighted_acc']), label = 'Training')\n",
    "plt.plot(np.array(history.history['val_weighted_acc']), label = 'Validation')\n",
    "plt.legend()\n",
    "plt.title(dataset+' | 50ms | Test_acc : %0.3f'%metrics[-1])\n",
    "plt.ylabel('Accuracy')\n",
    "#plt.show()\n",
    "plt.savefig(dataset+'_plot_train_val.png',dpi=100)\n",
    "\n",
    "plt.clf()"
   ]
  },
  {
   "cell_type": "code",
   "execution_count": null,
   "metadata": {},
   "outputs": [],
   "source": []
  },
  {
   "cell_type": "code",
   "execution_count": null,
   "metadata": {},
   "outputs": [],
   "source": []
  }
 ],
 "metadata": {
  "kernelspec": {
   "display_name": "Python 2",
   "language": "python",
   "name": "python2"
  },
  "language_info": {
   "codemirror_mode": {
    "name": "ipython",
    "version": 2
   },
   "file_extension": ".py",
   "mimetype": "text/x-python",
   "name": "python",
   "nbconvert_exporter": "python",
   "pygments_lexer": "ipython2",
   "version": "2.7.15rc1"
  }
 },
 "nbformat": 4,
 "nbformat_minor": 2
}
