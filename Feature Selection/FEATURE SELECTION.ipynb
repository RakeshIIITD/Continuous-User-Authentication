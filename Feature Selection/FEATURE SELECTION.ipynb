{
 "cells": [
  {
   "cell_type": "code",
   "execution_count": 103,
   "metadata": {},
   "outputs": [],
   "source": [
    "import pymrmr\n",
    "import numpy as np\n",
    "import pandas as pd\n",
    "from sklearn.ensemble import ExtraTreesClassifier\n",
    "import scipy.io\n",
    "from sklearn.feature_selection import SelectKBest\n",
    "from sklearn.feature_selection import chi2,mutual_info_classif\n",
    "from sklearn.feature_selection import RFE\n",
    "from sklearn.linear_model import LogisticRegression"
   ]
  },
  {
   "cell_type": "code",
   "execution_count": 61,
   "metadata": {},
   "outputs": [],
   "source": [
    "mat = scipy.io.loadmat('out.mat')"
   ]
  },
  {
   "cell_type": "code",
   "execution_count": 86,
   "metadata": {},
   "outputs": [
    {
     "data": {
      "text/plain": [
       "(50000,)"
      ]
     },
     "execution_count": 86,
     "metadata": {},
     "output_type": "execute_result"
    }
   ],
   "source": [
    "#selected = pymrmr.mRMR(df1, 'MIQ',3)\n",
    "X = mat['X_test'][0:50000]\n",
    "Y = mat['Y_test']\n",
    "Y = Y.reshape(-1)[0:50000]\n",
    "Y.shape"
   ]
  },
  {
   "cell_type": "code",
   "execution_count": 87,
   "metadata": {},
   "outputs": [
    {
     "name": "stdout",
     "output_type": "stream",
     "text": [
      "[0.05346798 0.05826609 0.05382181 0.07368684 0.08825255 0.07493414\n",
      " 0.07799264 0.0812861  0.08898382 0.02880709 0.03525641 0.03649177\n",
      " 0.03525143 0.03198448 0.03192266 0.03208407 0.03423983 0.03347942\n",
      " 0.03438764 0.01540323]\n"
     ]
    }
   ],
   "source": [
    "## DECISION TREE FEATURE IMPORTANCE\n",
    "\n",
    "model = ExtraTreesClassifier(n_estimators=20)\n",
    "model.fit(X, Y)\n",
    "print(model.feature_importances_)"
   ]
  },
  {
   "cell_type": "code",
   "execution_count": 79,
   "metadata": {},
   "outputs": [
    {
     "data": {
      "text/plain": [
       "1.0"
      ]
     },
     "execution_count": 79,
     "metadata": {},
     "output_type": "execute_result"
    }
   ],
   "source": [
    "sum(model.feature_importances_)"
   ]
  },
  {
   "cell_type": "code",
   "execution_count": 104,
   "metadata": {},
   "outputs": [],
   "source": [
    "## KBEST FEATURE \n",
    "test = SelectKBest(score_func= mutual_info_classif, k=4)\n",
    "fit = test.fit(X, Y)"
   ]
  },
  {
   "cell_type": "code",
   "execution_count": 105,
   "metadata": {},
   "outputs": [
    {
     "name": "stdout",
     "output_type": "stream",
     "text": [
      "[0.119 0.12  0.124 0.183 0.185 0.184 0.118 0.114 0.119 0.1   0.045 0.05\n",
      " 0.053 0.016 0.016 0.018 0.021 0.019 0.023 0.104]\n"
     ]
    }
   ],
   "source": [
    "np.set_printoptions(precision=3)\n",
    "print(sum(fit.scores_))"
   ]
  },
  {
   "cell_type": "code",
   "execution_count": 101,
   "metadata": {},
   "outputs": [
    {
     "name": "stdout",
     "output_type": "stream",
     "text": [
      "Num Features:\n",
      "3\n",
      "Selected Features\n",
      "[False False False False False False False False False False False False\n",
      " False False False False  True  True False  True]\n",
      "Feature Ranking:\n",
      "[ 7  6 16  2  3 18 10 17 11  8 12  9 13  5  4 14  1  1 15  1]\n"
     ]
    }
   ],
   "source": [
    "## RFE FEATURE SELECTION\n",
    "\n",
    "model = LogisticRegression(solver='liblinear')\n",
    "rfe = RFE(model, 3)\n",
    "fit = rfe.fit(X, Y)\n",
    "print(\"Num Features:\")\n",
    "print(fit.n_features_)\n",
    "print(\"Selected Features\")\n",
    "print(fit.support_)\n",
    "print(\"Feature Ranking:\")\n",
    "print(fit.ranking_)"
   ]
  },
  {
   "cell_type": "code",
   "execution_count": null,
   "metadata": {},
   "outputs": [],
   "source": []
  }
 ],
 "metadata": {
  "kernelspec": {
   "display_name": "Python 3",
   "language": "python",
   "name": "python3"
  },
  "language_info": {
   "codemirror_mode": {
    "name": "ipython",
    "version": 3
   },
   "file_extension": ".py",
   "mimetype": "text/x-python",
   "name": "python",
   "nbconvert_exporter": "python",
   "pygments_lexer": "ipython3",
   "version": "3.6.7"
  }
 },
 "nbformat": 4,
 "nbformat_minor": 2
}
