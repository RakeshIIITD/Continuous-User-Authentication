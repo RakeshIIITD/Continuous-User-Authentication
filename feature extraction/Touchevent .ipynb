{
 "cells": [
  {
   "cell_type": "code",
   "execution_count": 1,
   "metadata": {},
   "outputs": [
    {
     "data": {
      "application/javascript": [
       "IPython.notebook.set_autosave_interval(60000)"
      ]
     },
     "metadata": {},
     "output_type": "display_data"
    },
    {
     "name": "stdout",
     "output_type": "stream",
     "text": [
      "Autosaving every 60 seconds\n"
     ]
    }
   ],
   "source": [
    "import glob\n",
    "import pandas as pd\n",
    "from collections import Counter\n",
    "from matplotlib import pyplot as plt\n",
    "import numpy as np\n",
    "from itertools import chain \n",
    "from IPython.display import clear_output\n",
    "from ipywidgets import widgets\n",
    "from IPython.display import display\n",
    "from sklearn.model_selection import train_test_split\n",
    "import os\n",
    "from sklearn.neural_network import MLPClassifier\n",
    "import numpy as np\n",
    "import scipy\n",
    "%autosave 60"
   ]
  },
  {
   "cell_type": "code",
   "execution_count": 5,
   "metadata": {},
   "outputs": [],
   "source": [
    "output = None"
   ]
  },
  {
   "cell_type": "code",
   "execution_count": 8,
   "metadata": {},
   "outputs": [],
   "source": [
    "def progress(count,total):\n",
    "        global output\n",
    "        \n",
    "        #display(widgets.IntSlider())\n",
    "        #text = widgets.Text()\n",
    "\n",
    "        with output:\n",
    "            print \"{0:.2f}\".format(count*100.0/total)+\" %\"\n",
    "            print '|'+'='*int(count*100.0/total)+'>'+'.'*(100-int(count*100.0/total))+'|'\n",
    "        with output:\n",
    "            clear_output(wait=True)"
   ]
  },
  {
   "cell_type": "code",
   "execution_count": 41,
   "metadata": {},
   "outputs": [],
   "source": [
    "path = '/home/rakesh/Desktop/zCap/public_dataset/HMOG/990622/'\n",
    "\n",
    "filter_file = 'TouchEvent.csv'\n",
    "out_path = '/home/rakesh/OUTPUT/TouchEvent/'"
   ]
  },
  {
   "cell_type": "code",
   "execution_count": 42,
   "metadata": {},
   "outputs": [],
   "source": [
    "def concat(path,filter_file):\n",
    "    df = None\n",
    "    l = []\n",
    "    \n",
    "    for session in glob.glob(path+'*'):\n",
    "    \n",
    "        for f in glob.glob(session+'/*'):\n",
    "        \n",
    "            if f.split('/')[-1]==filter_file:\n",
    "                df = pd.read_csv(f,header=None)\n",
    "                l.append(df)\n",
    "    return pd.concat(l).sort_values(by=[0]) ## sort by absolute timestamp"
   ]
  },
  {
   "cell_type": "code",
   "execution_count": 43,
   "metadata": {},
   "outputs": [],
   "source": [
    "mdf = concat(path,filter_file)"
   ]
  },
  {
   "cell_type": "code",
   "execution_count": 44,
   "metadata": {},
   "outputs": [],
   "source": [
    "mdf = mdf.drop(columns=[1,2])"
   ]
  },
  {
   "cell_type": "code",
   "execution_count": 45,
   "metadata": {},
   "outputs": [
    {
     "data": {
      "application/vnd.jupyter.widget-view+json": {
       "model_id": "839d37766713477f9bf5d0e1b88599c8",
       "version_major": 2,
       "version_minor": 0
      },
      "text/plain": [
       "Output()"
      ]
     },
     "metadata": {},
     "output_type": "display_data"
    },
    {
     "name": "stdout",
     "output_type": "stream",
     "text": [
      "248666\n"
     ]
    }
   ],
   "source": [
    "start = mdf.iloc[0][0]\n",
    "\n",
    "gap = 10       # gap of 10ms\n",
    "count = 0\n",
    "touch_list = []\n",
    "tmp = []\n",
    "length = len(mdf)\n",
    "\n",
    "output = widgets.Output()\n",
    "display(output)\n",
    "\n",
    "for index in range(0,length):\n",
    "    \n",
    "    if index%2000==0:\n",
    "        progress(index,length)\n",
    "        #print \"{:.2f} and {}\".format((index*1.0)/length,index),\"|\",\n",
    "    \n",
    "    \n",
    "    row = mdf.iloc[index].tolist()\n",
    "    count+=1\n",
    "    cur_time = row[0]\n",
    "    if cur_time<start:\n",
    "        print \"Yes\"\n",
    "    \n",
    "    if cur_time>=start and cur_time<= start+gap:\n",
    "        \n",
    "        tmp.append(row[1:])\n",
    "\n",
    "    else:\n",
    "        \n",
    "        start = cur_time\n",
    "        count+=1\n",
    "        if len(tmp)!=0:\n",
    "            \n",
    "            df = pd.DataFrame(tmp)\n",
    "            \n",
    "            x0,x1 = df[0].mode()[0], df[1].mode()[0]    ## pointer count, pointerid\n",
    "            x2,x3,x4 = df[3].mean(),df[3].max(),df[3].min()      # x-axis\n",
    "            x5,x6,x7 = df[4].mean(), df[4].max(), df[4].min()  # y-axis\n",
    "            x8,x9 = df[5].mean(),df[5].max()                ## pressure\n",
    "            x10,x11 = df[6].mean(),df[6].max()                ##contact size   \n",
    "            x12 = df[7].mode()[0]                         # phone orientation\n",
    "            #x13 = len(df)\n",
    "            tuple_list = [x0,x1,x2,x3,x4,x5,x6,x7,x8,x9,x10,x11,x12]\n",
    "            try:\n",
    "                tuple_list = [float(i) for i in tuple_list]\n",
    "            except:\n",
    "                print \"\\n\\n\",tuple_list\n",
    "                break\n",
    "            #print tuple_list\n",
    "            touch_list.append(tuple_list)\n",
    "        tmp = []\n",
    "        \n",
    "        tmp.append(row[1:])\n",
    "print count"
   ]
  },
  {
   "cell_type": "code",
   "execution_count": 46,
   "metadata": {},
   "outputs": [
    {
     "name": "stdout",
     "output_type": "stream",
     "text": [
      "(101054, 13)\n"
     ]
    }
   ],
   "source": [
    "touch = pd.DataFrame(touch_list)\n",
    "print touch.shape\n",
    "touch = touch.drop_duplicates()"
   ]
  },
  {
   "cell_type": "code",
   "execution_count": 47,
   "metadata": {},
   "outputs": [],
   "source": [
    "touch.to_csv(out_path+'990622_touchevent.csv',sep=',',header = False)"
   ]
  },
  {
   "cell_type": "code",
   "execution_count": null,
   "metadata": {},
   "outputs": [],
   "source": []
  }
 ],
 "metadata": {
  "kernelspec": {
   "display_name": "Python 2",
   "language": "python",
   "name": "python2"
  },
  "language_info": {
   "codemirror_mode": {
    "name": "ipython",
    "version": 2
   },
   "file_extension": ".py",
   "mimetype": "text/x-python",
   "name": "python",
   "nbconvert_exporter": "python",
   "pygments_lexer": "ipython2",
   "version": "2.7.15rc1"
  }
 },
 "nbformat": 4,
 "nbformat_minor": 2
}
