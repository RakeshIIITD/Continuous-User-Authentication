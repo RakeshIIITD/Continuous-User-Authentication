{
 "cells": [
  {
   "cell_type": "code",
   "execution_count": 1,
   "metadata": {},
   "outputs": [
    {
     "data": {
      "application/javascript": [
       "IPython.notebook.set_autosave_interval(60000)"
      ]
     },
     "metadata": {},
     "output_type": "display_data"
    },
    {
     "name": "stdout",
     "output_type": "stream",
     "text": [
      "Autosaving every 60 seconds\n"
     ]
    }
   ],
   "source": [
    "import glob\n",
    "import pandas as pd\n",
    "from collections import Counter\n",
    "from matplotlib import pyplot as plt\n",
    "import numpy as np\n",
    "from itertools import chain \n",
    "from IPython.display import clear_output\n",
    "from ipywidgets import widgets\n",
    "from IPython.display import display\n",
    "from sklearn.model_selection import train_test_split\n",
    "import os\n",
    "from sklearn.neural_network import MLPClassifier\n",
    "import numpy as np\n",
    "import scipy\n",
    "%autosave 60"
   ]
  },
  {
   "cell_type": "code",
   "execution_count": 2,
   "metadata": {},
   "outputs": [],
   "source": [
    "#display(text)\n",
    "output = None"
   ]
  },
  {
   "cell_type": "code",
   "execution_count": 3,
   "metadata": {},
   "outputs": [],
   "source": [
    "def progress(count,total):\n",
    "        global output\n",
    "        \n",
    "        #display(widgets.IntSlider())\n",
    "        #text = widgets.Text()\n",
    "\n",
    "        with output:\n",
    "            print \"{0:.2f}\".format(count*100.0/total)+\" %\"\n",
    "            print '|'+'='*int(count*100.0/total)+'>'+'.'*(100-int(count*100.0/total))+'|'\n",
    "        with output:\n",
    "            clear_output(wait=True)"
   ]
  },
  {
   "cell_type": "code",
   "execution_count": 4,
   "metadata": {
    "scrolled": true
   },
   "outputs": [],
   "source": [
    "# plt.plot(k.values())\n",
    "# plt.title(\"Accel readings in t sec time diff\")\n",
    "# plt.show()"
   ]
  },
  {
   "cell_type": "markdown",
   "metadata": {},
   "source": [
    "##  DATA PREPROCESSING"
   ]
  },
  {
   "cell_type": "code",
   "execution_count": 5,
   "metadata": {},
   "outputs": [],
   "source": [
    "path = '/home/rakesh/Desktop/zCap/public_dataset/HMOG/'#100669/'\n",
    "out_path2 = '/home/rakesh/OUTPUT100_21/'"
   ]
  },
  {
   "cell_type": "code",
   "execution_count": 6,
   "metadata": {},
   "outputs": [],
   "source": [
    "def extract(d):\n",
    "    \n",
    "    '''\n",
    "    'x_min_acc','x_max_acc','x_mean_acc',\n",
    "           'y_min_acc','y_max_acc','y_mean_acc',\n",
    "           'z_min_acc','z_max_acc','z_mean_acc',\n",
    "           'orient_acc_mode'\n",
    "    '''\n",
    "    \n",
    "    x0,x1,x2 = d[0].min(),d[0].max(),d[0].mean()       \n",
    "    x3,x4,x5 = d[1].min(),d[1].max(),d[1].mean()\n",
    "    x6,x7,x8 = d[2].min(),d[2].max(),d[2].mean()\n",
    "    x9 = d[3].mode()[0]\n",
    "    l = [x0,x1,x2,x3,x4,x5,x6,x7,x8,x9]\n",
    "    \n",
    "    return [float(i) for i in l]"
   ]
  },
  {
   "cell_type": "code",
   "execution_count": 7,
   "metadata": {},
   "outputs": [],
   "source": [
    "def extract_touch(df):\n",
    "    '''\n",
    "    INPUT\n",
    "    0 = pointercount, 1 = actionID, 2 = X , 3 = Y , 4 = pressure , 5 = contact_size, 6 = phone_orient,\n",
    "    7 = gesture_id , 8 = taskid\n",
    "    '''\n",
    "    \n",
    "    x0,x1 = df[0].mode()[0], df[1].mode()[0]    ## pointer count, action\n",
    "    x2,x3,x4 = df[2].mean(),df[2].max(),df[2].min()      # x-axis\n",
    "    x5,x6,x7 = df[3].mean(), df[3].max(), df[3].min()  # y-axis\n",
    "    x8 = df[4].mean()                ## pressure\n",
    "    x9 = df[6].mode()[0]                ##phone orientation   \n",
    "    x10 = df[7].mode()[0]                         # gesture\n",
    "    x11 = df[8].mode()[0]                 # task\n",
    "    #x13 = len(df)\n",
    "    tuple_list = [x0,x1,x2,x3,x4,x5,x6,x7,x8,x9,x10,x11]\n",
    "    \n",
    "    return tuple_list\n",
    "    "
   ]
  },
  {
   "cell_type": "code",
   "execution_count": 8,
   "metadata": {},
   "outputs": [],
   "source": [
    "def concat(path,filter_file,idx):\n",
    "    print filter_file\n",
    "    df = None\n",
    "    l = []\n",
    "    \n",
    "    for session in glob.glob(path+'*'):\n",
    "        \n",
    "        for f in glob.glob(session+'/*'):\n",
    "        \n",
    "            if f.split('/')[-1]==filter_file:\n",
    "                df = pd.read_csv(f,header=None)\n",
    "                l.append(df)\n",
    "    df = pd.concat(l)\n",
    "    df[df.shape[1]] = pd.Series( [idx for _ in range(len(df))], index=df.index)\n",
    "    return df.sort_values(by=[0]) ## sort by absolute timestamp"
   ]
  },
  {
   "cell_type": "code",
   "execution_count": 9,
   "metadata": {},
   "outputs": [],
   "source": [
    "def process_acc_gyro(df,gap):\n",
    "    \n",
    "    start = df.iloc[0][0]\n",
    "    db_gyro = []\n",
    "    db_acc = []\n",
    "    db_touch =[]\n",
    "    count2=0\n",
    "    tmp_touch = []\n",
    "    tmp_gyro = []\n",
    "    tmp_acc = []\n",
    "    count = 0\n",
    "    lengthDF = len(df)\n",
    "    \n",
    "    for index in range(0,lengthDF):\n",
    "\n",
    "        if index%10000==0:\n",
    "            progress(index,lengthDF)\n",
    "            #print \"{:.2f} and {}\".format((index*1.0)/lengthDF,index),\"|\",\n",
    "\n",
    "        row = df.iloc[index].tolist()\n",
    "\n",
    "        cur_time = row[0]\n",
    "        #print row \n",
    "        #break\n",
    "        if cur_time<start:\n",
    "            print \"Yes\"\n",
    "        \n",
    "        if cur_time>=start and cur_time<= start+gap:\n",
    "            count+=1\n",
    "            if row[11]==99999:\n",
    "                tmp_touch.append([row[3]]+row[5:11]+[row[12],row[13]])\n",
    "                #print tmp_touch\n",
    "                #break\n",
    "            if row[7]==0:                      # acc\n",
    "                tmp_acc.append(row[3:7])\n",
    "\n",
    "            if row[7]==1:                      # gyro\n",
    "                tmp_gyro.append(row[3:7])\n",
    "\n",
    "\n",
    "        else:\n",
    "            start = cur_time\n",
    "\n",
    "            count+=1\n",
    "\n",
    "            if len(tmp_acc)!=0:            ## ACC\n",
    "                d = pd.DataFrame(tmp_acc)\n",
    "                db_acc.append(extract(d))\n",
    "            else:\n",
    "                db_acc.append([])\n",
    "\n",
    "\n",
    "\n",
    "            if len(tmp_gyro)!=0:                ## GYRO\n",
    "                d = pd.DataFrame(tmp_gyro)\n",
    "\n",
    "                db_gyro.append(extract(d))\n",
    "            else:\n",
    "                db_gyro.append([])\n",
    "                \n",
    "            if len(tmp_touch)!=0:            ## TOUCH\n",
    "                d = pd.DataFrame(tmp_touch)\n",
    "                db_touch.append(extract_touch(d))\n",
    "            else:\n",
    "                if len(db_touch)==0:\n",
    "                    count2+=1\n",
    "                    db_touch.append([])\n",
    "                    \n",
    "                else:\n",
    "                    db_touch.append(db_touch[-1]) ## donot make empty\n",
    "\n",
    "\n",
    "            tmp_gyro = []\n",
    "            tmp_acc = []\n",
    "            tmp_touch =[]\n",
    "\n",
    "            if row[7]==0:                      # acc\n",
    "                tmp_acc.append(row[3:7])\n",
    "\n",
    "            if row[7]==1:                      # gyro\n",
    "                tmp_gyro.append(row[3:7])\n",
    "            \n",
    "            if row[11]==99999:\n",
    "                tmp_touch.append([row[3]]+row[5:11]+[row[12],row[13]])\n",
    "            #if tmp.append(row[1:])\n",
    "\n",
    "    print count \n",
    "    print \"Touch List empty : \"+str(count2)\n",
    "    return db_acc,db_gyro,db_touch"
   ]
  },
  {
   "cell_type": "code",
   "execution_count": 10,
   "metadata": {},
   "outputs": [
    {
     "name": "stdout",
     "output_type": "stream",
     "text": [
      "User 803262\n",
      "Accelerometer.csv\n",
      "Gyroscope.csv\n",
      "TouchEvent.csv\n",
      "Activity.csv\n",
      "miss ; 2644\n"
     ]
    },
    {
     "data": {
      "application/vnd.jupyter.widget-view+json": {
       "model_id": "a8a59f635d814a3b972b52291e3e9257",
       "version_major": 2,
       "version_minor": 0
      },
      "text/plain": [
       "Output()"
      ]
     },
     "metadata": {},
     "output_type": "display_data"
    },
    {
     "name": "stdout",
     "output_type": "stream",
     "text": [
      "3208227\n",
      "Touch List empty : 1\n",
      "(144837, 10)\n",
      "(144837, 10)\n",
      "(144837, 12)\n",
      "(144837, 32)\n",
      "Saving... 803262\n",
      "User 990622\n",
      "Accelerometer.csv\n",
      "Gyroscope.csv\n",
      "TouchEvent.csv\n",
      "Activity.csv\n",
      "miss ; 1050\n"
     ]
    },
    {
     "data": {
      "application/vnd.jupyter.widget-view+json": {
       "model_id": "6fb6541f81b3414692285598f0e58468",
       "version_major": 2,
       "version_minor": 0
      },
      "text/plain": [
       "Output()"
      ]
     },
     "metadata": {},
     "output_type": "display_data"
    },
    {
     "name": "stdout",
     "output_type": "stream",
     "text": [
      "2353207\n",
      "Touch List empty : 1\n",
      "(104480, 10)\n",
      "(104480, 10)\n",
      "(104480, 12)\n",
      "(104480, 32)\n",
      "Saving... 990622\n",
      "User 472761\n",
      "Accelerometer.csv\n",
      "Gyroscope.csv\n",
      "TouchEvent.csv\n",
      "Activity.csv\n",
      "miss ; 521\n"
     ]
    },
    {
     "data": {
      "application/vnd.jupyter.widget-view+json": {
       "model_id": "d44b5b5909a7480987903dea0ad736e2",
       "version_major": 2,
       "version_minor": 0
      },
      "text/plain": [
       "Output()"
      ]
     },
     "metadata": {},
     "output_type": "display_data"
    },
    {
     "name": "stdout",
     "output_type": "stream",
     "text": [
      "2398278\n",
      "Touch List empty : 1\n",
      "(109997, 10)\n",
      "(109997, 10)\n",
      "(109997, 12)\n",
      "(109997, 32)\n",
      "Saving... 472761\n",
      "User 556357\n",
      "Accelerometer.csv\n",
      "Gyroscope.csv\n",
      "TouchEvent.csv\n",
      "Activity.csv\n",
      "miss ; 470\n"
     ]
    },
    {
     "data": {
      "application/vnd.jupyter.widget-view+json": {
       "model_id": "779d6d8a6050404fad8c7d86d25525ae",
       "version_major": 2,
       "version_minor": 0
      },
      "text/plain": [
       "Output()"
      ]
     },
     "metadata": {},
     "output_type": "display_data"
    },
    {
     "name": "stdout",
     "output_type": "stream",
     "text": [
      "1641215\n",
      "Touch List empty : 1\n",
      "(74194, 10)\n",
      "(74194, 10)\n",
      "(74194, 12)\n",
      "(74194, 32)\n",
      "Saving... 556357\n",
      "User 489146\n",
      "Accelerometer.csv\n",
      "Gyroscope.csv\n",
      "TouchEvent.csv\n",
      "Activity.csv\n",
      "miss ; 1118\n"
     ]
    },
    {
     "data": {
      "application/vnd.jupyter.widget-view+json": {
       "model_id": "01826612be76468fa61350311d29b131",
       "version_major": 2,
       "version_minor": 0
      },
      "text/plain": [
       "Output()"
      ]
     },
     "metadata": {},
     "output_type": "display_data"
    },
    {
     "name": "stdout",
     "output_type": "stream",
     "text": [
      "2846959\n",
      "Touch List empty : 1\n",
      "(130689, 10)\n",
      "(130689, 10)\n",
      "(130689, 12)\n",
      "(130689, 32)\n",
      "Saving... 489146\n",
      "User 751131\n",
      "Accelerometer.csv\n",
      "Gyroscope.csv\n",
      "TouchEvent.csv\n",
      "Activity.csv\n",
      "miss ; 2600\n"
     ]
    },
    {
     "data": {
      "application/vnd.jupyter.widget-view+json": {
       "model_id": "2eeccce10e214f84a8d85864e60f1a83",
       "version_major": 2,
       "version_minor": 0
      },
      "text/plain": [
       "Output()"
      ]
     },
     "metadata": {},
     "output_type": "display_data"
    },
    {
     "name": "stdout",
     "output_type": "stream",
     "text": [
      "2618491\n",
      "Touch List empty : 1\n",
      "(116854, 10)\n",
      "(116854, 10)\n",
      "(116854, 12)\n",
      "(116854, 32)\n",
      "Saving... 751131\n",
      "User 368258\n",
      "Accelerometer.csv\n",
      "Gyroscope.csv\n",
      "TouchEvent.csv\n",
      "Activity.csv\n",
      "miss ; 644\n"
     ]
    },
    {
     "data": {
      "application/vnd.jupyter.widget-view+json": {
       "model_id": "db7bdd4f98b540c29ea48c160d846751",
       "version_major": 2,
       "version_minor": 0
      },
      "text/plain": [
       "Output()"
      ]
     },
     "metadata": {},
     "output_type": "display_data"
    },
    {
     "name": "stdout",
     "output_type": "stream",
     "text": [
      "2960182\n",
      "Touch List empty : 1\n",
      "(135375, 10)\n",
      "(135375, 10)\n",
      "(135375, 12)\n",
      "(135375, 32)\n",
      "Saving... 368258\n",
      "User 986737\n",
      "Accelerometer.csv\n",
      "Gyroscope.csv\n",
      "TouchEvent.csv\n",
      "Activity.csv\n",
      "miss ; 1580\n"
     ]
    },
    {
     "data": {
      "application/vnd.jupyter.widget-view+json": {
       "model_id": "5c7e12db70e545d89bf61240cd50f385",
       "version_major": 2,
       "version_minor": 0
      },
      "text/plain": [
       "Output()"
      ]
     },
     "metadata": {},
     "output_type": "display_data"
    },
    {
     "name": "stdout",
     "output_type": "stream",
     "text": [
      "1550570\n",
      "Touch List empty : 1\n",
      "(70167, 10)\n",
      "(70167, 10)\n",
      "(70167, 12)\n",
      "(70167, 32)\n",
      "Saving... 986737\n",
      "User 862649\n",
      "Accelerometer.csv\n",
      "Gyroscope.csv\n",
      "TouchEvent.csv\n",
      "Activity.csv\n",
      "miss ; 1570\n"
     ]
    },
    {
     "data": {
      "application/vnd.jupyter.widget-view+json": {
       "model_id": "cfb0dc13cc6a41b1bb086eeeccaa5696",
       "version_major": 2,
       "version_minor": 0
      },
      "text/plain": [
       "Output()"
      ]
     },
     "metadata": {},
     "output_type": "display_data"
    },
    {
     "name": "stdout",
     "output_type": "stream",
     "text": [
      "2412688\n",
      "Touch List empty : 1\n",
      "(110937, 10)\n",
      "(110937, 10)\n",
      "(110937, 12)\n",
      "(110937, 32)\n",
      "Saving... 862649\n",
      "User 962159\n",
      "Accelerometer.csv\n",
      "Gyroscope.csv\n",
      "TouchEvent.csv\n",
      "Activity.csv\n",
      "miss ; 407\n"
     ]
    },
    {
     "data": {
      "application/vnd.jupyter.widget-view+json": {
       "model_id": "6b0c397db45b47ea87b0644204aa14ba",
       "version_major": 2,
       "version_minor": 0
      },
      "text/plain": [
       "Output()"
      ]
     },
     "metadata": {},
     "output_type": "display_data"
    },
    {
     "name": "stdout",
     "output_type": "stream",
     "text": [
      "1605256\n",
      "Touch List empty : 1\n",
      "(73941, 10)\n",
      "(73941, 10)\n",
      "(73941, 12)\n",
      "(73941, 32)\n",
      "Saving... 962159\n",
      "User 553321\n",
      "Accelerometer.csv\n",
      "Gyroscope.csv\n",
      "TouchEvent.csv\n",
      "Activity.csv\n",
      "miss ; 1942\n"
     ]
    },
    {
     "data": {
      "application/vnd.jupyter.widget-view+json": {
       "model_id": "f83c53eba679432ea51d763b6a3fc651",
       "version_major": 2,
       "version_minor": 0
      },
      "text/plain": [
       "Output()"
      ]
     },
     "metadata": {},
     "output_type": "display_data"
    },
    {
     "name": "stdout",
     "output_type": "stream",
     "text": [
      "2792500\n",
      "Touch List empty : 1\n",
      "(123584, 10)\n",
      "(123584, 10)\n",
      "(123584, 12)\n",
      "(123584, 32)\n",
      "Saving... 553321\n",
      "User 100669\n",
      "Accelerometer.csv\n",
      "Gyroscope.csv\n",
      "TouchEvent.csv\n",
      "Activity.csv\n",
      "miss ; 4409\n"
     ]
    },
    {
     "data": {
      "application/vnd.jupyter.widget-view+json": {
       "model_id": "d248360a9d954883ba75d16413bcdab2",
       "version_major": 2,
       "version_minor": 0
      },
      "text/plain": [
       "Output()"
      ]
     },
     "metadata": {},
     "output_type": "display_data"
    },
    {
     "name": "stdout",
     "output_type": "stream",
     "text": [
      "User 186676\n",
      "Accelerometer.csv\n",
      "Gyroscope.csv\n",
      "TouchEvent.csv\n",
      "Activity.csv\n",
      "miss ; 1479\n"
     ]
    },
    {
     "data": {
      "application/vnd.jupyter.widget-view+json": {
       "model_id": "76d391f8195c4a3f96e9b92822ec7493",
       "version_major": 2,
       "version_minor": 0
      },
      "text/plain": [
       "Output()"
      ]
     },
     "metadata": {},
     "output_type": "display_data"
    },
    {
     "name": "stdout",
     "output_type": "stream",
     "text": [
      "2756184\n",
      "Touch List empty : 1\n",
      "(127131, 10)\n",
      "(127131, 10)\n",
      "(127131, 12)\n",
      "(127131, 32)\n",
      "Saving... 186676\n",
      "User 856401\n",
      "Accelerometer.csv\n",
      "Gyroscope.csv\n",
      "TouchEvent.csv\n",
      "Activity.csv\n",
      "miss ; 2250\n"
     ]
    },
    {
     "data": {
      "application/vnd.jupyter.widget-view+json": {
       "model_id": "00a0d29e8828497c86749e37c293b8b0",
       "version_major": 2,
       "version_minor": 0
      },
      "text/plain": [
       "Output()"
      ]
     },
     "metadata": {},
     "output_type": "display_data"
    },
    {
     "name": "stdout",
     "output_type": "stream",
     "text": [
      "4209726\n",
      "Touch List empty : 1\n",
      "(193257, 10)\n",
      "(193257, 10)\n",
      "(193257, 12)\n",
      "(193257, 32)\n",
      "Saving... 856401\n",
      "User 207969\n",
      "Accelerometer.csv\n",
      "Gyroscope.csv\n",
      "TouchEvent.csv\n",
      "Activity.csv\n",
      "miss ; 978\n"
     ]
    },
    {
     "data": {
      "application/vnd.jupyter.widget-view+json": {
       "model_id": "5a778f3a2a3d4148a54dbe58dc459815",
       "version_major": 2,
       "version_minor": 0
      },
      "text/plain": [
       "Output()"
      ]
     },
     "metadata": {},
     "output_type": "display_data"
    },
    {
     "name": "stdout",
     "output_type": "stream",
     "text": [
      "2999972\n",
      "Touch List empty : 1\n",
      "(136968, 10)\n",
      "(136968, 10)\n",
      "(136968, 12)\n",
      "(136968, 32)\n",
      "Saving... 207969\n",
      "User 220962\n",
      "Accelerometer.csv\n",
      "Gyroscope.csv\n",
      "TouchEvent.csv\n",
      "Activity.csv\n",
      "miss ; 318\n"
     ]
    },
    {
     "data": {
      "application/vnd.jupyter.widget-view+json": {
       "model_id": "8eefd9c3e1a44f6ab66a6e93a84e563e",
       "version_major": 2,
       "version_minor": 0
      },
      "text/plain": [
       "Output()"
      ]
     },
     "metadata": {},
     "output_type": "display_data"
    },
    {
     "name": "stdout",
     "output_type": "stream",
     "text": [
      "User 396697\n",
      "Accelerometer.csv\n",
      "Gyroscope.csv\n",
      "TouchEvent.csv\n",
      "Activity.csv\n",
      "miss ; 1169\n"
     ]
    },
    {
     "data": {
      "application/vnd.jupyter.widget-view+json": {
       "model_id": "71e2fa53f00d49cc9d49c4950269c977",
       "version_major": 2,
       "version_minor": 0
      },
      "text/plain": [
       "Output()"
      ]
     },
     "metadata": {},
     "output_type": "display_data"
    },
    {
     "name": "stdout",
     "output_type": "stream",
     "text": [
      "User 395129\n",
      "Accelerometer.csv\n",
      "Gyroscope.csv\n",
      "TouchEvent.csv\n",
      "Activity.csv\n",
      "miss ; 2471\n"
     ]
    },
    {
     "data": {
      "application/vnd.jupyter.widget-view+json": {
       "model_id": "abddd58e88a6441bb9ec688be9ac9ba3",
       "version_major": 2,
       "version_minor": 0
      },
      "text/plain": [
       "Output()"
      ]
     },
     "metadata": {},
     "output_type": "display_data"
    },
    {
     "name": "stdout",
     "output_type": "stream",
     "text": [
      "2279115\n",
      "Touch List empty : 1\n",
      "(103060, 10)\n",
      "(103060, 10)\n",
      "(103060, 12)\n",
      "(103060, 32)\n",
      "Saving... 395129\n",
      "User 336172\n",
      "Accelerometer.csv\n",
      "Gyroscope.csv\n",
      "TouchEvent.csv\n",
      "Activity.csv\n",
      "miss ; 1180\n"
     ]
    },
    {
     "data": {
      "application/vnd.jupyter.widget-view+json": {
       "model_id": "7004e6d43bf7481193745d613d00836c",
       "version_major": 2,
       "version_minor": 0
      },
      "text/plain": [
       "Output()"
      ]
     },
     "metadata": {},
     "output_type": "display_data"
    },
    {
     "name": "stdout",
     "output_type": "stream",
     "text": [
      "User 865881\n",
      "Accelerometer.csv\n",
      "Gyroscope.csv\n",
      "TouchEvent.csv\n",
      "Activity.csv\n",
      "miss ; 1370\n"
     ]
    },
    {
     "data": {
      "application/vnd.jupyter.widget-view+json": {
       "model_id": "f8f428ae9b0847bab9d0e97193dcbdc7",
       "version_major": 2,
       "version_minor": 0
      },
      "text/plain": [
       "Output()"
      ]
     },
     "metadata": {},
     "output_type": "display_data"
    },
    {
     "name": "stdout",
     "output_type": "stream",
     "text": [
      "2620153\n",
      "Touch List empty : 1\n",
      "(120510, 10)\n",
      "(120510, 10)\n",
      "(120510, 12)\n",
      "(120510, 32)\n",
      "Saving... 865881\n",
      "User 218719\n",
      "Accelerometer.csv\n",
      "Gyroscope.csv\n",
      "TouchEvent.csv\n",
      "Activity.csv\n",
      "miss ; 999\n"
     ]
    },
    {
     "data": {
      "application/vnd.jupyter.widget-view+json": {
       "model_id": "2d99671667114ed094c4d65ea906e36b",
       "version_major": 2,
       "version_minor": 0
      },
      "text/plain": [
       "Output()"
      ]
     },
     "metadata": {},
     "output_type": "display_data"
    },
    {
     "name": "stdout",
     "output_type": "stream",
     "text": [
      "User 785899\n",
      "Accelerometer.csv\n",
      "Gyroscope.csv\n",
      "TouchEvent.csv\n",
      "Activity.csv\n"
     ]
    },
    {
     "ename": "KeyboardInterrupt",
     "evalue": "",
     "output_type": "error",
     "traceback": [
      "\u001b[0;31m---------------------------------------------------------------------------\u001b[0m",
      "\u001b[0;31mKeyboardInterrupt\u001b[0m                         Traceback (most recent call last)",
      "\u001b[0;32m<ipython-input-10-380c9fce92f1>\u001b[0m in \u001b[0;36m<module>\u001b[0;34m()\u001b[0m\n\u001b[1;32m     71\u001b[0m         \u001b[0macc_gyro\u001b[0m\u001b[0;34m.\u001b[0m\u001b[0mto_csv\u001b[0m\u001b[0;34m(\u001b[0m\u001b[0mout_path\u001b[0m\u001b[0;34m+\u001b[0m\u001b[0mstr\u001b[0m\u001b[0;34m(\u001b[0m\u001b[0muser_id\u001b[0m\u001b[0;34m)\u001b[0m\u001b[0;34m+\u001b[0m\u001b[0;34m'_all.csv'\u001b[0m\u001b[0;34m,\u001b[0m\u001b[0msep\u001b[0m \u001b[0;34m=\u001b[0m \u001b[0;34m','\u001b[0m\u001b[0;34m,\u001b[0m\u001b[0mheader\u001b[0m\u001b[0;34m=\u001b[0m\u001b[0mFalse\u001b[0m\u001b[0;34m)\u001b[0m\u001b[0;34m\u001b[0m\u001b[0m\n\u001b[1;32m     72\u001b[0m \u001b[0;34m\u001b[0m\u001b[0m\n\u001b[0;32m---> 73\u001b[0;31m \u001b[0mconstruct\u001b[0m\u001b[0;34m(\u001b[0m\u001b[0mpath\u001b[0m\u001b[0;34m,\u001b[0m\u001b[0mout_path2\u001b[0m\u001b[0;34m,\u001b[0m\u001b[0mgap\u001b[0m\u001b[0;34m=\u001b[0m\u001b[0;36m100\u001b[0m\u001b[0;34m)\u001b[0m\u001b[0;34m\u001b[0m\u001b[0m\n\u001b[0m\u001b[1;32m     74\u001b[0m \u001b[0;31m#construct(path,'/home/rakesh/OUTPUT/',gap=10)\u001b[0m\u001b[0;34m\u001b[0m\u001b[0;34m\u001b[0m\u001b[0m\n\u001b[1;32m     75\u001b[0m \u001b[0;31m#os.system('shutdown -s')\u001b[0m\u001b[0;34m\u001b[0m\u001b[0;34m\u001b[0m\u001b[0m\n",
      "\u001b[0;32m<ipython-input-10-380c9fce92f1>\u001b[0m in \u001b[0;36mconstruct\u001b[0;34m(path, out_path, gap)\u001b[0m\n\u001b[1;32m     33\u001b[0m         \u001b[0mcount\u001b[0m \u001b[0;34m=\u001b[0m\u001b[0;36m0\u001b[0m\u001b[0;34m\u001b[0m\u001b[0m\n\u001b[1;32m     34\u001b[0m         \u001b[0;32mfor\u001b[0m \u001b[0mid_\u001b[0m \u001b[0;32min\u001b[0m \u001b[0mrange\u001b[0m\u001b[0;34m(\u001b[0m\u001b[0mlen\u001b[0m\u001b[0;34m(\u001b[0m\u001b[0mtouch\u001b[0m\u001b[0;34m)\u001b[0m\u001b[0;34m)\u001b[0m\u001b[0;34m:\u001b[0m\u001b[0;34m\u001b[0m\u001b[0m\n\u001b[0;32m---> 35\u001b[0;31m             \u001b[0mact_id\u001b[0m \u001b[0;34m=\u001b[0m \u001b[0mtouch\u001b[0m\u001b[0;34m.\u001b[0m\u001b[0miloc\u001b[0m\u001b[0;34m[\u001b[0m\u001b[0mid_\u001b[0m\u001b[0;34m]\u001b[0m\u001b[0;34m[\u001b[0m\u001b[0;36m2\u001b[0m\u001b[0;34m]\u001b[0m\u001b[0;34m\u001b[0m\u001b[0m\n\u001b[0m\u001b[1;32m     36\u001b[0m             \u001b[0;32mtry\u001b[0m\u001b[0;34m:\u001b[0m\u001b[0;34m\u001b[0m\u001b[0m\n\u001b[1;32m     37\u001b[0m                 \u001b[0mgesture_7\u001b[0m\u001b[0;34m.\u001b[0m\u001b[0mappend\u001b[0m\u001b[0;34m(\u001b[0m\u001b[0mactivity\u001b[0m\u001b[0;34m.\u001b[0m\u001b[0mloc\u001b[0m\u001b[0;34m[\u001b[0m\u001b[0mact_id\u001b[0m\u001b[0;34m]\u001b[0m\u001b[0;34m[\u001b[0m\u001b[0;36m7\u001b[0m\u001b[0;34m]\u001b[0m\u001b[0;34m)\u001b[0m\u001b[0;34m\u001b[0m\u001b[0m\n",
      "\u001b[0;32m/usr/local/lib/python2.7/dist-packages/pandas/core/indexing.pyc\u001b[0m in \u001b[0;36m__getitem__\u001b[0;34m(self, key)\u001b[0m\n\u001b[1;32m   1498\u001b[0m \u001b[0;34m\u001b[0m\u001b[0m\n\u001b[1;32m   1499\u001b[0m             \u001b[0mmaybe_callable\u001b[0m \u001b[0;34m=\u001b[0m \u001b[0mcom\u001b[0m\u001b[0;34m.\u001b[0m\u001b[0mapply_if_callable\u001b[0m\u001b[0;34m(\u001b[0m\u001b[0mkey\u001b[0m\u001b[0;34m,\u001b[0m \u001b[0mself\u001b[0m\u001b[0;34m.\u001b[0m\u001b[0mobj\u001b[0m\u001b[0;34m)\u001b[0m\u001b[0;34m\u001b[0m\u001b[0m\n\u001b[0;32m-> 1500\u001b[0;31m             \u001b[0;32mreturn\u001b[0m \u001b[0mself\u001b[0m\u001b[0;34m.\u001b[0m\u001b[0m_getitem_axis\u001b[0m\u001b[0;34m(\u001b[0m\u001b[0mmaybe_callable\u001b[0m\u001b[0;34m,\u001b[0m \u001b[0maxis\u001b[0m\u001b[0;34m=\u001b[0m\u001b[0maxis\u001b[0m\u001b[0;34m)\u001b[0m\u001b[0;34m\u001b[0m\u001b[0m\n\u001b[0m\u001b[1;32m   1501\u001b[0m \u001b[0;34m\u001b[0m\u001b[0m\n\u001b[1;32m   1502\u001b[0m     \u001b[0;32mdef\u001b[0m \u001b[0m_is_scalar_access\u001b[0m\u001b[0;34m(\u001b[0m\u001b[0mself\u001b[0m\u001b[0;34m,\u001b[0m \u001b[0mkey\u001b[0m\u001b[0;34m)\u001b[0m\u001b[0;34m:\u001b[0m\u001b[0;34m\u001b[0m\u001b[0m\n",
      "\u001b[0;32m/usr/local/lib/python2.7/dist-packages/pandas/core/indexing.pyc\u001b[0m in \u001b[0;36m_getitem_axis\u001b[0;34m(self, key, axis)\u001b[0m\n\u001b[1;32m   2213\u001b[0m             \u001b[0mkey\u001b[0m \u001b[0;34m=\u001b[0m \u001b[0mnp\u001b[0m\u001b[0;34m.\u001b[0m\u001b[0masarray\u001b[0m\u001b[0;34m(\u001b[0m\u001b[0mkey\u001b[0m\u001b[0;34m)\u001b[0m\u001b[0;34m\u001b[0m\u001b[0m\n\u001b[1;32m   2214\u001b[0m \u001b[0;34m\u001b[0m\u001b[0m\n\u001b[0;32m-> 2215\u001b[0;31m         \u001b[0;32mif\u001b[0m \u001b[0mcom\u001b[0m\u001b[0;34m.\u001b[0m\u001b[0mis_bool_indexer\u001b[0m\u001b[0;34m(\u001b[0m\u001b[0mkey\u001b[0m\u001b[0;34m)\u001b[0m\u001b[0;34m:\u001b[0m\u001b[0;34m\u001b[0m\u001b[0m\n\u001b[0m\u001b[1;32m   2216\u001b[0m             \u001b[0mself\u001b[0m\u001b[0;34m.\u001b[0m\u001b[0m_validate_key\u001b[0m\u001b[0;34m(\u001b[0m\u001b[0mkey\u001b[0m\u001b[0;34m,\u001b[0m \u001b[0maxis\u001b[0m\u001b[0;34m)\u001b[0m\u001b[0;34m\u001b[0m\u001b[0m\n\u001b[1;32m   2217\u001b[0m             \u001b[0;32mreturn\u001b[0m \u001b[0mself\u001b[0m\u001b[0;34m.\u001b[0m\u001b[0m_getbool_axis\u001b[0m\u001b[0;34m(\u001b[0m\u001b[0mkey\u001b[0m\u001b[0;34m,\u001b[0m \u001b[0maxis\u001b[0m\u001b[0;34m=\u001b[0m\u001b[0maxis\u001b[0m\u001b[0;34m)\u001b[0m\u001b[0;34m\u001b[0m\u001b[0m\n",
      "\u001b[0;32m/usr/local/lib/python2.7/dist-packages/pandas/core/common.pyc\u001b[0m in \u001b[0;36mis_bool_indexer\u001b[0;34m(key)\u001b[0m\n\u001b[1;32m    116\u001b[0m     \u001b[0mna_msg\u001b[0m \u001b[0;34m=\u001b[0m \u001b[0;34m'cannot index with vector containing NA / NaN values'\u001b[0m\u001b[0;34m\u001b[0m\u001b[0m\n\u001b[1;32m    117\u001b[0m     if (isinstance(key, (ABCSeries, np.ndarray, ABCIndex)) or\n\u001b[0;32m--> 118\u001b[0;31m             (is_array_like(key) and is_extension_array_dtype(key.dtype))):\n\u001b[0m\u001b[1;32m    119\u001b[0m         \u001b[0;32mif\u001b[0m \u001b[0mkey\u001b[0m\u001b[0;34m.\u001b[0m\u001b[0mdtype\u001b[0m \u001b[0;34m==\u001b[0m \u001b[0mnp\u001b[0m\u001b[0;34m.\u001b[0m\u001b[0mobject_\u001b[0m\u001b[0;34m:\u001b[0m\u001b[0;34m\u001b[0m\u001b[0m\n\u001b[1;32m    120\u001b[0m             \u001b[0mkey\u001b[0m \u001b[0;34m=\u001b[0m \u001b[0mnp\u001b[0m\u001b[0;34m.\u001b[0m\u001b[0masarray\u001b[0m\u001b[0;34m(\u001b[0m\u001b[0mvalues_from_object\u001b[0m\u001b[0;34m(\u001b[0m\u001b[0mkey\u001b[0m\u001b[0;34m)\u001b[0m\u001b[0;34m)\u001b[0m\u001b[0;34m\u001b[0m\u001b[0m\n",
      "\u001b[0;32m/usr/local/lib/python2.7/dist-packages/pandas/core/dtypes/inference.pyc\u001b[0m in \u001b[0;36mis_array_like\u001b[0;34m(obj)\u001b[0m\n\u001b[1;32m    332\u001b[0m     \"\"\"\n\u001b[1;32m    333\u001b[0m \u001b[0;34m\u001b[0m\u001b[0m\n\u001b[0;32m--> 334\u001b[0;31m     \u001b[0;32mreturn\u001b[0m \u001b[0mis_list_like\u001b[0m\u001b[0;34m(\u001b[0m\u001b[0mobj\u001b[0m\u001b[0;34m)\u001b[0m \u001b[0;32mand\u001b[0m \u001b[0mhasattr\u001b[0m\u001b[0;34m(\u001b[0m\u001b[0mobj\u001b[0m\u001b[0;34m,\u001b[0m \u001b[0;34m\"dtype\"\u001b[0m\u001b[0;34m)\u001b[0m\u001b[0;34m\u001b[0m\u001b[0m\n\u001b[0m\u001b[1;32m    335\u001b[0m \u001b[0;34m\u001b[0m\u001b[0m\n\u001b[1;32m    336\u001b[0m \u001b[0;34m\u001b[0m\u001b[0m\n",
      "\u001b[0;32m/usr/local/lib/python2.7/dist-packages/pandas/core/dtypes/inference.pyc\u001b[0m in \u001b[0;36mis_list_like\u001b[0;34m(obj, allow_sets)\u001b[0m\n\u001b[1;32m    291\u001b[0m     \"\"\"\n\u001b[1;32m    292\u001b[0m \u001b[0;34m\u001b[0m\u001b[0m\n\u001b[0;32m--> 293\u001b[0;31m     return (isinstance(obj, compat.Iterable)\n\u001b[0m\u001b[1;32m    294\u001b[0m             \u001b[0;31m# we do not count strings/unicode/bytes as list-like\u001b[0m\u001b[0;34m\u001b[0m\u001b[0;34m\u001b[0m\u001b[0m\n\u001b[1;32m    295\u001b[0m             \u001b[0;32mand\u001b[0m \u001b[0;32mnot\u001b[0m \u001b[0misinstance\u001b[0m\u001b[0;34m(\u001b[0m\u001b[0mobj\u001b[0m\u001b[0;34m,\u001b[0m \u001b[0mstring_and_binary_types\u001b[0m\u001b[0;34m)\u001b[0m\u001b[0;34m\u001b[0m\u001b[0m\n",
      "\u001b[0;32m/usr/lib/python2.7/abc.pyc\u001b[0m in \u001b[0;36m__instancecheck__\u001b[0;34m(cls, instance)\u001b[0m\n\u001b[1;32m    130\u001b[0m         \u001b[0;31m# Inline the cache checking when it's simple.\u001b[0m\u001b[0;34m\u001b[0m\u001b[0;34m\u001b[0m\u001b[0m\n\u001b[1;32m    131\u001b[0m         \u001b[0msubclass\u001b[0m \u001b[0;34m=\u001b[0m \u001b[0mgetattr\u001b[0m\u001b[0;34m(\u001b[0m\u001b[0minstance\u001b[0m\u001b[0;34m,\u001b[0m \u001b[0;34m'__class__'\u001b[0m\u001b[0;34m,\u001b[0m \u001b[0mNone\u001b[0m\u001b[0;34m)\u001b[0m\u001b[0;34m\u001b[0m\u001b[0m\n\u001b[0;32m--> 132\u001b[0;31m         \u001b[0;32mif\u001b[0m \u001b[0msubclass\u001b[0m \u001b[0;32mis\u001b[0m \u001b[0;32mnot\u001b[0m \u001b[0mNone\u001b[0m \u001b[0;32mand\u001b[0m \u001b[0msubclass\u001b[0m \u001b[0;32min\u001b[0m \u001b[0mcls\u001b[0m\u001b[0;34m.\u001b[0m\u001b[0m_abc_cache\u001b[0m\u001b[0;34m:\u001b[0m\u001b[0;34m\u001b[0m\u001b[0m\n\u001b[0m\u001b[1;32m    133\u001b[0m             \u001b[0;32mreturn\u001b[0m \u001b[0mTrue\u001b[0m\u001b[0;34m\u001b[0m\u001b[0m\n\u001b[1;32m    134\u001b[0m         \u001b[0msubtype\u001b[0m \u001b[0;34m=\u001b[0m \u001b[0mtype\u001b[0m\u001b[0;34m(\u001b[0m\u001b[0minstance\u001b[0m\u001b[0;34m)\u001b[0m\u001b[0;34m\u001b[0m\u001b[0m\n",
      "\u001b[0;31mKeyboardInterrupt\u001b[0m: "
     ]
    }
   ],
   "source": [
    "def construct(path,out_path,gap):\n",
    "    global output\n",
    "    for user in glob.glob(path+'*'):\n",
    "        user_id = user.split('/')[-1]\n",
    "        \n",
    "        if os.path.exists(out_path+str(user_id)+'_acc_gyro.csv'):\n",
    "            print str(user_id)+'_acc_gyro.csv',\"skipped\"\n",
    "            continue\n",
    "        \n",
    "        print \"User\",user_id\n",
    "        \n",
    "        acc = concat(user+'/','Accelerometer.csv',idx = 0)  \n",
    "        gyro = concat(user+'/','Gyroscope.csv',idx=1)\n",
    "        touch = concat(user+'/','TouchEvent.csv',idx=99999)\n",
    "        activity = concat(user+'/','Activity.csv',idx=88888).set_index(0)# ,inplace = True)\n",
    "        \n",
    "        # add activity with touch\n",
    "        gesture_7 = []\n",
    "        task_8 = []\n",
    "        '''\n",
    "        1, 7, 13, 19: Reading + Sitting\n",
    "        2, 8, 14, 20: Reading + Walking\n",
    "        3, 9, 15, 21: Writing + Sitting!\n",
    "        4, 10, 16, 22: Writing + Walking\n",
    "        5, 11, 17, 23: Map + Sitting\n",
    "        '''\n",
    "        task_map = {1:1,7:1,13:1,\n",
    "                    2:2,8:2,14:2,20:2,\n",
    "                    3:3,9:3,15:3,21:3,\n",
    "                    4:4,10:4,16:4,22:4,\n",
    "                    5:5,11:5,17:5,23:5,\n",
    "                    6:6, 12:6, 18:6, 24:6}\n",
    "        count =0\n",
    "        for id_ in range(len(touch)):\n",
    "            act_id = touch.iloc[id_][2]\n",
    "            try:\n",
    "                gesture_7.append(activity.loc[act_id][7])\n",
    "                task_8.append(task_map[activity.loc[act_id][8]])\n",
    "            except:\n",
    "                count+=1\n",
    "                gesture_7.append(np.NaN)\n",
    "                task_8.append(np.NaN)\n",
    "                \n",
    "        touch[12] = pd.Series( [i for i in gesture_7])\n",
    "        touch[13] = pd.Series( [i for i in task_8])\n",
    "        print \"miss ; \"+str(count)\n",
    "        touch = touch.dropna()\n",
    "        \n",
    "        df = pd.concat([acc, gyro,touch], axis=0).sort_values(by=[0]).reset_index(drop=True)\n",
    "        \n",
    "        output = widgets.Output()\n",
    "        display(output)\n",
    "        db_acc,db_gyro,db_touch = None,None,None\n",
    "        try:\n",
    "            db_acc,db_gyro,db_touch = process_acc_gyro(df,gap)\n",
    "        except:\n",
    "            continue\n",
    "        \n",
    "        X1 = pd.DataFrame(db_acc)\n",
    "        X2 = pd.DataFrame(db_gyro)\n",
    "        X3 = pd.DataFrame(db_touch)\n",
    "        \n",
    "        print X1.shape\n",
    "        print X2.shape\n",
    "        print X3.shape\n",
    "        acc_gyro = pd.concat([X1, X2,X3], axis=1)\n",
    "        \n",
    "        print acc_gyro.shape\n",
    "        print \"Saving...\",user_id\n",
    "        #return acc_gyro\n",
    "        acc_gyro.to_csv(out_path+str(user_id)+'_all.csv',sep = ',',header=False)\n",
    "\n",
    "construct(path,out_path2,gap=100)\n",
    "#construct(path,'/home/rakesh/OUTPUT/',gap=10)\n",
    "#os.system('shutdown -s')"
   ]
  },
  {
   "cell_type": "code",
   "execution_count": null,
   "metadata": {},
   "outputs": [],
   "source": [
    "t"
   ]
  },
  {
   "cell_type": "code",
   "execution_count": null,
   "metadata": {},
   "outputs": [],
   "source": [
    "t"
   ]
  },
  {
   "cell_type": "code",
   "execution_count": null,
   "metadata": {},
   "outputs": [],
   "source": [
    "#acc_gyro.to_csv('100669_acc_gyro.csv',sep = ',',header=False)"
   ]
  },
  {
   "cell_type": "code",
   "execution_count": null,
   "metadata": {},
   "outputs": [],
   "source": [
    "# df = df.interpolate()\n",
    "# df.shape"
   ]
  },
  {
   "cell_type": "code",
   "execution_count": null,
   "metadata": {},
   "outputs": [],
   "source": []
  },
  {
   "cell_type": "code",
   "execution_count": null,
   "metadata": {},
   "outputs": [],
   "source": [
    "#df.to_csv('100669.csv',sep = ',',header=False)"
   ]
  },
  {
   "cell_type": "markdown",
   "metadata": {},
   "source": [
    "##   TOuchEvent"
   ]
  },
  {
   "cell_type": "code",
   "execution_count": null,
   "metadata": {},
   "outputs": [],
   "source": [
    "path = '/home/rakesh/Desktop/zCap/public_dataset/HMOG/100669/'\n",
    "\n",
    "filter_file = 'TouchEvent.csv'"
   ]
  },
  {
   "cell_type": "code",
   "execution_count": null,
   "metadata": {},
   "outputs": [],
   "source": [
    "def concat(filter_file):\n",
    "    df = None\n",
    "    l = []\n",
    "    \n",
    "    for session in glob.glob(path+'*'):\n",
    "    \n",
    "        for f in glob.glob(session+'/*'):\n",
    "        \n",
    "            if f.split('/')[-1]==filter_file:\n",
    "                df = pd.read_csv(f,header=None)\n",
    "                l.append(df)\n",
    "    return pd.concat(l).sort_values(by=[0]) ## sort by absolute timestamp"
   ]
  },
  {
   "cell_type": "code",
   "execution_count": null,
   "metadata": {},
   "outputs": [],
   "source": [
    "mdf = concat(filter_file)"
   ]
  },
  {
   "cell_type": "code",
   "execution_count": null,
   "metadata": {},
   "outputs": [],
   "source": [
    "sum(Counter(mdf[2]).values())/113"
   ]
  },
  {
   "cell_type": "code",
   "execution_count": null,
   "metadata": {},
   "outputs": [],
   "source": [
    "#l1 = acc[2].tolist()+gyro[2].tolist()\n",
    "#sum(Counter(l1).values())/len(Counter(l1))"
   ]
  },
  {
   "cell_type": "code",
   "execution_count": null,
   "metadata": {},
   "outputs": [],
   "source": [
    "mdf = mdf.drop(columns=[1,2])"
   ]
  },
  {
   "cell_type": "code",
   "execution_count": null,
   "metadata": {},
   "outputs": [],
   "source": [
    "start = mdf.iloc[0][0]\n",
    "\n",
    "gap = 10       # gap of 10ms\n",
    "count = 0\n",
    "touch_list = []\n",
    "tmp = []\n",
    "length = len(mdf)\n",
    "\n",
    "output = widgets.Output()\n",
    "display(output)\n",
    "\n",
    "for index in range(0,length):\n",
    "    \n",
    "    if index%2000==0:\n",
    "        progress(index,length)\n",
    "        #print \"{:.2f} and {}\".format((index*1.0)/length,index),\"|\",\n",
    "    \n",
    "    \n",
    "    row = mdf.iloc[index].tolist()\n",
    "    count+=1\n",
    "    cur_time = row[0]\n",
    "    if cur_time<start:\n",
    "        print \"Yes\"\n",
    "    \n",
    "    if cur_time>=start and cur_time<= start+gap:\n",
    "        \n",
    "        tmp.append(row[1:])\n",
    "\n",
    "    else:\n",
    "        \n",
    "        start = cur_time\n",
    "        count+=1\n",
    "        if len(tmp)!=0:\n",
    "            \n",
    "            df = pd.DataFrame(tmp)\n",
    "            \n",
    "            x0,x1 = df[0].mode()[0], df[1].mode()[0]    ## pointer count, pointerid\n",
    "            x2,x3,x4 = df[3].mean(),df[3].max(),df[3].min()      # x-axis\n",
    "            x5,x6,x7 = df[4].mean(), df[4].max(), df[4].min()  # y-axis\n",
    "            x8,x9 = df[5].mean(),df[5].max()                ## pressure\n",
    "            x10,x11 = df[6].mean(),df[6].max()                ##contact size   \n",
    "            x12 = df[7].mode()[0]                         # phone orientation\n",
    "            #x13 = len(df)\n",
    "            tuple_list = [x0,x1,x2,x3,x4,x5,x6,x7,x8,x9,x10,x11,x12]\n",
    "            try:\n",
    "                tuple_list = [float(i) for i in tuple_list]\n",
    "            except:\n",
    "                print \"\\n\\n\",tuple_list\n",
    "                break\n",
    "            #print tuple_list\n",
    "            touch_list.append(tuple_list)\n",
    "        tmp = []\n",
    "        \n",
    "        tmp.append(row[1:])\n",
    "print count"
   ]
  },
  {
   "cell_type": "code",
   "execution_count": null,
   "metadata": {},
   "outputs": [],
   "source": [
    "touch = pd.DataFrame(touch_list)\n",
    "print touch.shape\n",
    "touch = touch.drop_duplicates()"
   ]
  },
  {
   "cell_type": "code",
   "execution_count": null,
   "metadata": {},
   "outputs": [],
   "source": [
    "touch"
   ]
  },
  {
   "cell_type": "markdown",
   "metadata": {},
   "source": [
    "## ===============  Merge Files ========================="
   ]
  },
  {
   "cell_type": "code",
   "execution_count": null,
   "metadata": {},
   "outputs": [],
   "source": [
    "input_path = '/home/rakesh/OUTPUT50/'\n",
    "files = 'all.csv'\n",
    "features = [\n",
    "            'x_min_acc','x_max_acc','x_mean_acc',    # 0,1,2\n",
    "           'y_min_acc','y_max_acc','y_mean_acc',     # 3,4,5\n",
    "           'z_min_acc','z_max_acc','z_mean_acc',     # 6,7,8\n",
    "           'orient_acc_mode',                        # 9\n",
    "           'x_min_gyro','x_max_gryo','x_mean_gryo',  # 10,11,12\n",
    "           'y_min_gryo','y_max_gryo','y_mean_gryo',  # 13,14,15\n",
    "           'z_min_gryo','z_max_gryo','z_mean_gryo',  # 16,17,18\n",
    "           'orient_gryo_mode',                       # 19\n",
    "            'pointercount mode','actionId mode',     # 20,21\n",
    "            'touch_x_mean','touch_x_max','touch_x_min', #22,23,24\n",
    "            'touch_y_mean','touch_y_max','touch_y_min', #25,26,27\n",
    "            'pressure_mean','phone_orien mode','gesture mode','task mode' # 28,29,30,31\n",
    "            ]\n",
    "drop = [10,11,12,16,17,18,28,20,13,14,15]"
   ]
  },
  {
   "cell_type": "code",
   "execution_count": null,
   "metadata": {},
   "outputs": [],
   "source": [
    "df1 = pd.read_csv(input_path+'803262_'+files ,header = None).drop(columns=[0]) ## drop index column\n",
    "df2 = pd.read_csv(input_path+'472761_'+files ,header = None).drop(columns=[0])\n",
    "df3 = pd.read_csv(input_path+'489146_'+files ,header = None).drop(columns=[0])\n",
    "df4 = pd.read_csv(input_path+'990622_'+files ,header = None).drop(columns=[0])\n",
    "df5 = pd.read_csv(input_path+'621276_'+files ,header = None).drop(columns=[0])\n",
    "df6 = pd.read_csv(input_path+'856401_'+files ,header = None).drop(columns=[0])"
   ]
  },
  {
   "cell_type": "code",
   "execution_count": null,
   "metadata": {},
   "outputs": [],
   "source": [
    "df1 = df1.drop(columns = drop)\n",
    "df2 = df2.drop(columns = drop)\n",
    "df3 = df3.drop(columns = drop)\n",
    "df4 = df4.drop(columns = drop)\n",
    "df5 = df5.drop(columns = drop)\n",
    "df6 = df6.drop(columns = drop)\n",
    "\n",
    "print \"df1\",df1.shape\n",
    "print \"df2\",df2.shape\n",
    "print \"df3\",df3.shape\n",
    "print \"df4\",df4.shape\n",
    "print \"df5\",df5.shape\n",
    "print \"df6\",df6.shape"
   ]
  },
  {
   "cell_type": "code",
   "execution_count": null,
   "metadata": {},
   "outputs": [],
   "source": [
    "print \"Gunuine dist\"\n",
    "p = df6.shape[0]/5\n",
    "p = p-(p%1000)\n",
    "p"
   ]
  },
  {
   "cell_type": "code",
   "execution_count": null,
   "metadata": {},
   "outputs": [],
   "source": [
    "df6 = df6.dropna()\n",
    "df1 = df1.dropna().iloc[0:p]\n",
    "df2 = df2.dropna().iloc[0:p]\n",
    "df3 = df3.dropna().iloc[0:p]\n",
    "df4 = df4.dropna().iloc[0:p]\n",
    "df5 = df5.dropna().iloc[0:p]"
   ]
  },
  {
   "cell_type": "code",
   "execution_count": null,
   "metadata": {},
   "outputs": [],
   "source": [
    "user = '803262'\n",
    "Imposters = ['472761','489146','990622','621276','856401']\n",
    "print \"User : \",user\n",
    "print \"Imposters : \", Imposters"
   ]
  },
  {
   "cell_type": "code",
   "execution_count": null,
   "metadata": {},
   "outputs": [],
   "source": [
    "y1 = [0 for i in range(len(df1))]\n",
    "y2 = [0 for i in range(len(df2))]\n",
    "y3 = [0 for i in range(len(df3))]\n",
    "y4 = [0 for i in range(len(df4))]\n",
    "y5 = [0 for i in range(len(df5))]\n",
    "y6 = [1 for i in range(len(df6))]\n",
    "\n",
    "y = y1+y2+y3+y4+y5+y6"
   ]
  },
  {
   "cell_type": "code",
   "execution_count": null,
   "metadata": {},
   "outputs": [],
   "source": [
    "X = pd.concat([df1,df2,df3,df4,df5,df6], axis=0)\n",
    "X.shape"
   ]
  },
  {
   "cell_type": "code",
   "execution_count": null,
   "metadata": {},
   "outputs": [],
   "source": [
    "X_train, X_test, y_train, y_test = train_test_split(X, y,stratify=y,random_state=42, test_size=0.15)"
   ]
  },
  {
   "cell_type": "code",
   "execution_count": null,
   "metadata": {},
   "outputs": [],
   "source": [
    "from sklearn.neural_network import MLPClassifier\n",
    "clf = MLPClassifier( alpha=1e-4,\n",
    "                    hidden_layer_sizes=(15,35,10), random_state=1,verbose = True,max_iter=600)\n",
    "\n",
    "clf.fit(X_train, y_train)                         "
   ]
  },
  {
   "cell_type": "code",
   "execution_count": null,
   "metadata": {},
   "outputs": [],
   "source": [
    "y_pred = clf.predict(X_test)"
   ]
  },
  {
   "cell_type": "code",
   "execution_count": null,
   "metadata": {},
   "outputs": [],
   "source": [
    "(y_pred==np.array(y_test)).mean()"
   ]
  },
  {
   "cell_type": "code",
   "execution_count": null,
   "metadata": {},
   "outputs": [],
   "source": [
    "scipy.io.savemat('856401.mat', mdict={'X_train': X_train.values,\n",
    "                                   'X_test':X_test.values,\n",
    "                                   'Y_train':y_train,\n",
    "                                    'Y_test': y_test})"
   ]
  },
  {
   "cell_type": "code",
   "execution_count": null,
   "metadata": {},
   "outputs": [],
   "source": [
    "from sklearn.metrics import roc_curve, auc\n",
    "fpr, tpr, threshold = roc_curve(y_test, y_pred, pos_label=1)\n",
    "fnr = 1 - tpr\n",
    "EER = fpr[np.nanargmin(np.absolute((fnr - fpr)))]\n",
    "EER"
   ]
  },
  {
   "cell_type": "code",
   "execution_count": null,
   "metadata": {},
   "outputs": [],
   "source": [
    "fnr[np.nanargmin(np.absolute((fnr - fpr)))]"
   ]
  },
  {
   "cell_type": "code",
   "execution_count": null,
   "metadata": {},
   "outputs": [],
   "source": []
  },
  {
   "cell_type": "code",
   "execution_count": null,
   "metadata": {},
   "outputs": [],
   "source": [
    "# from sklearn.decomposition import PCA\n",
    "# from sklearn.preprocessing import StandardScaler,MinMaxScaler\n",
    "# from sklearn.manifold import TSNE\n",
    "# from matplotlib import pyplot as plt\n",
    "\n",
    "# #x = MinMaxScaler(feature_range=(0, 1)).fit_transform(X_train[0:5000])\n",
    "# g = TSNE(n_components=2).fit_transform(X_train[0:5000])\n",
    "# X_pca = g#pca.transform(x)\n",
    "# target_ids = range(4)\n",
    "# y = y_train[0:5000]\n",
    "\n",
    "# plt.figure(figsize=(8, 8))\n",
    "# # for i, c, label in zip(target_ids, 'rgbc', target_ids):\n",
    "# #     plt.scatter(X_pca[y == i, 0], X_pca[y == i, 1],\n",
    "# #                c=c, label=label)\n",
    "# plt.scatter(X_pca[0:,0],X_pca[0:,1],y)\n",
    "# plt.legend()\n",
    "# plt.show()\n",
    "# X_pca"
   ]
  },
  {
   "cell_type": "code",
   "execution_count": null,
   "metadata": {},
   "outputs": [],
   "source": [
    "## ====================   classifier ============="
   ]
  },
  {
   "cell_type": "code",
   "execution_count": null,
   "metadata": {},
   "outputs": [],
   "source": [
    "import torch\n",
    "from torch.autograd import Variable\n",
    "import torch.nn as nn\n",
    "import torch.nn.functional as F"
   ]
  },
  {
   "cell_type": "code",
   "execution_count": null,
   "metadata": {},
   "outputs": [],
   "source": [
    "class Net(nn.Module):\n",
    "    def __init__(self):\n",
    "        super(Net, self).__init__()\n",
    "        self.fc1 = nn.Linear(1,1)\n",
    "    def forward(self, x):\n",
    "        x = self.fc1(x)\n",
    "        return x"
   ]
  },
  {
   "cell_type": "code",
   "execution_count": null,
   "metadata": {},
   "outputs": [],
   "source": [
    "        task_map = {1:1,7:1,13:1,\n",
    "                    2:2,8:2,14:2,20:2,\n",
    "                    3:3,9:3,15:3,21:3,\n",
    "                    4:4,10:4,16:4,22:4,\n",
    "                    5:5,11:5,17:5,23:5}"
   ]
  },
  {
   "cell_type": "code",
   "execution_count": null,
   "metadata": {},
   "outputs": [],
   "source": [
    "task_map[20]"
   ]
  },
  {
   "cell_type": "code",
   "execution_count": null,
   "metadata": {},
   "outputs": [],
   "source": [
    "from sklearn import datasets\n",
    "iris = datasets.load_iris()\n",
    "X = iris.data\n",
    "y = iris.target"
   ]
  },
  {
   "cell_type": "code",
   "execution_count": null,
   "metadata": {},
   "outputs": [],
   "source": [
    "from sklearn.decomposition import PCA\n",
    "pca = PCA(n_components=2, whiten=True)\n",
    "pca.fit(X)"
   ]
  },
  {
   "cell_type": "code",
   "execution_count": null,
   "metadata": {},
   "outputs": [],
   "source": [
    "X_pca = pca.transform(X)"
   ]
  },
  {
   "cell_type": "code",
   "execution_count": null,
   "metadata": {},
   "outputs": [],
   "source": [
    "target_ids = range(4)\n",
    "target_ids"
   ]
  },
  {
   "cell_type": "code",
   "execution_count": null,
   "metadata": {},
   "outputs": [],
   "source": [
    "from matplotlib import pyplot as plt\n",
    "plt.figure(figsize=(6, 5))\n",
    "for i, c, label in zip(target_ids, 'rgbcmykw', iris.target_names):\n",
    "    plt.scatter(X_pca[y == i, 0], X_pca[y == i, 1],\n",
    "               c=c, label=label)\n",
    "plt.legend()\n",
    "plt.show()"
   ]
  },
  {
   "cell_type": "code",
   "execution_count": null,
   "metadata": {},
   "outputs": [],
   "source": [
    "iris.target_names"
   ]
  },
  {
   "cell_type": "code",
   "execution_count": null,
   "metadata": {},
   "outputs": [],
   "source": []
  }
 ],
 "metadata": {
  "kernelspec": {
   "display_name": "Python 2",
   "language": "python",
   "name": "python2"
  },
  "language_info": {
   "codemirror_mode": {
    "name": "ipython",
    "version": 2
   },
   "file_extension": ".py",
   "mimetype": "text/x-python",
   "name": "python",
   "nbconvert_exporter": "python",
   "pygments_lexer": "ipython2",
   "version": "2.7.15rc1"
  }
 },
 "nbformat": 4,
 "nbformat_minor": 2
}
