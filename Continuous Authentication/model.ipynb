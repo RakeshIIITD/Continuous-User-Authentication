{
 "cells": [
  {
   "cell_type": "code",
   "execution_count": 1,
   "metadata": {},
   "outputs": [],
   "source": [
    "import os\n",
    "os.environ['KERAS_BACKEND'] = 'theano'\n",
    "import numpy as np"
   ]
  },
  {
   "cell_type": "code",
   "execution_count": 2,
   "metadata": {},
   "outputs": [
    {
     "name": "stderr",
     "output_type": "stream",
     "text": [
      "Using Theano backend.\n"
     ]
    }
   ],
   "source": [
    "import keras"
   ]
  },
  {
   "cell_type": "code",
   "execution_count": 3,
   "metadata": {},
   "outputs": [],
   "source": [
    "from keras.models import Sequential, Model\n",
    "from keras.layers import Dense, Activation, Input, Dropout\n",
    "from keras.optimizers import SGD, Adam\n",
    "from keras.callbacks import Callback\n",
    "import keras.backend as K\n",
    "import time"
   ]
  },
  {
   "cell_type": "code",
   "execution_count": null,
   "metadata": {},
   "outputs": [],
   "source": [
    "val_acc =[]\n",
    "train_acc =[]\n",
    "\n",
    "def get_metrics():\n",
    "    return train_acc,val_acc"
   ]
  },
  {
   "cell_type": "code",
   "execution_count": 4,
   "metadata": {},
   "outputs": [],
   "source": [
    "def get_data(config):\n",
    "    config['output_size'] = 2\n",
    "    if config['data'] == 'syn8':\n",
    "        config['input_size'] = (50,)\n",
    "    elif config['data'] == 'higgs':\n",
    "        config['input_size'] = (20,)\n",
    "    elif config['data'] == 'susy':\n",
    "        config['input_size'] = (18,)\n",
    "    elif config['data'] in ['cd6','cd7']:\n",
    "        config['input_size'] = (50,)\n",
    "    elif config['data'] in ['cd3','cd4']:\n",
    "        config['input_size'] = (25,)\n",
    "    elif config['data']=='out':\n",
    "        config['input_size'] = (20,)\n",
    "    elif config['data']=='out100':\n",
    "        config['input_size'] = (20,)\n",
    "    elif config['data']=='out_touchevent':\n",
    "        config['input_size'] = (13,)\n",
    "    elif config['data']=='all':\n",
    "        config['input_size'] = (32,)\n",
    "    elif config['data']=='all_21':\n",
    "        config['input_size'] = (21,)\n",
    "    return config"
   ]
  },
  {
   "cell_type": "code",
   "execution_count": 5,
   "metadata": {},
   "outputs": [],
   "source": [
    "def build_model(config):\n",
    "    config = get_data(config)\n",
    "\n",
    "    base_name = 'out'\n",
    "    if config['hedge'] == True:\n",
    "        outs = ['']*config['n_layers']\n",
    "        out_name = ['']*config['n_layers']\n",
    "        N = config['n_layers']\n",
    "        for i in range(len(outs)):\n",
    "            outs[i] = base_name + str(i)\n",
    "            out_name[i] = base_name + str(i)\n",
    "    else:\n",
    "        outs = base_name\n",
    "        out_name = [base_name]\n",
    "        N = config['n_layers'] - 1\n",
    "    in_name = 'in0'\n",
    "\n",
    "    inputs = Input(config['input_size'], name = in_name)\n",
    "    \n",
    "    for j in range(N):\n",
    "        if j == 0:\n",
    "            layer = Dense(config['hidden_num'])(inputs)\n",
    "            layer = Activation(config['activation'])(layer)\n",
    "\n",
    "            if config['hedge'] == True:\n",
    "                outs[j] = Dense(config['output_size'], activation = 'softmax', name = outs[j])(layer)\n",
    "            continue\n",
    "        layer = Dense(config['hidden_num'])(layer)\n",
    "        layer = Activation(config['activation'])(layer)\n",
    "        \n",
    "        if config['hedge'] == True:\n",
    "            outs[j] = Dense(config['output_size'], activation = 'softmax', name = outs[j])(layer)\n",
    "    if config['hedge'] == False:\n",
    "        outs = Dense(config['output_size'], activation = 'softmax', name = outs)(layer)\n",
    "    model = Model(input = inputs , output = outs)\n",
    "\n",
    "    return (model, in_name, out_name)"
   ]
  },
  {
   "cell_type": "code",
   "execution_count": 6,
   "metadata": {},
   "outputs": [],
   "source": [
    "def list_convert(x):\n",
    "    try:\n",
    "        l = x.tolist()\n",
    "    except AttributeError:\n",
    "        l = x\n",
    "    return l\n",
    "# add self.masks, self.weighted_losses"
   ]
  },
  {
   "cell_type": "code",
   "execution_count": 7,
   "metadata": {},
   "outputs": [],
   "source": [
    "class MyCallback(Callback):\n",
    "    def __init__(self,w,  beta = 0.99,  names = [], hedge = False, log_name = 'exp'):\n",
    "        self.weights = w\n",
    "        self.beta = beta\n",
    "        self.names = names\n",
    "        self.l = []\n",
    "        self.hedge = hedge\n",
    "        self.accs = []\n",
    "        self.logs = dict()\n",
    "        self.log_name = log_name + '.log'\n",
    "        self.acc = []\n",
    "        #self.x_test = X_test\n",
    "        #self.y_test = Y_test\n",
    "        \n",
    "    def on_train_begin(self,logs = {}):\n",
    "        self.logs['weights'] = []\n",
    "        \n",
    "    def on_batch_end(self, batch, logs = {},y_true=None,y_pred=None):\n",
    "        \n",
    "        #print self.model.test_on_batch(self.x_test, self.y_test)\n",
    "        \n",
    "        self.l.append(logs.get('loss'))\n",
    "        if self.hedge:\n",
    "            self.acc.append(logs.get('weighted_acc'))\n",
    "        else:\n",
    "            self.acc.append(logs.get('acc'))\n",
    "        losses = [logs[name] for name in self.names]\n",
    "        '''\n",
    "        for k in logs.keys():\n",
    "            if k not in self.logs.keys():\n",
    "                self.logs[k] = [list_convert(logs[k])]\n",
    "            else:\n",
    "                self.logs[k].append(list_convert(logs[k]))\n",
    "        self.logs['weights'].append(list_convert(self.weights))\n",
    "        '''\n",
    "        #train_acc.append(logs['weighted_acc'])\n",
    "        #print logs.keys()\n",
    "            \n",
    "        if self.hedge:\n",
    "\n",
    "            M = sum(losses)\n",
    "            losses = [loss / M for loss in losses]\n",
    "            min_loss = np.amin(losses)\n",
    "            max_loss = np.amax(losses)\n",
    "            range_of_loss = max_loss - min_loss\n",
    "            losses = [(loss-min_loss)/range_of_loss for loss in losses]\n",
    "\n",
    "            alpha = [self.beta ** loss for loss in losses]\n",
    "            \n",
    "            try:\n",
    "                alpha = [a * w for a, w in zip(alpha, self.weights)]\n",
    "            except ValueError:\n",
    "                pass\n",
    "           \n",
    "            alpha = [ max(0.01, a) for a in alpha]\n",
    "            M = sum(alpha)\n",
    "            alpha = [a / M for a in alpha]\n",
    "            \n",
    "            self.weights = alpha \n",
    "    def on_batch_begin(self, epoch, logs={}):\n",
    "        self.model.holder = (self.weights)\n",
    "    \n",
    "    def on_train_end(self, logs = {}):\n",
    "        \n",
    "        with open(self.log_name, 'w') as f:\n",
    "            keys = sorted(self.logs.keys())\n",
    "            f.write(' '.join(str(k) for k in keys) + '\\n')\n",
    "            #print self.logs['weights']\n",
    "            L = len(self.logs[keys[0]])\n",
    "            for j in range(L):\n",
    "                for k in keys:\n",
    "                    print self.logs[k][j]\n",
    "                    if k == 'weights':\n",
    "                        f.write('[' + ','.join(str(ww) for ww in self.logs[k][j]) + ']')\n",
    "                    else:\n",
    "                        f.write(str(self.logs[k][j]) + ' ')\n",
    "                f.write('\\n')\n",
    "    "
   ]
  },
  {
   "cell_type": "code",
   "execution_count": null,
   "metadata": {},
   "outputs": [],
   "source": [
    "print \"Model Loaded\""
   ]
  }
 ],
 "metadata": {
  "kernelspec": {
   "display_name": "Python 2",
   "language": "python",
   "name": "python2"
  },
  "language_info": {
   "codemirror_mode": {
    "name": "ipython",
    "version": 2
   },
   "file_extension": ".py",
   "mimetype": "text/x-python",
   "name": "python",
   "nbconvert_exporter": "python",
   "pygments_lexer": "ipython2",
   "version": "2.7.15rc1"
  }
 },
 "nbformat": 4,
 "nbformat_minor": 2
}
